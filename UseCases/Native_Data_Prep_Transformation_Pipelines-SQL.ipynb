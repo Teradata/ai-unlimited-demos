{
 "cells": [
  {
   "cell_type": "markdown",
   "id": "distinct-litigation",
   "metadata": {},
   "source": [
    "<header>\n",
    "   <p  style='font-size:36px;font-family:Arial; color:#F0F0F0; background-color: #00233c; padding-left: 20pt; padding-top: 20pt;padding-bottom: 10pt; padding-right: 20pt;'>\n",
    "       Data Preparation Piplelines for Machine Learning using Teradata AI Unlimited\n",
    "  <br>\n",
    "       <img id=\"teradata-logo\" src=\"https://raw.githubusercontent.com/Teradata/lake-demos/8c77e9297e8f3059921aee472fc0ae30ae0537db/images/TeradataLogo.png\" alt=\"Teradata\" style=\"width: 125px; height: auto; margin-top: 20pt;\">\n",
    "    </p>\n",
    "</header>\n",
    "<hr>"
   ]
  },
  {
   "cell_type": "markdown",
   "id": "greater-range",
   "metadata": {},
   "source": [
    "<br>\n",
    "\n",
    "<b style = 'font-size:24px;font-family:Arial;color:#00233C'>Leverage native Vantage processing for efficient and highly scalable data preparation, model training, and evaluation workflows</b>\n",
    "\n",
    "\n",
    "<p style = 'font-size:16px;font-family:Arial;color:#00233'>Data preparation and tranformation tasks are one of the most time and labor-intensive steps in the ML and AI development lifecycle.  Made even more challenging is that once development is complete, all of these tasks must be replicated or migrated into a producion-ready system that will support operational SLAs, performance and concurrency requirements.</p>\n",
    "\n",
    "<p style = 'font-size:16px;font-family:Arial;color:#00233'><b>Teradata AI Unlimited</b> provides a flexible, on-demand architecture that runs the industry-leading Teradata Vantage, which allows for advanced data processing ML/AI, and analytics at <b>any</b> scale.  Fuerthermore, users can apply the broadest set of native processing functions to their data, which simplifies the amount of code that needs to be maintained.  Finally, since this same software runs in the cloud-native VantageCloud Lake platform, developers can seamlessly migrate all artifacts directly into production.</p>\n",
    "\n",
    "<p style = 'font-size:16px;font-family:Arial;color:#00233'><b>This demonstration notebook</b> will walk the user through an example ML workflow that requires heavy data preparation.  To aid in these laborious tasks, Teradata provides native \"Fit and Transform\" functions to assist in data preparation and transformation at scale.  To aid in efficiency and operationalization, Vantage provides a bulk <b>Column Transformer</b> function which can take multiple transformation directives at the same time, and act on the whole data set at once.  This allows for both process and code simplifcation, allowing more streamlined and robust operational deployment.</p> \n",
    "\n",
    "<img src = 'https://raw.githubusercontent.com/Teradata/lake-demos/6d68a7ce0de9c26c8429d7a1f84aa47de6cccec1/UseCases/Native-KMeans/Flow_Diagram_KMeans.png' width = 100%>\n",
    "\n",
    "<p style = 'font-size:16px;font-family:Arial;color:#00233C'>In order to complete the use case, the user will take this data, and pass it to traditional machine learning and evaluation process.  <b>K-means clustering</b> is one of the most popular <b>unsupervised</b> machine learning algorithms.  Essentially, the algorithm seeks to group similar data points together by minimizing the average (\"means\" in K-means) distance for all data points from each cluster's center (centroid).</p>\n",
    "\n",
    "<table style = 'width:100%;table-layout:fixed;color:#00233C'>\n",
    "    <tr>\n",
    "        <td style = 'vertical-align:top' width = '50%'>\n",
    "            <ol style = 'font-size:16px;font-family:Arial'>\n",
    "                <li>Define the number of clusters (k)</li>\n",
    "                <br>\n",
    "                <li>The algorithm chooses random points as centroids</li>\n",
    "                <br>\n",
    "                <li>Each iteration attempts to optimize the centroid locations</li>\n",
    "                <br>\n",
    "                <li>Iterations end once the distances have stabilized or the max iteration count is reached</li>\n",
    "            </ol>\n",
    "        </td>\n",
    "        <td><img src = 'https://raw.githubusercontent.com/Teradata/lake-demos/6d68a7ce0de9c26c8429d7a1f84aa47de6cccec1/UseCases/Native-KMeans/images/K-means_convergence.gif' width = '250'></td>\n",
    "    </tr>\n",
    "</table>\n",
    "\n",
    "<p style = 'font-size:16px;font-family:Arial'>One limitation of this algorithm is that it only accepts numeric data as feature input (categorical clustering can be performed using K-modes algorithm).  Typically, data engineers or data scientists will perform multiple <b>serial</b> steps to prepare a numeric-only data set that can be passed to the K-means algorithm.</p>\n",
    "\n",
    "\n",
    "\n",
    "<hr>"
   ]
  },
  {
   "cell_type": "markdown",
   "id": "threaded-single",
   "metadata": {},
   "source": [
    "<b style = 'font-size:24px;font-family:Arial;color:#00233C'>Live Demonstration</b>\n",
    "\n",
    "<p style = 'font-size:16px;font-family:Arial;color:#00233C'>The data for this demonstration is based on online purchase history data set, which can be found <a href = 'https://www.kaggle.com/code/hellbuoy/online-retail-k-means-hierarchical-clustering/data'>here</a>.  The goal is to segment the customers by purchase volume and value.  Steps are as follow:</p>\n",
    "\n",
    "<table style = 'width:100%;table-layout:fixed;color:#00233C'>\n",
    "    <tr>\n",
    "        <td style = 'vertical-align:top' width = '50%'>\n",
    "            <ol style = 'font-size:16px;font-family:Arial;color:#00233C'>\n",
    "                <li>Analyze the raw data, split a testing set</li>\n",
    "                <br>\n",
    "                <li>Engineer numeric features</li>\n",
    "                <br>\n",
    "                <li>Build the K-means model</li>\n",
    "                <br>\n",
    "                <li>Apply in-line transformation to the testing set</li>\n",
    "                <br>\n",
    "                <li>Make Predictions and evaluate model accuracy</li>\n",
    "            </ol>\n",
    "        </td>\n",
    "        <td><img src = 'https://raw.githubusercontent.com/Teradata/lake-demos/6d68a7ce0de9c26c8429d7a1f84aa47de6cccec1/UseCases/Native-KMeans/images/clustering_img.png' width = '250'></td>\n",
    "    </tr>\n",
    "</table>"
   ]
  },
  {
   "cell_type": "code",
   "execution_count": null,
   "id": "beneficial-selling",
   "metadata": {},
   "outputs": [],
   "source": [
    "%connect unlimited"
   ]
  },
  {
   "cell_type": "markdown",
   "id": "freelance-commerce",
   "metadata": {},
   "source": [
    "<hr>\n",
    "<p style = 'font-size:20px;font-family:Arial;color:#00233C'><b>Step 0 - Access and inspect data</b></p>\n",
    "\n",
    "<p style = 'font-size:16px;font-family:Arial;color:#00233C'>Teradata AI Unlimited can transparently <b>read</b> and <b>write</b> data from various third-party catalogs such as <b>AWS Glue</b>, <b>Azure OneLake</b>, etc.  To access this data, perform the following</p>\n",
    "\n",
    "<ol style = 'font-size:16px;font-family:Arial;color:#00233C'>\n",
    "    <li>Create an Authorization object for secured access</li>\n",
    "    <li>create a \"DATALAKE\" object that points to the catalog</li>\n",
    "    <li>Use SQL syntax to inspect the catalog, database, and table metadata</li>\n",
    "    </ol>\n",
    "    "
   ]
  },
  {
   "cell_type": "code",
   "execution_count": null,
   "id": "looking-right",
   "metadata": {},
   "outputs": [],
   "source": [
    "/*First, we'll create an authorization to establish the credendials for AWS resources */\n",
    "REPLACE AUTHORIZATION unlimited.glue_auth_aws\n",
    "USER 'EXAMPLE'\n",
    "PASSWORD 'EXAMPLE';"
   ]
  },
  {
   "cell_type": "code",
   "execution_count": null,
   "id": "complicated-drill",
   "metadata": {},
   "outputs": [],
   "source": [
    "/*Second we create the connectivity to the Iceberg Glue Data Lake*/\n",
    "\n",
    "REPLACE DATALAKE aws_glue_catalog\n",
    "EXTERNAL SECURITY CATALOG unlimited.glue_auth_aws,\n",
    "EXTERNAL SECURITY STORAGE unlimited.glue_auth_aws\n",
    "USING\n",
    "    catalog_type ('glue')\n",
    "    storage_region ('us-west-2')\n",
    "TABLE FORMAT iceberg;"
   ]
  },
  {
   "cell_type": "code",
   "execution_count": null,
   "id": "underlying-portuguese",
   "metadata": {},
   "outputs": [],
   "source": [
    "HELP DATALAKE aws_glue_catalog;"
   ]
  },
  {
   "cell_type": "code",
   "execution_count": null,
   "id": "relevant-package",
   "metadata": {},
   "outputs": [],
   "source": [
    "HELP DATABASE aws_glue_catalog.tddemos_glue_db;"
   ]
  },
  {
   "cell_type": "code",
   "execution_count": null,
   "id": "healthy-gathering",
   "metadata": {},
   "outputs": [],
   "source": [
    "HELP TABLE aws_glue_catalog.tddemos_glue_db.uk_retail_data;"
   ]
  },
  {
   "cell_type": "markdown",
   "id": "virgin-woman",
   "metadata": {},
   "source": [
    "<hr>\n",
    "<p style = 'font-size:20px;font-family:Arial;color:#00233C'><b>Step 1 - Data Preparation</b></p>\n",
    "\n",
    "<p style = 'font-size:16px;font-family:Arial;color:#00233C'>Here, we will inspect the original data set, and perform various preparation tasks.</p>\n",
    "\n",
    "<ol style = 'font-size:16px;font-family:Arial;color:#00233C'>\n",
    "    <li>Inspect the rows of the table</li>\n",
    "    <li>Inspect the column metadata using <a href = 'https://docs.teradata.com/r/Teradata-VantageCloud-Lake/Analyzing-Your-Data/Analytics-Database-Analytic-Functions/Data-Exploration-Functions/TD_ColumnSummary'>TD_ColumnSummary</a></li>\n",
    "    <li>Split off a testing data set to be used in evaluation</li>\n",
    "    </ol>\n",
    "    "
   ]
  },
  {
   "cell_type": "markdown",
   "id": "balanced-public",
   "metadata": {},
   "source": [
    "<hr>\n",
    "<b style = 'font-size:18px;font-family:Arial;color:#00233C'>1.1 - Inspect the Data</b>\n",
    "\n",
    "<p style = 'font-size:16px;font-family:Arial;color:#00233C'>Simple SQL query to show the data</p>"
   ]
  },
  {
   "cell_type": "code",
   "execution_count": null,
   "id": "convertible-trance",
   "metadata": {},
   "outputs": [],
   "source": [
    "SELECT TOP 5 * FROM aws_glue_catalog.tddemos_glue_db.uk_retail_data;"
   ]
  },
  {
   "cell_type": "markdown",
   "id": "quality-stevens",
   "metadata": {},
   "source": [
    "<hr>\n",
    "<b style = 'font-size:18px;font-family:Arial;color:#00233C'>1.2 View Column information</b>\n",
    "\n",
    "<p style = 'font-size:16px;font-family:Arial;color:#00233C'><a href = 'https://docs.teradata.com/r/Teradata-VantageCloud-Lake/Analyzing-Your-Data/Analytics-Database-Analytic-Functions/Data-Exploration-Functions/TD_ColumnSummary'>TD_ColumnSummary</a> provides more details on column values and ranges</p>"
   ]
  },
  {
   "cell_type": "code",
   "execution_count": null,
   "id": "lucky-battlefield",
   "metadata": {},
   "outputs": [],
   "source": [
    "SELECT * FROM TD_ColumnSummary(\n",
    "    ON aws_glue_catalog.tddemos_glue_db.uk_retail_data as InputTable\n",
    "    USING\n",
    "        targetcolumns('[0:7]')\n",
    ") as dt;"
   ]
  },
  {
   "cell_type": "markdown",
   "id": "radio-mountain",
   "metadata": {},
   "source": [
    "<hr>\n",
    "<b style = 'font-size:18px;font-family:Arial;color:#00233C'>1.3 Create a Testing data set</b>\n",
    "\n",
    "<p style = 'font-size:16px;font-family:Arial;color:#00233C'>Manufactured example - select several \"Customer ID\" values for testing later.  Materialize the data to a local temporary table for consistency and repeatability.</p>"
   ]
  },
  {
   "cell_type": "code",
   "execution_count": null,
   "id": "indoor-penguin",
   "metadata": {},
   "outputs": [],
   "source": [
    "/* No need to drop this table unless rerunning using the same session */\n",
    "DROP TABLE UK_Retail_Test"
   ]
  },
  {
   "cell_type": "code",
   "execution_count": null,
   "id": "complicated-egyptian",
   "metadata": {},
   "outputs": [],
   "source": [
    "CREATE VOLATILE TABLE UK_Retail_Test AS (\n",
    "    SELECT * FROM aws_glue_catalog.tddemos_glue_db.uk_retail_data\n",
    "    WHERE CustomerID IN ('17307', '12503', '18268', '12908', '13693')\n",
    ") WITH DATA\n",
    "ON COMMIT PRESERVE ROWS;"
   ]
  },
  {
   "cell_type": "markdown",
   "id": "certified-refrigerator",
   "metadata": {},
   "source": [
    "<hr>\n",
    "<p style = 'font-size:20px;font-family:Arial;color:#00233C'><b>Step 2 - Feature Engineering</b></p>\n",
    "\n",
    "<p style = 'font-size:16px;font-family:Arial;color:#00233C'>This section will illustrate how to prepare the data set for model training.  We will use standard SQL and various \"Fit\" functions to create input for the <a href = 'https://docs.teradata.com/r/Teradata-VantageCloud-Lake/Analyzing-Your-Data/Analytics-Database-Analytic-Functions/Feature-Engineering-Transform-Functions/TD_ColumnTransformer'>TD_ColumnTransformer</a> function to take as input in order to execute a bulk transformation.</p>\n",
    "\n",
    "<ol style = 'font-size:16px;font-family:Arial;color:#00233C'>\n",
    "    <li>Create a per-customer grouping of data</li>\n",
    "    <li>Create Fit Tables\n",
    "        <ul><li>Remove Outliers</li>\n",
    "            <li>Impute Missing Values</li>\n",
    "            <li>Create New Numeric Features</li>\n",
    "            <li>Rescale the Data Set</li>\n",
    "        </ul></li>\n",
    "    <li>Call the final Transformation function</li>\n",
    "    </ol>"
   ]
  },
  {
   "cell_type": "markdown",
   "id": "disturbed-walter",
   "metadata": {},
   "source": [
    "<hr>\n",
    "<b style = 'font-size:18px;font-family:Arial;color:#00233C'>2.1 - Create a per-customer table</b>\n",
    "\n",
    "<p style = 'font-size:16px;font-family:Arial;color:#00233C'>Simple GROUP BY, exclude the testing IDs.  Note there are 4367 unique customers in this training set.</p>"
   ]
  },
  {
   "cell_type": "code",
   "execution_count": null,
   "id": "effective-medication",
   "metadata": {},
   "outputs": [],
   "source": [
    "DROP TABLE Customer_ID_Group"
   ]
  },
  {
   "cell_type": "code",
   "execution_count": null,
   "id": "coordinate-china",
   "metadata": {},
   "outputs": [],
   "source": [
    "CREATE VOLATILE TABLE Customer_ID_Group AS (\n",
    "    SELECT CustomerID,\n",
    "        SUM(quantity) as TotalQuantity , \n",
    "        SUM(UnitPrice) as TotalPrice, \n",
    "        COUNT(DISTINCT(CAST(StockCode as varchar(100)))) as TotalItems \n",
    "    FROM aws_glue_catalog.tddemos_glue_db.uk_retail_data\n",
    "    WHERE CustomerID NOT IN ('17307', '12503', '18268', '12908', '13693')\n",
    "    GROUP BY CustomerID\n",
    ") WITH DATA\n",
    "ON COMMIT PRESERVE ROWS;"
   ]
  },
  {
   "cell_type": "code",
   "execution_count": null,
   "id": "packed-detail",
   "metadata": {},
   "outputs": [],
   "source": [
    "SELECT COUNT(*) FROM Customer_ID_Group;"
   ]
  },
  {
   "cell_type": "markdown",
   "id": "impossible-research",
   "metadata": {},
   "source": [
    "<hr>\n",
    "<b style = 'font-size:18px;font-family:Arial;color:#00233C'>2.2 Create Fit Tables</b>\n",
    "\n",
    "<p style = 'font-size:16px;font-family:Arial;color:#00233C'>Vantage <a href = 'https://docs.teradata.com/r/Teradata-VantageCloud-Lake/Analyzing-Your-Data/Analytics-Database-Analytic-Functions/Feature-Engineering-Transform-Functions'>Feature Engineering Transform Functions</a> Use a \"Fit and Transform\" approach to make processing more modular and efficient.  \"Fit tables\" can be used as input to either individual Transform functions, or passed to a single <a href = 'https://docs.teradata.com/r/Teradata-VantageCloud-Lake/Analyzing-Your-Data/Analytics-Database-Analytic-Functions/Feature-Engineering-Transform-Functions/TD_ColumnTransformer'>TD_ColumnTransformer</a> function.</p>\n",
    "\n",
    "<b style = 'font-size:18px;font-family:Arial;color:#00233C'>Persisting fit tables for operational deployment</b>\n",
    "<p style = 'font-size:16px;font-family:Arial;color:#00233C'>Persisting this data to an external catalog is simple.  Standard \"CREATE TABLE\" syntax is used, the only modification is that the expression points to the external table using multi-dot notation.</p>\n",
    "\n",
    "<table style = 'width:100%;table-layout:fixed;'>\n",
    "    <tr>\n",
    "        <td style = 'vertical-align:top' width = '50%'>\n",
    "<ul style = 'font-size:16px;font-family:Arial;color:#00233C'>\n",
    "    <li>Fit outlier removal using <a href = 'https://docs.teradata.com/r/Teradata-VantageCloud-Lake/Analyzing-Your-Data/Analytics-Database-Analytic-Functions/Data-Cleaning-Functions/TD_OutlierFilterFit'>TD_OutlierFilterFit</a></li>\n",
    "    <li>Fit a simple imputer to replace missing values using <a href = 'https://docs.teradata.com/r/Teradata-VantageCloud-Lake/Analyzing-Your-Data/Analytics-Database-Analytic-Functions/Data-Cleaning-Functions/TD_SimpleImputeFit'>TD_SimpleImputeFit</a></li>\n",
    "    <li>Fit column calculations to create new features using <a href = 'https://docs.teradata.com/r/Teradata-VantageCloud-Lake/Analyzing-Your-Data/Analytics-Database-Analytic-Functions/Data-Cleaning-Functions/TD_NonLinearCombineFit'>TD_NonLinearCombineFit</a></li>\n",
    "    <li>Call <a href = 'https://docs.teradata.com/r/Teradata-VantageCloud-Lake/Analyzing-Your-Data/Analytics-Database-Analytic-Functions/Data-Cleaning-Functions/TD_ColumnTransformer'>TD_ColumnTransformer</a> to execute the transformations (to allow for Scaling)</li>\n",
    "    <li>Rescale the data using <a href = 'https://docs.teradata.com/r/Teradata-VantageCloud-Lake/Analyzing-Your-Data/Analytics-Database-Analytic-Functions/Data-Cleaning-Functions/TD_ScaleFit'>TD_ScaleFit/Transform</a></li>\n",
    "            </ul></td>\n",
    "        <td><img src = 'https://raw.githubusercontent.com/Teradata/lake-demos/6d68a7ce0de9c26c8429d7a1f84aa47de6cccec1/UseCases/Native-KMeans/images/fit_transform.png' width = '300'></td>\n",
    "    </tr>\n",
    "    </table>"
   ]
  },
  {
   "cell_type": "code",
   "execution_count": null,
   "id": "amended-saskatchewan",
   "metadata": {},
   "outputs": [],
   "source": [
    "DROP TABLE OutlierFit_CS"
   ]
  },
  {
   "cell_type": "code",
   "execution_count": null,
   "id": "mathematical-stephen",
   "metadata": {},
   "outputs": [],
   "source": [
    "/*Remove Outliers\n",
    "Trim below 3rd, and above 97th percentile */\n",
    "\n",
    "CREATE VOLATILE TABLE OutlierFit_CS as (\n",
    "    SELECT * from TD_OutlierFilterFit(\n",
    "        ON Customer_ID_Group as inputTable\n",
    "        USING\n",
    "        TargetColumns('TotalQuantity','TotalPrice')\n",
    "        LowerPercentile(0.03)\n",
    "        UpperPercentile(0.97)\n",
    "        OutlierMethod('Percentile')\n",
    "        PercentileMethod('PercentileCont')\n",
    "        ReplacementValue('Median')\n",
    "    )as dt\n",
    ") WITH DATA\n",
    "ON COMMIT PRESERVE ROWS;"
   ]
  },
  {
   "cell_type": "code",
   "execution_count": null,
   "id": "charitable-basket",
   "metadata": {},
   "outputs": [],
   "source": [
    "DROP TABLE ImputeFit_CS"
   ]
  },
  {
   "cell_type": "code",
   "execution_count": null,
   "id": "liberal-playlist",
   "metadata": {},
   "outputs": [],
   "source": [
    "/*Impute Missing Values\n",
    "--Replace any missing CustomerID with a specific value*/\n",
    "\n",
    "CREATE VOLATILE TABLE ImputeFit_CS AS (\n",
    "    SELECT * FROM TD_SimpleImputeFit(\n",
    "        ON Customer_ID_Group AS InputTable\n",
    "        USING\n",
    "        ColsForLiterals('CustomerID')\n",
    "        Literals('19000')                                        \n",
    "    ) AS dt\n",
    ")WITH DATA\n",
    "ON COMMIT PRESERVE ROWS;"
   ]
  },
  {
   "cell_type": "code",
   "execution_count": null,
   "id": "documented-delta",
   "metadata": {},
   "outputs": [],
   "source": [
    "DROP TABLE NonLinearCombineFit_CS_TotalSales"
   ]
  },
  {
   "cell_type": "code",
   "execution_count": null,
   "id": "changed-ticket",
   "metadata": {},
   "outputs": [],
   "source": [
    "/*Create a new column by multiplying quantity and price */\n",
    "\n",
    "SELECT * FROM TD_NonLinearCombineFit (\n",
    "    ON Customer_ID_Group as InputTable\n",
    "    OUT VOLATILE TABLE OutputTable (NonLinearCombineFit_CS_TotalSales)\n",
    "    USING\n",
    "        TargetColumns ('TotalQuantity','TotalPrice')\n",
    "        Formula ('Y = X1*X0')\n",
    "        ResultColumn ('TotalSales')\n",
    ") AS dt;"
   ]
  },
  {
   "cell_type": "code",
   "execution_count": null,
   "id": "demonstrated-status",
   "metadata": {},
   "outputs": [],
   "source": [
    "DROP TABLE NonLinearCombineFit_CS_SalesPerItem"
   ]
  },
  {
   "cell_type": "code",
   "execution_count": null,
   "id": "joint-ireland",
   "metadata": {},
   "outputs": [],
   "source": [
    "/*Create another new column by diving the total sales by the number of unique items */\n",
    "\n",
    "SELECT * FROM TD_NonLinearCombineFit (\n",
    "   ON Customer_ID_Group AS InputTable\n",
    "   OUT VOLATILE TABLE OutputTable (NonLinearCombineFit_CS_SalesPerItem)\n",
    "   USING\n",
    "   TargetColumns ('TotalQuantity','TotalPrice','TotalItems')\n",
    "   Formula ('Y = (X0*X1)/X2')\n",
    "   ResultColumn ('SalesPerItem')\n",
    ") AS dt;"
   ]
  },
  {
   "cell_type": "code",
   "execution_count": null,
   "id": "rough-occurrence",
   "metadata": {},
   "outputs": [],
   "source": [
    "/*Execute ColumnTransformer to build the data set */\n",
    "\n",
    "REPLACE VIEW Transformed_Customer_ID_Group_V AS (\n",
    "    SELECT * from TD_ColumnTransformer(\n",
    "        ON Customer_ID_Group AS InputTable\n",
    "        \n",
    "        ON OutlierFit_CS AS OutlierFilterFitTable DIMENSION\n",
    "        ON ImputeFit_CS AS SimpleImputeFitTable DIMENSION\n",
    "        ON NonLinearCombineFit_CS_TotalSales AS NonLinearCombineFitTable DIMENSION\n",
    "        ON NonLinearCombineFit_CS_SalesPerItem as NonLinearCombineFitTable DIMENSION\n",
    "    )as dt\n",
    ")"
   ]
  },
  {
   "cell_type": "code",
   "execution_count": null,
   "id": "annoying-plymouth",
   "metadata": {},
   "outputs": [],
   "source": [
    "DROP TABLE ScaleFit_CS"
   ]
  },
  {
   "cell_type": "code",
   "execution_count": null,
   "id": "surprising-float",
   "metadata": {},
   "outputs": [],
   "source": [
    "/*ScaleFit/Transform to rescale the data */\n",
    "\n",
    "SELECT * FROM TD_ScaleFit(\n",
    "    ON Transformed_Customer_ID_Group_V AS InputTable\n",
    "    OUT VOLATILE TABLE OutputTable(ScaleFit_CS)\n",
    "    USING\n",
    "        TargetColumns('TotalQuantity','TotalItems','TotalPrice','TotalSales','SalesPerItem')\n",
    "        ScaleMethod('range')\n",
    ") as dt;"
   ]
  },
  {
   "cell_type": "code",
   "execution_count": null,
   "id": "acceptable-administrator",
   "metadata": {},
   "outputs": [],
   "source": [
    "REPLACE VIEW Scaled_Transformed_Customer_ID_Group_V AS (\n",
    "    SELECT * FROM TD_ScaleTransform(\n",
    "        ON Transformed_Customer_ID_Group_V AS InputTable\n",
    "        ON ScaleFit_CS as FitTable DIMENSION\n",
    "        USING\n",
    "            Accumulate('CustomerID')\n",
    "    )as dt\n",
    ")"
   ]
  },
  {
   "cell_type": "code",
   "execution_count": null,
   "id": "female-optics",
   "metadata": {},
   "outputs": [],
   "source": [
    "SELECT TOP 5 * FROM Scaled_Transformed_Customer_ID_Group_V"
   ]
  },
  {
   "cell_type": "markdown",
   "id": "fitting-rachel",
   "metadata": {
    "tags": []
   },
   "source": [
    "<hr>\n",
    "<p style = 'font-size:20px;font-family:Arial;color:#00233C'><b>Step 3 - Build the K-means Model</b></p>\n",
    "\n",
    "<p style = 'font-size:16px;font-family:Arial;color:#00233C'>As discussed above, the K-means algorithm takes a number of clusters \"k\", chooses a random starting point for each centroid, and iterates until a hard limit, or an optimium value is reached.</p>\n",
    "\n",
    "<p style = 'font-size:16px;font-family:Arial;color:#00233C'><b>Finding an Ideal value for K</b></p>\n",
    "<table style = 'width:100%;table-layout:fixed;'>\n",
    "    <tr>\n",
    "        <td style = 'vertical-align:top' width = '50%'>\n",
    "<p style = 'font-size:16px;font-family:Arial;color:#00233C'>The example below uses a value of 5 for the number of clusters to build the model against.  Typically, data scientists will build the model using various values for \"k\", and plot the \"WCSS\" (Within Cluster Sum-of-Squares) value on a series of each value chosen for k.  The \"elbow\" point (where the slope changes) is usually a good value for k.  <a href = 'https://docs.teradata.com/r/Teradata-VantageCloud-Lake/Analyzing-Your-Data/Analytics-Database-Analytic-Functions/Model-Training-Functions/TD_KMeans'>TD_KMeans</a> function will return this value as \"TotalWithinSS : ###\" as a row in the \"td_modelinfo_kmeans\" column.</p></td>\n",
    "        <td><img src = 'https://raw.githubusercontent.com/Teradata/lake-demos/6d68a7ce0de9c26c8429d7a1f84aa47de6cccec1/UseCases/Native-KMeans/images/WCSS_elbow.png' width = '300'></td>\n",
    "    </tr>\n",
    "    </table>\n",
    "\n",
    "<p style = 'font-size:16px;font-family:Arial;color:#00233C'><b>Other Function Parameters Include (but are not limited to)</b></p>\n",
    "<ul style = 'font-size:16px;font-family:Arial;color:#00233C'>\n",
    "    <li>Input Table</li>\n",
    "    <li>StopThreshold - The algorithm converges if the distance between the centroids from the previous iteration and the current iteration is less than the specified value.</li>\n",
    "    <li>MaxIterNum</li>Specify the maximum number of iterations for the K-means algorithm. The algorithm stops after performing the specified number of iterations even if the convergence criterion is not met.\n",
    "    </ul>"
   ]
  },
  {
   "cell_type": "code",
   "execution_count": null,
   "id": "inappropriate-finnish",
   "metadata": {},
   "outputs": [],
   "source": [
    "DROP TABLE KMeans_Model"
   ]
  },
  {
   "cell_type": "code",
   "execution_count": null,
   "id": "mental-greeting",
   "metadata": {},
   "outputs": [],
   "source": [
    "Select * from TD_KMeans (\n",
    "    ON Scaled_Transformed_Customer_ID_Group_V as InputTable\n",
    "    OUT VOLATILE TABLE ModelTable(KMeans_Model)\n",
    "    USING\n",
    "        IdColumn('CustomerID')\n",
    "        TargetColumns('TotalQuantity','TotalPrice','TotalItems','TotalSales','SalesPerItem')\n",
    "        StopThreshold(0.0395)\n",
    "        NumClusters(5)\n",
    "        MaxIterNum(500)\n",
    ")as dt;"
   ]
  },
  {
   "cell_type": "markdown",
   "id": "drawn-horizon",
   "metadata": {},
   "source": [
    "<hr>\n",
    "<p style = 'font-size:20px;font-family:Arial;color:#00233C'><b>Step 4 - Bulk Transformation</b></p>\n",
    "\n",
    "<p style = 'font-size:16px;font-family:Arial;color:#00233C'>Here, the Fit tables created above will be passed to a single <a href = 'https://docs.teradata.com/r/Teradata-VantageCloud-Lake/Analyzing-Your-Data/Analytics-Database-Analytic-Functions/Feature-Engineering-Transform-Functions/TD_ColumnTransformer'>TD_ColumnTransformer</a> function.  This is similar to an operational approach, where a single query will prepare new or incoming data for immediate analysis.</p>\n",
    "\n",
    "<img src = 'https://raw.githubusercontent.com/Teradata/lake-demos/6d68a7ce0de9c26c8429d7a1f84aa47de6cccec1/UseCases/Native-KMeans/images/column_transformer.png' width = '300'>"
   ]
  },
  {
   "cell_type": "code",
   "execution_count": null,
   "id": "specific-texas",
   "metadata": {},
   "outputs": [],
   "source": [
    "SELECT TOP 5 * FROM UK_Retail_Test"
   ]
  },
  {
   "cell_type": "code",
   "execution_count": null,
   "id": "happy-remedy",
   "metadata": {},
   "outputs": [],
   "source": [
    "/*Steps broken up above can be put together into a single query */\n",
    "\n",
    "REPLACE VIEW Scaled_Transformed_Test_V AS (\n",
    "    \n",
    "SELECT * FROM TD_ColumnTransformer(\n",
    "            /*Use our groupby inside the ON clause */\n",
    "            ON (SELECT CustomerID,\n",
    "                    SUM(quantity) as TotalQuantity , \n",
    "                    SUM(UnitPrice) as TotalPrice, \n",
    "                    COUNT(DISTINCT(CAST(StockCode as varchar(100)))) as TotalItems\n",
    "                FROM UK_Retail_Test\n",
    "                GROUP BY CustomerID\n",
    "                ) AS InputTable\n",
    "            \n",
    "            /*Pass each fit table from above as dimensions */\n",
    "            ON OutlierFit_CS AS OutlierFilterFitTable DIMENSION\n",
    "            ON ImputeFit_CS AS SimpleImputeFitTable DIMENSION\n",
    "            ON NonLinearCombineFit_CS_TotalSales AS NonLinearCombineFitTable DIMENSION\n",
    "            ON NonLinearCombineFit_CS_SalesPerItem AS NonLinearCombineFitTable DIMENSION\n",
    "            ON ScaleFit_CS as ScaleFitTable DIMENSION\n",
    "    )as dt\n",
    ")"
   ]
  },
  {
   "cell_type": "code",
   "execution_count": null,
   "id": "western-aluminum",
   "metadata": {},
   "outputs": [],
   "source": [
    "SELECT TOP 5 * FROM Scaled_Transformed_Test_V"
   ]
  },
  {
   "cell_type": "markdown",
   "id": "republican-advocate",
   "metadata": {},
   "source": [
    "<hr>\n",
    "<p style = 'font-size:20px;font-family:Arial;color:#00233C'><b>Step 5 - Predict and Evaluate</b></p>\n",
    "\n",
    "<p style = 'font-size:16px;font-family:Arial;color:#00233C'>Finally, we run the model against new (in this case testing) data using <a href = 'https://docs.teradata.com/r/Teradata-VantageCloud-Lake/Analyzing-Your-Data/Analytics-Database-Analytic-Functions/Model-Scoring-Functions/TD_KMeansPredict'>TD_KMeansPredict</a>.  The preparation step has been completed in a single query above.  Additionally, we will use an evaluation function <a href = 'https://docs.teradata.com/r/Teradata-VantageCloud-Lake/Analyzing-Your-Data/Analytics-Database-Analytic-Functions/Model-Evaluation-Functions/TD_Silhouette'>TD_Silhouette</a> to analyze how well the new cluster predictions match the original model.</p>\n",
    "\n",
    "<ol style = 'font-size:16px;font-family:Arial;color:#00233C'>\n",
    "    <li>Call TD_KMeansPredict</li>\n",
    "    <li>Inpect the results</li>\n",
    "    <li>Call TD_Silhouette on the output</li>\n",
    "    </ol>"
   ]
  },
  {
   "cell_type": "markdown",
   "id": "defined-singer",
   "metadata": {},
   "source": [
    "<hr>\n",
    "<b style = 'font-size:18px;font-family:Arial;color:#00233C'>5.1 - Call the Prediction Function</b>\n",
    "\n",
    "<p style = 'font-size:16px;font-family:Arial;color:#00233C'>Pass the Input Data, Model Table, and other parameters including columns to accumulate.  Note here we create a new View to assist with Silhouette analysis of the prediction.</p>"
   ]
  },
  {
   "cell_type": "code",
   "execution_count": null,
   "id": "ongoing-peace",
   "metadata": {},
   "outputs": [],
   "source": [
    "REPLACE VIEW KMeans_Output_V AS (\n",
    "    SELECT * FROM TD_KMeansPredict (\n",
    "        ON Scaled_Transformed_Test_V AS InputTable\n",
    "        ON KMeans_Model as ModelTable DIMENSION\n",
    "        USING\n",
    "            OutputDistance('true')\n",
    "            Accumulate('[1:5]')\n",
    "    )as dt\n",
    ")"
   ]
  },
  {
   "cell_type": "markdown",
   "id": "directed-laundry",
   "metadata": {},
   "source": [
    "<hr>\n",
    "<b style = 'font-size:18px;font-family:Arial;color:#00233C'>5.2 - Inspect the Results</b>\n",
    "\n",
    "<p style = 'font-size:16px;font-family:Arial;color:#00233C'>Simple SELECT</p>"
   ]
  },
  {
   "cell_type": "code",
   "execution_count": null,
   "id": "atomic-joseph",
   "metadata": {},
   "outputs": [],
   "source": [
    "SELECT TOP 5 * FROM KMeans_Output_V "
   ]
  },
  {
   "cell_type": "markdown",
   "id": "split-appendix",
   "metadata": {},
   "source": [
    "<hr>\n",
    "<b style = 'font-size:18px;font-family:Arial;color:#00233C'>5.3 - Evaluate the Prediction</b>\n",
    "\n",
    "<p style = 'font-size:16px;font-family:Arial;color:#00233C'><a href = 'https://docs.teradata.com/r/Teradata-VantageCloud-Lake/Analyzing-Your-Data/Analytics-Database-Analytic-Functions/Model-Evaluation-Functions/TD_Silhouette'>TD_Silhouette</a> is a native Vantage function that evaluates the similarity of an object to its cluster (cohesion) compared to other clusters (separation).  The silhouette scores and its definitions are as follows:</p>\n",
    "\n",
    "<ul style = 'font-size:16px;font-family:Arial;color:#00233C'>\n",
    "    <li>1: Data is appropriately clustered</li>\n",
    "    <li>-1: Data is not appropriately clustered</li>\n",
    "    <li>0: Datum is on the border of two natural clusters</li>\n",
    "    </ul>\n",
    "\n",
    "<p style = 'font-size:16px;font-family:Arial;color:#00233C'>See the documentation for a full listing of parameters and return values.</p>"
   ]
  },
  {
   "cell_type": "code",
   "execution_count": null,
   "id": "immune-parcel",
   "metadata": {},
   "outputs": [],
   "source": [
    "SELECT * FROM TD_Silhouette(\n",
    "    ON KMeans_Output_V as inputTable\n",
    "    USING\n",
    "        IdColumn('CustomerID')\n",
    "        ClusterIdColumn('td_clusterid_kmeans')\n",
    "        TargetColumns('[3:7]')\n",
    "        OutputType('SCORE')\n",
    ") as dt"
   ]
  },
  {
   "cell_type": "markdown",
   "id": "secure-helmet",
   "metadata": {},
   "source": [
    "<hr>\n",
    "<b style = 'font-size:18px;font-family:Arial;color:#00233C'>Clean Up</b>"
   ]
  },
  {
   "cell_type": "code",
   "execution_count": null,
   "id": "systematic-indonesia",
   "metadata": {},
   "outputs": [],
   "source": [
    "DROP TABLE UK_Retail_Test;"
   ]
  },
  {
   "cell_type": "code",
   "execution_count": null,
   "id": "smoking-architecture",
   "metadata": {},
   "outputs": [],
   "source": [
    "DROP TABLE Customer_ID_Group;"
   ]
  },
  {
   "cell_type": "code",
   "execution_count": null,
   "id": "roman-italy",
   "metadata": {},
   "outputs": [],
   "source": [
    "DROP VIEW Transformed_Customer_ID_Group_V;"
   ]
  },
  {
   "cell_type": "code",
   "execution_count": null,
   "id": "institutional-thunder",
   "metadata": {},
   "outputs": [],
   "source": [
    "DROP VIEW Scaled_Transformed_Customer_ID_Group_V;"
   ]
  },
  {
   "cell_type": "code",
   "execution_count": null,
   "id": "mental-bottom",
   "metadata": {},
   "outputs": [],
   "source": [
    "DROP VIEW Scaled_Transformed_Test_V;"
   ]
  },
  {
   "cell_type": "code",
   "execution_count": null,
   "id": "right-search",
   "metadata": {},
   "outputs": [],
   "source": [
    "DROP VIEW KMeans_Output_V;"
   ]
  },
  {
   "cell_type": "code",
   "execution_count": null,
   "id": "streaming-hungary",
   "metadata": {},
   "outputs": [],
   "source": [
    "DROP TABLE KMeans_Model;"
   ]
  },
  {
   "cell_type": "code",
   "execution_count": null,
   "id": "colored-breakdown",
   "metadata": {},
   "outputs": [],
   "source": [
    "DROP TABLE ScaleFit_CS;"
   ]
  },
  {
   "cell_type": "code",
   "execution_count": null,
   "id": "middle-intro",
   "metadata": {},
   "outputs": [],
   "source": [
    "DROP TABLE NonLinearCombineFit_CS_SalesPerItem;"
   ]
  },
  {
   "cell_type": "code",
   "execution_count": null,
   "id": "altered-helmet",
   "metadata": {},
   "outputs": [],
   "source": [
    "DROP TABLE NonLinearCombineFit_CS_TotalSales;"
   ]
  },
  {
   "cell_type": "code",
   "execution_count": null,
   "id": "affecting-destruction",
   "metadata": {},
   "outputs": [],
   "source": [
    "DROP TABLE ImputeFit_CS;"
   ]
  },
  {
   "cell_type": "code",
   "execution_count": null,
   "id": "spiritual-greensboro",
   "metadata": {},
   "outputs": [],
   "source": [
    "DROP TABLE OutlierFit_CS;"
   ]
  },
  {
   "cell_type": "code",
   "execution_count": null,
   "id": "raising-myanmar",
   "metadata": {},
   "outputs": [],
   "source": [
    "%disconnect unlimited"
   ]
  },
  {
   "cell_type": "code",
   "execution_count": null,
   "id": "female-drawing",
   "metadata": {},
   "outputs": [],
   "source": []
  }
 ],
 "metadata": {
  "kernelspec": {
   "display_name": "Teradata SQL",
   "language": "Teradata SQL",
   "name": "teradatasql"
  },
  "language_info": {
   "codemirror_mode": "Teradata SQL",
   "file_extension": ".tdrs",
   "mimetype": "application/vnd.teradata.resultset",
   "name": "Teradata SQL",
   "nbconvert_exporter": "",
   "pygments_lexer": "",
   "version": "16.20"
  },
  "toc-showmarkdowntxt": true
 },
 "nbformat": 4,
 "nbformat_minor": 5
}
