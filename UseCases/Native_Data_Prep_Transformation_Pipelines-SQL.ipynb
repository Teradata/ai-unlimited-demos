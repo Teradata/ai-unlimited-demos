{
 "cells": [
  {
   "cell_type": "markdown",
   "id": "soviet-myrtle",
   "metadata": {},
   "source": [
    "<header>\n",
    "   <p  style='font-size:36px;font-family:Arial; color:#F0F0F0; background-color: #00233c; padding-left: 20pt; padding-top: 20pt;padding-bottom: 10pt; padding-right: 20pt;'>\n",
    "       Customer Segmentation with K-means Clustering and Data Preparation Piplelines\n",
    "  <br>\n",
    "       <img id=\"teradata-logo\" src=\"https://raw.githubusercontent.com/Teradata/lake-demos/8c77e9297e8f3059921aee472fc0ae30ae0537db/images/TeradataLogo.png\" alt=\"Teradata\" style=\"width: 125px; height: auto; margin-top: 20pt;\">\n",
    "    </p>\n",
    "</header>\n",
    "<hr>"
   ]
  },
  {
   "cell_type": "markdown",
   "id": "bacterial-county",
   "metadata": {},
   "source": [
    "<br>\n",
    "\n",
    "<b style = 'font-size:24px;font-family:Arial;color:#00233C'>Leverage native Vantage processing for efficient and highly scalable data preparation, model training, and evaluation workflows</b>\n",
    "\n",
    "<p style = 'font-size:16px;font-family:Arial;color:#00233C'>K-means clustering is one of the most popular <b>unsupervised</b> machine learning algorithms.  Essentially, the algorithm seeks to group similar data points together by minimizing the average (\"means\" in K-means) distance for all data points from each cluster's center (centroid).</p>\n",
    "\n",
    "<table style = 'width:100%;table-layout:fixed;color:#00233C'>\n",
    "    <tr>\n",
    "        <td style = 'vertical-align:top' width = '50%'>\n",
    "            <ol style = 'font-size:16px;font-family:Arial'>\n",
    "                <li>Define the number of clusters (k)</li>\n",
    "                <br>\n",
    "                <li>The algorithm chooses random points as centroids</li>\n",
    "                <br>\n",
    "                <li>Each iteration attempts to optimize the centroid locations</li>\n",
    "                <br>\n",
    "                <li>Iterations end once the distances have stabilized or the max iteration count is reached</li>\n",
    "            </ol>\n",
    "        </td>\n",
    "        <td><img src = 'https://raw.githubusercontent.com/Teradata/lake-demos/6d68a7ce0de9c26c8429d7a1f84aa47de6cccec1/UseCases/Native-KMeans/images/K-means_convergence.gif' width = '250'></td>\n",
    "    </tr>\n",
    "</table>\n",
    "\n",
    "<p style = 'font-size:16px;font-family:Arial'>One limitation of this algorithm is that it only accepts numeric data as feature input (categorical clustering can be performed using K-modes algorithm).  Typically, data engineers or data scientists will perform multiple <b>serial</b> steps to prepare a numeric-only data set that can be passed to the K-means algorithm.</p>\n",
    "\n",
    "<p style = 'font-size:16px;font-family:Arial'>Vantage provides native \"Fit and Transform\" functions to assist in data preparation and transformation at scale.  To aid in efficiency and operationalization, Vantage provides a bulk <b>Column Transformer</b> function which can take multiple transformation directives at the same time, and act on the whole data set at once.  This allows for both process and code simplifcation, allowing more streamlined and robust operational deployment.</p> \n",
    "\n",
    "<img src = 'https://raw.githubusercontent.com/Teradata/lake-demos/6d68a7ce0de9c26c8429d7a1f84aa47de6cccec1/UseCases/Native-KMeans/Flow_Diagram_KMeans.png' width = 100%>\n",
    "<hr>"
   ]
  },
  {
   "cell_type": "markdown",
   "id": "directed-eligibility",
   "metadata": {},
   "source": [
    "<b style = 'font-size:24px;font-family:Arial;color:#00233C'>Live Demonstration</b>\n",
    "\n",
    "<p style = 'font-size:16px;font-family:Arial;color:#00233C'>The data for this demonstration is based on online purchase history data set, which can be found <a href = 'https://www.kaggle.com/code/hellbuoy/online-retail-k-means-hierarchical-clustering/data'>here</a>.  The goal is to segment the customers by purchase volume and value.  Steps are as follow:</p>\n",
    "\n",
    "<table style = 'width:100%;table-layout:fixed;color:#00233C'>\n",
    "    <tr>\n",
    "        <td style = 'vertical-align:top' width = '50%'>\n",
    "            <ol style = 'font-size:16px;font-family:Arial;color:#00233C'>\n",
    "                <li>Analyze the raw data, split a testing set</li>\n",
    "                <br>\n",
    "                <li>Engineer numeric features</li>\n",
    "                <br>\n",
    "                <li>Build the K-means model</li>\n",
    "                <br>\n",
    "                <li>Apply in-line transformation to the testing set</li>\n",
    "                <br>\n",
    "                <li>Make Predictions and evaluate model accuracy</li>\n",
    "            </ol>\n",
    "        </td>\n",
    "        <td><img src = 'https://raw.githubusercontent.com/Teradata/lake-demos/6d68a7ce0de9c26c8429d7a1f84aa47de6cccec1/UseCases/Native-KMeans/images/clustering_img.png' width = '250'></td>\n",
    "    </tr>\n",
    "</table>"
   ]
  },
  {
   "cell_type": "markdown",
   "id": "informational-virtue",
   "metadata": {},
   "source": [
    "<hr>\n",
    "<p style = 'font-size:20px;font-family:Arial;color:#00233C'><b>Step 1 - Data Preparation</b></p>\n",
    "\n",
    "<p style = 'font-size:16px;font-family:Arial;color:#00233C'>Here, we will inspect the original data set, and perform various preparation tasks.</p>\n",
    "\n",
    "<ol style = 'font-size:16px;font-family:Arial;color:#00233C'>\n",
    "    <li>Inspect the rows of the table</li>\n",
    "    <li>Inspect the column metadata using <a href = 'https://docs-dev.teradata.com/r/Teradata-VantageTM-Advanced-SQL-Engine-Analytic-Functions/June-2022/Data-Exploration-Functions/TD_ColumnSummary'>TD_ColumnSummary</a></li>\n",
    "    <li>Split off a testing data set to be used in evaluation</li>\n",
    "    </ol>\n",
    "    "
   ]
  },
  {
   "cell_type": "code",
   "execution_count": null,
   "id": "surface-things",
   "metadata": {},
   "outputs": [],
   "source": [
    "%connect fabric_demo"
   ]
  },
  {
   "cell_type": "code",
   "execution_count": null,
   "id": "illegal-limit",
   "metadata": {},
   "outputs": [],
   "source": [
    "HELP DATALAKE td_fabric_datalake;"
   ]
  },
  {
   "cell_type": "code",
   "execution_count": null,
   "id": "atmospheric-significance",
   "metadata": {},
   "outputs": [],
   "source": [
    "HELP DATABASE td_fabric_datalake.Build_Demos;"
   ]
  },
  {
   "cell_type": "code",
   "execution_count": null,
   "id": "defined-swiss",
   "metadata": {},
   "outputs": [],
   "source": [
    "HELP TABLE td_fabric_datalake.Build_Demos.uk_retail_data;"
   ]
  },
  {
   "cell_type": "markdown",
   "id": "retained-minneapolis",
   "metadata": {},
   "source": [
    "<hr>\n",
    "<b style = 'font-size:18px;font-family:Arial;color:#00233C'>1.1 - Inspect the Data</b>\n",
    "\n",
    "<p style = 'font-size:16px;font-family:Arial;color:#00233C'>Simple SQL query to show the data</p>"
   ]
  },
  {
   "cell_type": "code",
   "execution_count": null,
   "id": "promising-glass",
   "metadata": {},
   "outputs": [],
   "source": [
    "SELECT TOP 5 * FROM td_fabric_datalake.Build_Demos.uk_retail_data;"
   ]
  },
  {
   "cell_type": "markdown",
   "id": "filled-oxygen",
   "metadata": {},
   "source": [
    "<hr>\n",
    "<b style = 'font-size:18px;font-family:Arial;color:#00233C'>1.2 View Column information</b>\n",
    "\n",
    "<p style = 'font-size:16px;font-family:Arial;color:#00233C'><a href = 'https://docs-dev.teradata.com/r/Teradata-VantageTM-Advanced-SQL-Engine-Analytic-Functions/June-2022/Data-Exploration-Functions/TD_ColumnSummary'>TD_ColumnSummary</a> provides more details on column values and ranges</p>"
   ]
  },
  {
   "cell_type": "code",
   "execution_count": null,
   "id": "surprised-desire",
   "metadata": {},
   "outputs": [],
   "source": [
    "SELECT * FROM TD_ColumnSummary(\n",
    "    ON td_fabric_datalake.Build_Demos.uk_retail_data as InputTable\n",
    "    USING\n",
    "        targetcolumns('[0:7]')\n",
    ") as dt;"
   ]
  },
  {
   "cell_type": "markdown",
   "id": "blank-retirement",
   "metadata": {},
   "source": [
    "<hr>\n",
    "<b style = 'font-size:18px;font-family:Arial;color:#00233C'>1.3 Create a Testing data set</b>\n",
    "\n",
    "<p style = 'font-size:16px;font-family:Arial;color:#00233C'>Manufactured example - select several \"Customer ID\" values for testing later.</p>"
   ]
  },
  {
   "cell_type": "code",
   "execution_count": null,
   "id": "changing-insert",
   "metadata": {},
   "outputs": [],
   "source": [
    "DROP TABLE UK_Retail_Test"
   ]
  },
  {
   "cell_type": "code",
   "execution_count": null,
   "id": "intelligent-apple",
   "metadata": {},
   "outputs": [],
   "source": [
    "CREATE TABLE UK_Retail_Test AS (\n",
    "    SELECT * FROM td_fabric_datalake.Build_Demos.uk_retail_data\n",
    "    WHERE CustomerID IN ('17307', '12503', '18268', '12908', '13693')\n",
    ") WITH DATA;"
   ]
  },
  {
   "cell_type": "markdown",
   "id": "animated-transformation",
   "metadata": {},
   "source": [
    "<hr>\n",
    "<p style = 'font-size:20px;font-family:Arial;color:#00233C'><b>Step 2 - Feature Engineering</b></p>\n",
    "\n",
    "<p style = 'font-size:16px;font-family:Arial;color:#00233C'>This section will illustrate how to prepare the data set for model training.  We will use standard SQL and various \"Fit\" functions to create input for the <a href = 'https://docs-dev.teradata.com/r/Teradata-VantageTM-Advanced-SQL-Engine-Analytic-Functions/June-2022/Feature-Engineering-Transform-Functions/TD_ColumnTransformer'>TD_ColumnTransformer</a> function to take as input in order to execute a bulk transformation.</p>\n",
    "\n",
    "<ol style = 'font-size:16px;font-family:Arial;color:#00233C'>\n",
    "    <li>Create a per-customer grouping of data</li>\n",
    "    <li>Create Fit Tables\n",
    "        <ul><li>Remove Outliers</li>\n",
    "            <li>Impute Missing Values</li>\n",
    "            <li>Create New Numeric Features</li>\n",
    "            <li>Rescale the Data Set</li>\n",
    "        </ul></li>\n",
    "    <li>Call the final Transformation function</li>\n",
    "    </ol>"
   ]
  },
  {
   "cell_type": "markdown",
   "id": "bright-basics",
   "metadata": {},
   "source": [
    "<hr>\n",
    "<b style = 'font-size:18px;font-family:Arial;color:#00233C'>2.1 - Create a per-customer table</b>\n",
    "\n",
    "<p style = 'font-size:16px;font-family:Arial;color:#00233C'>Simple GROUP BY, exclude the testing IDs.  Note there are 4367 unique customers in this training set.</p>"
   ]
  },
  {
   "cell_type": "code",
   "execution_count": null,
   "id": "peripheral-success",
   "metadata": {},
   "outputs": [],
   "source": [
    "DROP TABLE Customer_ID_Group"
   ]
  },
  {
   "cell_type": "code",
   "execution_count": null,
   "id": "bronze-offset",
   "metadata": {},
   "outputs": [],
   "source": [
    "CREATE TABLE Customer_ID_Group AS (\n",
    "    SELECT CustomerID,\n",
    "        SUM(quantity) as TotalQuantity , \n",
    "        SUM(UnitPrice) as TotalPrice, \n",
    "        COUNT(DISTINCT(StockCode)) as TotalItems \n",
    "    FROM td_fabric_datalake.Build_Demos.uk_retail_data\n",
    "    WHERE CustomerID NOT IN ('17307', '12503', '18268', '12908', '13693')\n",
    "    GROUP BY CustomerID\n",
    ") WITH DATA;"
   ]
  },
  {
   "cell_type": "code",
   "execution_count": null,
   "id": "republican-trust",
   "metadata": {},
   "outputs": [],
   "source": [
    "SELECT COUNT(*) FROM Customer_ID_Group;"
   ]
  },
  {
   "cell_type": "markdown",
   "id": "figured-operation",
   "metadata": {},
   "source": [
    "<hr>\n",
    "<b style = 'font-size:18px;font-family:Arial;color:#00233C'>2.2 Create Fit Tables</b>\n",
    "\n",
    "<p style = 'font-size:16px;font-family:Arial;color:#00233C'>Vantage <a href = 'https://docs-dev.teradata.com/r/Teradata-VantageTM-Advanced-SQL-Engine-Analytic-Functions/June-2022/Feature-Engineering-Transform-Functions'>Feature Engineering Transform Functions</a> Use a \"Fit and Transform\" approach to make processing more modular and efficient.  \"Fit tables\" can be used as input to either individual Transform functions, or passed to a single <a href = 'https://docs-dev.teradata.com/r/Teradata-VantageTM-Advanced-SQL-Engine-Analytic-Functions/June-2022/Feature-Engineering-Transform-Functions/TD_ColumnTransformer'>TD_ColumnTransformer</a> function.</p>\n",
    "\n",
    "<table style = 'width:100%;table-layout:fixed;'>\n",
    "    <tr>\n",
    "        <td style = 'vertical-align:top' width = '50%'>\n",
    "<ul style = 'font-size:16px;font-family:Arial;color:#00233C'>\n",
    "    <li>Fit outlier removal using <a href = 'https://docs-dev.teradata.com/r/Teradata-VantageTM-Advanced-SQL-Engine-Analytic-Functions/June-2022/Data-Cleaning-Functions/Handling-Outliers/TD_OutlierFilterFit'>TD_OutlierFilterFit</a></li>\n",
    "    <li>Fit a simple imputer to replace missing values using <a href = 'https://docs-dev.teradata.com/r/Teradata-VantageTM-Advanced-SQL-Engine-Analytic-Functions/June-2022/Data-Cleaning-Functions/Handling-Missing-Values/TD_SimpleImputeFit'>TD_SimpleImputeFit</a></li>\n",
    "    <li>Fit column calculations to create new features using <a href = 'https://docs-dev.teradata.com/r/Teradata-VantageTM-Advanced-SQL-Engine-Analytic-Functions/June-2022/Feature-Engineering-Transform-Functions/TD_NonLinearCombineFit'>TD_NonLinearCombineFit</a></li>\n",
    "    <li>Call <a href = 'https://docs-dev.teradata.com/r/Teradata-VantageTM-Advanced-SQL-Engine-Analytic-Functions/June-2022/Feature-Engineering-Transform-Functions/TD_ColumnTransformer'>TD_ColumnTransformer</a> to execute the transformations (to allow for Scaling)</li>\n",
    "    <li>Rescale the data using <a href = 'https://docs-dev.teradata.com/r/Teradata-VantageTM-Advanced-SQL-Engine-Analytic-Functions/June-2022/Feature-Engineering-Transform-Functions/TD_ScaleFit'>TD_ScaleFit/Transform</a></li>\n",
    "            </ul></td>\n",
    "        <td><img src = 'https://raw.githubusercontent.com/Teradata/lake-demos/6d68a7ce0de9c26c8429d7a1f84aa47de6cccec1/UseCases/Native-KMeans/images/fit_transform.png' width = '300'></td>\n",
    "    </tr>\n",
    "    </table>"
   ]
  },
  {
   "cell_type": "code",
   "execution_count": null,
   "id": "developing-aquatic",
   "metadata": {},
   "outputs": [],
   "source": [
    "DROP TABLE OutlierFit_CS"
   ]
  },
  {
   "cell_type": "code",
   "execution_count": null,
   "id": "assumed-burns",
   "metadata": {},
   "outputs": [],
   "source": [
    "/*Remove Outliers\n",
    "Trim below 3rd, and above 97th percentile */\n",
    "\n",
    "CREATE TABLE outlierFit_CS as (\n",
    "    SELECT * from TD_OutlierFilterFit(\n",
    "        ON Customer_ID_Group as inputTable\n",
    "        USING\n",
    "        TargetColumns('TotalQuantity','TotalPrice')\n",
    "        LowerPercentile(0.03)\n",
    "        UpperPercentile(0.97)\n",
    "        OutlierMethod('Percentile')\n",
    "        PercentileMethod('PercentileCont')\n",
    "        ReplacementValue('Median')\n",
    "    )as dt\n",
    ") WITH DATA"
   ]
  },
  {
   "cell_type": "code",
   "execution_count": null,
   "id": "clear-parliament",
   "metadata": {},
   "outputs": [],
   "source": [
    "DROP TABLE ImputeFit_CS"
   ]
  },
  {
   "cell_type": "code",
   "execution_count": null,
   "id": "average-syntax",
   "metadata": {},
   "outputs": [],
   "source": [
    "/*Impute Missing Values\n",
    "--Replace any missing CustomerID with a specific value*/\n",
    "\n",
    "CREATE TABLE ImputeFit_CS AS (\n",
    "    SELECT * FROM TD_SimpleImputeFit(\n",
    "        ON Customer_ID_Group AS InputTable\n",
    "        USING\n",
    "        ColsForLiterals('CustomerID')\n",
    "        Literals('19000')                                        \n",
    "    ) AS dt\n",
    ")WITH DATA"
   ]
  },
  {
   "cell_type": "code",
   "execution_count": null,
   "id": "maritime-performance",
   "metadata": {},
   "outputs": [],
   "source": [
    "DROP TABLE NonLinearCombineFit_CS_TotalSales"
   ]
  },
  {
   "cell_type": "code",
   "execution_count": null,
   "id": "prerequisite-creature",
   "metadata": {},
   "outputs": [],
   "source": [
    "/*Create a new column by multiplying quantity and price */\n",
    "\n",
    "SELECT * FROM TD_NonLinearCombineFit (\n",
    "    ON Customer_ID_Group as InputTable\n",
    "    OUT TABLE OutputTable (NonLinearCombineFit_CS_TotalSales)\n",
    "    USING\n",
    "        TargetColumns ('TotalQuantity','TotalPrice')\n",
    "        Formula ('Y = X1*X0')\n",
    "        ResultColumn ('TotalSales')\n",
    ") AS dt;"
   ]
  },
  {
   "cell_type": "code",
   "execution_count": null,
   "id": "subsequent-compatibility",
   "metadata": {},
   "outputs": [],
   "source": [
    "DROP TABLE NonLinearCombineFit_CS_SalesPerItem"
   ]
  },
  {
   "cell_type": "code",
   "execution_count": null,
   "id": "flying-numbers",
   "metadata": {},
   "outputs": [],
   "source": [
    "/*Create another new column by diving the total sales by the number of unique items */\n",
    "\n",
    "SELECT * FROM TD_NonLinearCombineFit (\n",
    "   ON Customer_ID_Group AS InputTable\n",
    "   OUT TABLE OutputTable (NonLinearCombineFit_CS_SalesPerItem)\n",
    "   USING\n",
    "   TargetColumns ('TotalQuantity','TotalPrice','TotalItems')\n",
    "   Formula ('Y = (X0*X1)/X2')\n",
    "   ResultColumn ('SalesPerItem')\n",
    ") AS dt;"
   ]
  },
  {
   "cell_type": "code",
   "execution_count": null,
   "id": "transsexual-elimination",
   "metadata": {},
   "outputs": [],
   "source": [
    "/*Execute ColumnTransformer to build the data set */\n",
    "\n",
    "REPLACE VIEW Transformed_Customer_ID_Group_V AS (\n",
    "    SELECT * from TD_ColumnTransformer(\n",
    "        ON Customer_ID_Group AS InputTable\n",
    "        \n",
    "        ON OutlierFit_CS AS OutlierFilterFitTable DIMENSION\n",
    "        ON ImputeFit_CS AS SimpleImputeFitTable DIMENSION\n",
    "        ON NonLinearCombineFit_CS_TotalSales AS NonLinearCombineFitTable DIMENSION\n",
    "        ON NonLinearCombineFit_CS_SalesPerItem as NonLinearCombineFitTable DIMENSION\n",
    "    )as dt\n",
    ")"
   ]
  },
  {
   "cell_type": "code",
   "execution_count": null,
   "id": "historical-norwegian",
   "metadata": {},
   "outputs": [],
   "source": [
    "DROP TABLE ScaleFit_CS"
   ]
  },
  {
   "cell_type": "code",
   "execution_count": null,
   "id": "certain-slide",
   "metadata": {},
   "outputs": [],
   "source": [
    "/*ScaleFit/Transform to rescale the data */\n",
    "\n",
    "SELECT * FROM TD_ScaleFit(\n",
    "    ON Transformed_Customer_ID_Group_V AS InputTable\n",
    "    OUT TABLE OutputTable(ScaleFit_CS)\n",
    "    USING\n",
    "        TargetColumns('TotalQuantity','TotalItems','TotalPrice','TotalSales','SalesPerItem')\n",
    "        ScaleMethod('range')\n",
    ") as dt;"
   ]
  },
  {
   "cell_type": "code",
   "execution_count": null,
   "id": "tender-activity",
   "metadata": {},
   "outputs": [],
   "source": [
    "REPLACE VIEW Scaled_Transformed_Customer_ID_Group_V AS (\n",
    "    SELECT * FROM TD_ScaleTransform(\n",
    "        ON Transformed_Customer_ID_Group_V AS InputTable\n",
    "        ON ScaleFit_CS as FitTable DIMENSION\n",
    "        USING\n",
    "            Accumulate('CustomerID')\n",
    "    )as dt\n",
    ")"
   ]
  },
  {
   "cell_type": "code",
   "execution_count": null,
   "id": "innocent-canada",
   "metadata": {},
   "outputs": [],
   "source": [
    "SELECT TOP 5 * FROM Scaled_Transformed_Customer_ID_Group_V"
   ]
  },
  {
   "cell_type": "markdown",
   "id": "governmental-optimization",
   "metadata": {
    "tags": []
   },
   "source": [
    "<hr>\n",
    "<p style = 'font-size:20px;font-family:Arial;color:#00233C'><b>Step 3 - Build the K-means Model</b></p>\n",
    "\n",
    "<p style = 'font-size:16px;font-family:Arial;color:#00233C'>As discussed above, the K-means algorithm takes a number of clusters \"k\", chooses a random starting point for each centroid, and iterates until a hard limit, or an optimium value is reached.</p>\n",
    "\n",
    "<p style = 'font-size:16px;font-family:Arial;color:#00233C'><b>Finding an Ideal value for K</b></p>\n",
    "<table style = 'width:100%;table-layout:fixed;'>\n",
    "    <tr>\n",
    "        <td style = 'vertical-align:top' width = '50%'>\n",
    "<p style = 'font-size:16px;font-family:Arial;color:#00233C'>The example below uses a value of 5 for the number of clusters to build the model against.  Typically, data scientists will build the model using various values for \"k\", and plot the \"WCSS\" (Within Cluster Sum-of-Squares) value on a series of each value chosen for k.  The \"elbow\" point (where the slope changes) is usually a good value for k.  <a href = 'https://docs-dev.teradata.com/r/Teradata-VantageTM-Advanced-SQL-Engine-Analytic-Functions/June-2022/Model-Training-Functions/TD_KMeans'>TD_KMeans</a> function will return this value as \"TotalWithinSS : ###\" as a row in the \"td_modelinfo_kmeans\" column.</p></td>\n",
    "        <td><img src = 'https://raw.githubusercontent.com/Teradata/lake-demos/6d68a7ce0de9c26c8429d7a1f84aa47de6cccec1/UseCases/Native-KMeans/images/WCSS_elbow.png' width = '300'></td>\n",
    "    </tr>\n",
    "    </table>\n",
    "\n",
    "<p style = 'font-size:16px;font-family:Arial;color:#00233C'><b>Other Function Parameters Include (but are not limited to)</b></p>\n",
    "<ul style = 'font-size:16px;font-family:Arial;color:#00233C'>\n",
    "    <li>Input Table</li>\n",
    "    <li>StopThreshold - The algorithm converges if the distance between the centroids from the previous iteration and the current iteration is less than the specified value.</li>\n",
    "    <li>MaxIterNum</li>Specify the maximum number of iterations for the K-means algorithm. The algorithm stops after performing the specified number of iterations even if the convergence criterion is not met.\n",
    "    </ul>"
   ]
  },
  {
   "cell_type": "code",
   "execution_count": null,
   "id": "uniform-brazilian",
   "metadata": {},
   "outputs": [],
   "source": [
    "DROP TABLE KMeans_Model"
   ]
  },
  {
   "cell_type": "code",
   "execution_count": null,
   "id": "demographic-fountain",
   "metadata": {},
   "outputs": [],
   "source": [
    "Select * from TD_KMeans (\n",
    "    ON Scaled_Transformed_Customer_ID_Group_V as InputTable\n",
    "    OUT TABLE ModelTable(KMeans_Model)\n",
    "    USING\n",
    "        IdColumn('CustomerID')\n",
    "        TargetColumns('TotalQuantity','TotalPrice','TotalItems','TotalSales','SalesPerItem')\n",
    "        StopThreshold(0.0395)\n",
    "        NumClusters(5)\n",
    "        --Seed(0)\n",
    "        MaxIterNum(500)\n",
    ")as dt;"
   ]
  },
  {
   "cell_type": "markdown",
   "id": "lyric-halifax",
   "metadata": {},
   "source": [
    "<hr>\n",
    "<p style = 'font-size:20px;font-family:Arial;color:#00233C'><b>Step 4 - Bulk Transformation</b></p>\n",
    "\n",
    "<p style = 'font-size:16px;font-family:Arial;color:#00233C'>Here, the Fit tables created above will be passed to a single <a href = 'https://docs-dev.teradata.com/r/Teradata-VantageTM-Advanced-SQL-Engine-Analytic-Functions/June-2022/Feature-Engineering-Transform-Functions/TD_ColumnTransformer'>TD_ColumnTransformer</a> function.  This is similar to an operational approach, where a single query will prepare new or incoming data for immediate analysis.</p>\n",
    "\n",
    "<img src = 'https://raw.githubusercontent.com/Teradata/lake-demos/6d68a7ce0de9c26c8429d7a1f84aa47de6cccec1/UseCases/Native-KMeans/images/column_transformer.png' width = '300'>"
   ]
  },
  {
   "cell_type": "code",
   "execution_count": null,
   "id": "retired-turkish",
   "metadata": {},
   "outputs": [],
   "source": [
    "SELECT TOP 5 * FROM UK_Retail_Test"
   ]
  },
  {
   "cell_type": "code",
   "execution_count": null,
   "id": "decreased-purpose",
   "metadata": {},
   "outputs": [],
   "source": [
    "/*Steps broken up above can be put together into a single query */\n",
    "\n",
    "REPLACE VIEW Scaled_Transformed_Test_V AS (\n",
    "    \n",
    "SELECT * FROM TD_ColumnTransformer(\n",
    "            --Use our groupby inside the ON clause\n",
    "            ON (SELECT CustomerID,\n",
    "                    SUM(quantity) as TotalQuantity , \n",
    "                    SUM(UnitPrice) as TotalPrice, \n",
    "                    COUNT(DISTINCT(StockCode)) as TotalItems\n",
    "                FROM UK_Retail_Test\n",
    "                GROUP BY CustomerID\n",
    "                ) AS InputTable\n",
    "            \n",
    "            --Pass each fit table from above as dimensions\n",
    "            ON OutlierFit_CS AS OutlierFilterFitTable DIMENSION\n",
    "            ON ImputeFit_CS AS SimpleImputeFitTable DIMENSION\n",
    "            ON NonLinearCombineFit_CS_TotalSales AS NonLinearCombineFitTable DIMENSION\n",
    "            ON NonLinearCombineFit_CS_SalesPerItem AS NonLinearCombineFitTable DIMENSION\n",
    "            ON ScaleFit_CS as ScaleFitTable DIMENSION\n",
    "    )as dt\n",
    ")"
   ]
  },
  {
   "cell_type": "code",
   "execution_count": null,
   "id": "circular-possession",
   "metadata": {},
   "outputs": [],
   "source": [
    "SELECT TOP 5 * FROM Scaled_Transformed_Test_V"
   ]
  },
  {
   "cell_type": "markdown",
   "id": "fitted-certification",
   "metadata": {},
   "source": [
    "<hr>\n",
    "<p style = 'font-size:20px;font-family:Arial;color:#00233C'><b>Step 5 - Predict and Evaluate</b></p>\n",
    "\n",
    "<p style = 'font-size:16px;font-family:Arial;color:#00233C'>Finally, we run the model against new (in this case testing) data using <a href = 'https://docs-dev.teradata.com/r/Teradata-VantageTM-Advanced-SQL-Engine-Analytic-Functions/June-2022/Model-Scoring-Functions/TD_KMeansPredict'>TD_KMeansPredict</a>.  The preparation step has been completed in a single query above.  Additionally, we will use an evaluation function <a href = 'https://docs-dev.teradata.com/r/Teradata-VantageTM-Advanced-SQL-Engine-Analytic-Functions/June-2022/Model-Evaluation-Functions/TD_Silhouette'>TD_Silhouette</a> to analyze how well the new cluster predictions match the original model.</p>\n",
    "\n",
    "<ol style = 'font-size:16px;font-family:Arial;color:#00233C'>\n",
    "    <li>Call TD_KMeansPredict</li>\n",
    "    <li>Inpect the results</li>\n",
    "    <li>Call TD_Silhouette on the output</li>\n",
    "    </ol>"
   ]
  },
  {
   "cell_type": "markdown",
   "id": "exceptional-laser",
   "metadata": {},
   "source": [
    "<hr>\n",
    "<b style = 'font-size:18px;font-family:Arial;color:#00233C'>5.1 - Call the Prediction Function</b>\n",
    "\n",
    "<p style = 'font-size:16px;font-family:Arial;color:#00233C'>Pass the Input Data, Model Table, and other parameters including columns to accumulate.  Note here we create a new View to assist with Silhouette analysis of the prediction.</p>"
   ]
  },
  {
   "cell_type": "code",
   "execution_count": null,
   "id": "technical-topic",
   "metadata": {},
   "outputs": [],
   "source": [
    "REPLACE VIEW KMeans_Output_V AS (\n",
    "    SELECT * FROM TD_KMeansPredict (\n",
    "        ON Scaled_Transformed_Test_V AS InputTable\n",
    "        ON KMeans_Model as ModelTable DIMENSION\n",
    "        USING\n",
    "            OutputDistance('true')\n",
    "            Accumulate('[1:5]')\n",
    "    )as dt\n",
    ")"
   ]
  },
  {
   "cell_type": "markdown",
   "id": "brave-portland",
   "metadata": {},
   "source": [
    "<hr>\n",
    "<b style = 'font-size:18px;font-family:Arial;color:#00233C'>5.2 - Inspect the Results</b>\n",
    "\n",
    "<p style = 'font-size:16px;font-family:Arial;color:#00233C'>Simple SELECT</p>"
   ]
  },
  {
   "cell_type": "code",
   "execution_count": null,
   "id": "varying-merchant",
   "metadata": {},
   "outputs": [],
   "source": [
    "SELECT TOP 5 * FROM KMeans_Output_V "
   ]
  },
  {
   "cell_type": "markdown",
   "id": "fitted-scheduling",
   "metadata": {},
   "source": [
    "<hr>\n",
    "<b style = 'font-size:18px;font-family:Arial;color:#00233C'>5.3 - Evaluate the Prediction</b>\n",
    "\n",
    "<p style = 'font-size:16px;font-family:Arial;color:#00233C'><a href = 'https://docs-dev.teradata.com/r/Teradata-VantageTM-Advanced-SQL-Engine-Analytic-Functions/June-2022/Model-Evaluation-Functions/TD_Silhouette'>TD_Silhouette</a> is a native Vantage function that evaluates the similarity of an object to its cluster (cohesion) compared to other clusters (separation).  The silhouette scores and its definitions are as follows:</p>\n",
    "\n",
    "<ul style = 'font-size:16px;font-family:Arial;color:#00233C'>\n",
    "    <li>1: Data is appropriately clustered</li>\n",
    "    <li>-1: Data is not appropriately clustered</li>\n",
    "    <li>0: Datum is on the border of two natural clusters</li>\n",
    "    </ul>\n",
    "\n",
    "<p style = 'font-size:16px;font-family:Arial;color:#00233C'>See the documentation for a full listing of parameters and return values.</p>"
   ]
  },
  {
   "cell_type": "code",
   "execution_count": null,
   "id": "dying-roommate",
   "metadata": {},
   "outputs": [],
   "source": [
    "SELECT * FROM TD_Silhouette(\n",
    "    ON KMeans_Output_V as inputTable\n",
    "    USING\n",
    "        IdColumn('CustomerID')\n",
    "        ClusterIdColumn('td_clusterid_kmeans')\n",
    "        TargetColumns('[3:7]')\n",
    "        OutputType('SCORE')\n",
    ") as dt"
   ]
  },
  {
   "cell_type": "markdown",
   "id": "retired-jackson",
   "metadata": {},
   "source": [
    "<hr>\n",
    "<b style = 'font-size:18px;font-family:Arial;color:#00233C'>Clean Up</b>"
   ]
  },
  {
   "cell_type": "code",
   "execution_count": null,
   "id": "prescription-algeria",
   "metadata": {},
   "outputs": [],
   "source": [
    "DROP TABLE UK_Retail_Test;"
   ]
  },
  {
   "cell_type": "code",
   "execution_count": null,
   "id": "based-texas",
   "metadata": {},
   "outputs": [],
   "source": [
    "DROP TABLE Customer_ID_Group;"
   ]
  },
  {
   "cell_type": "code",
   "execution_count": null,
   "id": "associate-stability",
   "metadata": {},
   "outputs": [],
   "source": [
    "DROP VIEW Transformed_Customer_ID_Group_V;"
   ]
  },
  {
   "cell_type": "code",
   "execution_count": null,
   "id": "bizarre-director",
   "metadata": {},
   "outputs": [],
   "source": [
    "DROP VIEW Scaled_Transformed_Customer_ID_Group_V;"
   ]
  },
  {
   "cell_type": "code",
   "execution_count": null,
   "id": "virgin-intelligence",
   "metadata": {},
   "outputs": [],
   "source": [
    "DROP VIEW Scaled_Transformed_Test_V;"
   ]
  },
  {
   "cell_type": "code",
   "execution_count": null,
   "id": "loaded-factory",
   "metadata": {},
   "outputs": [],
   "source": [
    "DROP VIEW KMeans_Output_V;"
   ]
  },
  {
   "cell_type": "code",
   "execution_count": null,
   "id": "geological-departure",
   "metadata": {},
   "outputs": [],
   "source": [
    "DROP TABLE KMeans_Model;"
   ]
  },
  {
   "cell_type": "code",
   "execution_count": null,
   "id": "fiscal-perspective",
   "metadata": {},
   "outputs": [],
   "source": [
    "DROP TABLE ScaleFit_CS;"
   ]
  },
  {
   "cell_type": "code",
   "execution_count": null,
   "id": "automotive-plastic",
   "metadata": {},
   "outputs": [],
   "source": [
    "DROP TABLE NonLinearCombineFit_CS_SalesPerItem;"
   ]
  },
  {
   "cell_type": "code",
   "execution_count": null,
   "id": "neither-david",
   "metadata": {},
   "outputs": [],
   "source": [
    "DROP TABLE NonLinearCombineFit_CS_TotalSales;"
   ]
  },
  {
   "cell_type": "code",
   "execution_count": null,
   "id": "forty-designer",
   "metadata": {},
   "outputs": [],
   "source": [
    "DROP TABLE ImputeFit_CS;"
   ]
  },
  {
   "cell_type": "code",
   "execution_count": null,
   "id": "amino-theology",
   "metadata": {},
   "outputs": [],
   "source": [
    "DROP TABLE OutlierFit_CS;"
   ]
  },
  {
   "cell_type": "code",
   "execution_count": null,
   "id": "circular-montgomery",
   "metadata": {},
   "outputs": [],
   "source": [
    "%disconnect fabric_demo"
   ]
  },
  {
   "cell_type": "code",
   "execution_count": null,
   "id": "identified-repair",
   "metadata": {},
   "outputs": [],
   "source": []
  }
 ],
 "metadata": {
  "kernelspec": {
   "display_name": "Teradata SQL",
   "language": "Teradata SQL",
   "name": "teradatasql"
  },
  "language_info": {
   "codemirror_mode": "Teradata SQL",
   "file_extension": ".tdrs",
   "mimetype": "application/vnd.teradata.resultset",
   "name": "Teradata SQL",
   "nbconvert_exporter": "",
   "pygments_lexer": "",
   "version": "16.20"
  },
  "toc-showmarkdowntxt": true
 },
 "nbformat": 4,
 "nbformat_minor": 5
}
