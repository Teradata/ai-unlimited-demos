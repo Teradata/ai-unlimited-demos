{
 "cells": [
  {
   "cell_type": "markdown",
   "id": "optical-winner",
   "metadata": {},
   "source": [
    "<header>\n",
    "   <p  style='font-size:36px;font-family:Arial; color:#F0F0F0; background-color: #00233c; padding-left: 20pt; padding-top: 20pt;padding-bottom: 10pt; padding-right: 20pt;'>\n",
    "    ClearScape Analytics in-database functions for ML and AI pipelines\n",
    "  <br>\n",
    "       <img id=\"teradata-logo\" src=\"https://storage.googleapis.com/clearscape_analytics_demo_data/DEMO_Logo/teradata.svg\" alt=\"Teradata\" style=\"width: 125px; height: auto; margin-top: 20pt;\">\n",
    "    </p>\n",
    "</header>\n",
    "<hr style=\"height:2px;border:none;background-color:#00233C;\">"
   ]
  },
  {
   "cell_type": "markdown",
   "id": "narrow-processor",
   "metadata": {},
   "source": [
    "<br>\n",
    "\n",
    "<b style = 'font-size:24px;font-family:Arial;color:#00233C'>Demonstration of native functions for operationalizing ML/AI and advanced analytics at scale</b>\n",
    "\n",
    "\n",
    "<p style = 'font-size:16px;font-family:Arial;color:#00233C'>In the typical process for creating Machine Learning models, a significant amount of time is spent on data preparation and feature selection.  Then, in order to deploy these models in production, the typical proces is to <b>re-write</b> these pipelines for use in an operational deployment.</p>\n",
    "\n",
    "<p style = 'font-size:16px;font-family:Arial;color:#00233C'>Teradata <b>ClearScape Analytics</b> functions not only allow greater efficiency, ease of use, and scalability during the development process; but can be seamlessly deployed into production with minimal refactoring.  As new data arrives for processing, transformation, and scoring in real-time or batch, advanced workload optimization will ensure the strictest performance SLAs are met at any level of concurrency or data volume.</p>\n",
    "\n",
    "<p style = 'font-size:16px;font-family:Arial;color:#00233C'>This demonstration will illustrate example functions that can be used in all steps in the <b>development</b> process, but also how to deploy the same analytics seamlessly into <b>production</b> with minimal modifcations, allowing organizations to democratize access to advanced analytics, Machine Learning, and AI.</p>\n",
    "\n",
    "<ol style = 'font-size:16px;font-family:Arial;color:#00233C'>\n",
    "    <li><b>Exploratory Data Analysis</b> to identify patterns and overall usefulness of the data set</li>\n",
    "    <li><b>Data Preparation</b> cleansing data, removing outliers, rescaling</li>\n",
    "    <li><b>Feature Engineering</b> transform raw data into usable features for training and prediction</li>\n",
    "    <li><b>Model Building</b> leverage the massive scale of the Teradata MPP engine to train deep or wide predictive models</li>\n",
    "    <li><b>Model Evaluation</b> measure model efficacy at scale</li>\n",
    "    <li><b>Operations</b> seamlessly deploy and manage in productionl</li>\n",
    "    </ol>\n",
    " \n",
    "\n",
    "<p style = 'font-size:16px;font-family:Arial;color:#00233C'>The data for this demonstration consists of a home sales price data set, which includes many numeric and non-numeric features.  The data is a useful one, since it needs some amount of cleansing and preparation before predictive models can be built.</p>\n",
    "\n",
    "\n",
    "\n",
    "\n"
   ]
  },
  {
   "cell_type": "code",
   "execution_count": null,
   "id": "aging-brown",
   "metadata": {
    "tags": []
   },
   "outputs": [],
   "source": [
    "%connect unlimited"
   ]
  },
  {
   "cell_type": "markdown",
   "id": "111eae2d-00f4-412e-92c4-5780798f9dde",
   "metadata": {},
   "source": [
    "<hr>\n",
    "<p style = 'font-size:20px;font-family:Arial;color:#00233C'><b>Access and inspect data</b></p>\n",
    "\n",
    "<p style = 'font-size:16px;font-family:Arial;color:#00233C'>Teradata AI Unlimited can transparently <b>read</b> and <b>write</b> data from various third-party catalogs such as <b>AWS Glue</b>, <b>Azure OneLake</b>, etc.  To access this data, perform the following</p>\n",
    "\n",
    "<ol style = 'font-size:16px;font-family:Arial;color:#00233C'>\n",
    "    <li>Create an Authorization object for secured access</li>\n",
    "    <li>Create a \"DATALAKE\" object that points to the catalog</li>\n",
    "    <li>Use SQL syntax to inspect the catalog, database, and table metadata</li>\n",
    "    </ol>\n"
   ]
  },
  {
   "cell_type": "code",
   "execution_count": null,
   "id": "8a73bf56-7869-412c-81f8-9df35d4d5334",
   "metadata": {},
   "outputs": [],
   "source": [
    "/*First, we'll create an authorization to establish the credendials for AWS resources */\n",
    "REPLACE AUTHORIZATION unlimited.glue_auth_aws\n",
    "USER 'EXAMPLE'\n",
    "PASSWORD 'EXAMPLE';"
   ]
  },
  {
   "cell_type": "code",
   "execution_count": null,
   "id": "6d3992e8-a678-4162-9bd2-56f2df75fda3",
   "metadata": {},
   "outputs": [],
   "source": [
    "/*Second we create the connectivity to the Iceberg Glue Data Lake*/\n",
    "\n",
    "REPLACE DATALAKE aws_glue_catalog\n",
    "EXTERNAL SECURITY CATALOG unlimited.glue_auth_aws,\n",
    "EXTERNAL SECURITY STORAGE unlimited.glue_auth_aws\n",
    "USING\n",
    "catalog_type ('glue')\n",
    "storage_region ('us-west-2')\n",
    "TABLE FORMAT iceberg;"
   ]
  },
  {
   "cell_type": "code",
   "execution_count": null,
   "id": "34da573e-c781-4c97-84aa-4dd7fdcf731f",
   "metadata": {},
   "outputs": [],
   "source": [
    "HELP DATALAKE aws_glue_catalog;"
   ]
  },
  {
   "cell_type": "code",
   "execution_count": null,
   "id": "513e4f13-5674-4783-922f-23cd12d71909",
   "metadata": {},
   "outputs": [],
   "source": [
    "HELP DATABASE aws_glue_catalog.tddemos_glue_db;"
   ]
  },
  {
   "cell_type": "code",
   "execution_count": null,
   "id": "b25f6c47-2fe8-4e26-a349-49cfcaa8785b",
   "metadata": {},
   "outputs": [],
   "source": [
    "HELP TABLE aws_glue_catalog.tddemos_glue_db.customer_journey;"
   ]
  },
  {
   "cell_type": "markdown",
   "id": "entitled-lightweight",
   "metadata": {},
   "source": [
    "<hr style=\"height:2px;border:none;background-color:#00233C;\">\n",
    "<p style = 'font-size:20px;font-family:Arial;color:#00233C'><b>Step 1 - Exploratory Data Analysis</b></p>\n",
    "\n",
    "<p style = 'font-size:16px;font-family:Arial;color:#00233C'>Once data gets above a certain scale, traditional approaches to EDA become cumbersome - copying data to client-side tools is time and resource intensive, and writing traditional SQL to calculate things like data distribution, percentiles, or other statistics can be complex.  Teradata Vantage has both simplified and optimized this process by providing built-in EDA functions that include capabilities for analyzing these patterns, such as</p>\n",
    "\n",
    "<table style = 'width:100%;table-layout:fixed;'>\n",
    "    <tr>\n",
    "        <td style = 'vertical-align:top' width = '50%'>\n",
    "            <ol style = 'font-size:16px;font-family:Arial;color:#00233C'>\n",
    "                <li>Distributions</li>\n",
    "                <br>\n",
    "                <li>Univariate Statistics</li>\n",
    "                <br>\n",
    "                <li>Categoric Summaries</li>\n",
    "                <br>\n",
    "                <li>NULLs and missing data</li>\n",
    "            </ol>\n",
    "        </td>\n",
    "        <td><img src = 'images/EDA_Gen.jpeg' width = '250'></td>\n",
    "    </tr>\n",
    "</table>\n",
    "\n",
    "<p style = 'font-size:16px;font-family:Arial;color:#00233C'>The raw data consists of 82 columns, 43 of which are non-numeric.</p>"
   ]
  },
  {
   "cell_type": "code",
   "execution_count": null,
   "id": "enclosed-tradition",
   "metadata": {},
   "outputs": [],
   "source": [
    "SELECT TOP 10 * FROM demo_ofs.housing_prices_full"
   ]
  },
  {
   "cell_type": "markdown",
   "id": "stupid-customs",
   "metadata": {},
   "source": [
    "<p style = 'font-size:16px;font-family:Arial;color:#00233C'>For the demonstration, create a view which represents a subset of the data.</p>"
   ]
  },
  {
   "cell_type": "code",
   "execution_count": null,
   "id": "private-aquarium",
   "metadata": {},
   "outputs": [],
   "source": [
    "REPLACE VIEW pricesV AS (\n",
    "    SELECT id, lotfrontage, masvnrarea, alley, electrical, _1stflrsf, _2ndflrsf, saleprice\n",
    "    FROM demo_ofs.housing_prices_full)"
   ]
  },
  {
   "cell_type": "markdown",
   "id": "supreme-assets",
   "metadata": {},
   "source": [
    "<p style = 'font-size:18px;font-family:Arial;color:#00233C'><b>TD_Histogram</b></p>\n",
    "\n",
    "<p style = 'font-size:16px;font-family:Arial;color:#00233C'>calculates the frequency distribution of a dataset using one of multiple methods.  Mutiple columns can also be analyzed in a single call</p>"
   ]
  },
  {
   "cell_type": "code",
   "execution_count": null,
   "id": "treated-monday",
   "metadata": {},
   "outputs": [],
   "source": [
    "SELECT * FROM TD_Histogram(\n",
    "    ON pricesV as InputTable\n",
    "USING\n",
    "TargetColumn('lotfrontage')\n",
    "MethodType('STURGES')\n",
    ") as dt\n",
    "ORDER BY 2;"
   ]
  },
  {
   "cell_type": "code",
   "execution_count": null,
   "id": "musical-carter",
   "metadata": {},
   "outputs": [],
   "source": [
    "%chart y=CountOfValues, x=Label, title=\"Simple Histogram\""
   ]
  },
  {
   "cell_type": "markdown",
   "id": "accepting-extreme",
   "metadata": {},
   "source": [
    "<p style = 'font-size:18px;font-family:Arial;color:#00233C'><b>TD_ColumnSummary</b></p>\n",
    "\n",
    "<p style = 'font-size:16px;font-family:Arial;color:#00233C'>will return information about all the columns in the data set - NULL, zero, blank, etc.</p>"
   ]
  },
  {
   "cell_type": "code",
   "execution_count": null,
   "id": "animated-coating",
   "metadata": {},
   "outputs": [],
   "source": [
    "SELECT * FROM TD_ColumnSummary (\n",
    "  ON pricesV AS InputTable\n",
    "  USING\n",
    "  TargetColumns ('[:]')\n",
    ") AS d\n",
    "ORDER BY 1;"
   ]
  },
  {
   "cell_type": "markdown",
   "id": "sapphire-bundle",
   "metadata": {},
   "source": [
    "<hr style=\"height:2px;border:none;background-color:#00233C;\">\n",
    "<p style = 'font-size:20px;font-family:Arial;color:#00233C'><b>Step 2 - Data Preparation</b></p>\n",
    "\n",
    "<p style = 'font-size:16px;font-family:Arial;color:#00233C'>Once the user understands the overall patterns in the data, they can begin to clean and prepare it for the analytic process.  As above, native functions are available to simplify and optimize this process.  Furthermore, these functions use a <b>fit and transform</b> approach, which will assist in re-use for <b>operations</b>.  Data preparation and cleansing functions include</p>\n",
    "\n",
    "<table style = 'width:100%;table-layout:fixed;'>\n",
    "    <tr>\n",
    "        <td style = 'vertical-align:top' width = '50%'>\n",
    "            <ol style = 'font-size:16px;font-family:Arial;color:#00233C'>\n",
    "                <li>Type conversions</li>\n",
    "                <br>\n",
    "                <li>Value imputation</li>\n",
    "                <br>\n",
    "                <li>Futile columns identification</li>\n",
    "                <br>\n",
    "                <li>Outlier removal</li>\n",
    "            </ol>\n",
    "        </td>\n",
    "        <td><img src = 'images/Cleansing_Gen.jpeg' width = '250'></td>\n",
    "    </tr>\n",
    "</table>"
   ]
  },
  {
   "cell_type": "markdown",
   "id": "exceptional-williams",
   "metadata": {},
   "source": [
    "<hr style=\"height:2px;border:none;background-color:#00233C;\">\n",
    "<p style = 'font-size:18px;font-family:Arial;color:#00233C'><b>Simple Imputer</b></p>\n",
    "\n",
    "<p style = 'font-size:16px;font-family:Arial;color:#00233C'>The SimpleImpute Fit/Transform functions will assign missing values to a dataset, using statistical (mean, median, mode) or literal values.  Note the fit table can be persisted and re-used as part of the operational pipeline</p>"
   ]
  },
  {
   "cell_type": "code",
   "execution_count": null,
   "id": "accompanied-hardware",
   "metadata": {},
   "outputs": [],
   "source": [
    "SELECT * FROM TD_ColumnSummary (\n",
    "  ON pricesV AS InputTable\n",
    "  USING\n",
    "  TargetColumns ('[:]')\n",
    ") AS d\n",
    "WHERE NullCount > 0\n",
    "ORDER BY 1;"
   ]
  },
  {
   "cell_type": "markdown",
   "id": "naughty-certification",
   "metadata": {},
   "source": [
    "<hr style=\"height:2px;border:none;background-color:#00233C;\">\n",
    "<p style = 'font-size:18px;font-family:Arial;color:#00233C'><b>Fit the model</b></p>"
   ]
  },
  {
   "cell_type": "code",
   "execution_count": null,
   "id": "arabic-concert",
   "metadata": {},
   "outputs": [],
   "source": [
    "-- fit the SimpleImpute function on the train set\n",
    "SELECT * FROM TD_SimpleImputeFit (\n",
    "    ON pricesV as InputTable\n",
    "    USING\n",
    "    ColsForStats('lotfrontage', 'masvnrarea','alley', 'electrical')\n",
    "    Stats('mean','median', 'mode', 'mode')\n",
    ") as dt"
   ]
  },
  {
   "cell_type": "code",
   "execution_count": null,
   "id": "divine-tomorrow",
   "metadata": {},
   "outputs": [],
   "source": [
    "DROP TABLE SI_FIT;"
   ]
  },
  {
   "cell_type": "code",
   "execution_count": null,
   "id": "wound-houston",
   "metadata": {},
   "outputs": [],
   "source": [
    "CREATE TABLE SI_FIT AS (\n",
    "    SELECT * FROM TD_SimpleImputeFit (\n",
    "        ON pricesV as InputTable\n",
    "        USING\n",
    "        ColsForStats('lotfrontage', 'masvnrarea','alley', 'electrical')\n",
    "    Stats('mean','median', 'mode', 'mode')\n",
    ") as dt) WITH DATA;"
   ]
  },
  {
   "cell_type": "markdown",
   "id": "relevant-organ",
   "metadata": {},
   "source": [
    "<hr style=\"height:2px;border:none;background-color:#00233C;\">\n",
    "<p style = 'font-size:18px;font-family:Arial;color:#00233C'><b>Transform the data</b></p>\n",
    "\n",
    "<p style = 'font-size:16px;font-family:Arial;color:#00233C'>Pass the transformed data to ColumnSummary again to check for NULLs and blanks</p>"
   ]
  },
  {
   "cell_type": "code",
   "execution_count": null,
   "id": "compound-driver",
   "metadata": {},
   "outputs": [],
   "source": [
    "WITH si_transform AS (\n",
    "    SELECT * FROM TD_SimpleImputeTransform (\n",
    "  ON pricesV AS InputTable\n",
    "  ON SI_FIT AS FitTable DIMENSION\n",
    ") AS d)\n",
    "\n",
    "SELECT * FROM TD_ColumnSummary (\n",
    "  ON si_transform AS InputTable\n",
    "  USING\n",
    "  TargetColumns ('[:]')\n",
    ") AS d\n",
    "ORDER BY 1;"
   ]
  },
  {
   "cell_type": "markdown",
   "id": "quarterly-stationery",
   "metadata": {},
   "source": [
    "<hr style=\"height:2px;border:none;background-color:#00233C;\">\n",
    "<p style = 'font-size:18px;font-family:Arial;color:#00233C'><b>Outlier Removal</b></p>\n",
    "\n",
    "<p style = 'font-size:16px;font-family:Arial;color:#00233C'>will remove statistical outliers from the data set</p>"
   ]
  },
  {
   "cell_type": "code",
   "execution_count": null,
   "id": "powerful-upgrade",
   "metadata": {},
   "outputs": [],
   "source": [
    "SELECT * FROM TD_UnivariateStatistics (\n",
    "  ON pricesV AS InputTable\n",
    "  USING\n",
    "  TargetColumns ('lotfrontage')\n",
    "  Stats ('MEAN', 'MEDIAN', 'MODE', 'PRC')\n",
    ") AS dt;"
   ]
  },
  {
   "cell_type": "code",
   "execution_count": null,
   "id": "cheap-celebrity",
   "metadata": {},
   "outputs": [],
   "source": [
    "SELECT * FROM TD_OutlierFilterFit (\n",
    "  ON pricesV AS InputTable\n",
    "  USING\n",
    "  TargetColumns ('lotfrontage')\n",
    "  UpperPercentile (0.98)\n",
    "  OutlierMethod ('Percentile')\n",
    " ) AS dt;"
   ]
  },
  {
   "cell_type": "code",
   "execution_count": null,
   "id": "neither-bridge",
   "metadata": {},
   "outputs": [],
   "source": [
    "DROP TABLE OF_FIT"
   ]
  },
  {
   "cell_type": "code",
   "execution_count": null,
   "id": "placed-money",
   "metadata": {},
   "outputs": [],
   "source": [
    "CREATE TABLE OF_FIT AS (\n",
    "    SELECT * FROM TD_OutlierFilterFit (\n",
    "      ON pricesV AS InputTable\n",
    "    USING\n",
    "      TargetColumns ('lotfrontage')\n",
    "      UpperPercentile (0.98)\n",
    "      OutlierMethod ('Percentile')\n",
    " ) AS dt) WITH DATA;"
   ]
  },
  {
   "cell_type": "code",
   "execution_count": null,
   "id": "brave-necessity",
   "metadata": {},
   "outputs": [],
   "source": [
    "SELECT TOP 10 * FROM TD_OutlierFilterTransform (\n",
    "  ON pricesV AS InputTable PARTITION BY ANY\n",
    "  ON OF_FIT AS FitTable DIMENSION\n",
    ") AS dt;"
   ]
  },
  {
   "cell_type": "code",
   "execution_count": null,
   "id": "biblical-newcastle",
   "metadata": {},
   "outputs": [],
   "source": [
    "WITH outlier_transform AS (\n",
    "SELECT * FROM TD_OutlierFilterTransform (\n",
    "  ON pricesV AS InputTable PARTITION BY ANY\n",
    "  ON OF_FIT AS FitTable DIMENSION\n",
    ") AS d)\n",
    "\n",
    "SELECT * FROM TD_Histogram(\n",
    "    ON outlier_transform  as InputTable\n",
    "USING\n",
    "TargetColumn('lotfrontage')\n",
    "MethodType('STURGES')\n",
    ") as dt\n",
    "ORDER BY 2;"
   ]
  },
  {
   "cell_type": "code",
   "execution_count": null,
   "id": "weird-economy",
   "metadata": {},
   "outputs": [],
   "source": [
    "%chart y=CountOfValues, x=Label, title=\"Simple Histogram\""
   ]
  },
  {
   "cell_type": "markdown",
   "id": "varied-negative",
   "metadata": {},
   "source": [
    "<hr style=\"height:2px;border:none;background-color:#00233C;\">\n",
    "<p style = 'font-size:18px;font-family:Arial;color:#00233C'><b>Combine the Transformations</b></p>\n",
    "\n",
    "<p style = 'font-size:16px;font-family:Arial;color:#00233C'>ColumnTransformer will execute multiple transformations in a single pass</p>"
   ]
  },
  {
   "cell_type": "code",
   "execution_count": null,
   "id": "breeding-curtis",
   "metadata": {},
   "outputs": [],
   "source": [
    "REPLACE VIEW Cleansed_PricesV AS (\n",
    "    SELECT * FROM TD_ColumnTransformer(\n",
    "    ON pricesV AS inputtable\n",
    "        \n",
    "    ON SI_FIT AS SimpleImputeFitTable DIMENSION\n",
    "    ON OF_FIT AS OutlierFilterFitTable DIMENSION\n",
    "    )AS dt\n",
    ")"
   ]
  },
  {
   "cell_type": "code",
   "execution_count": null,
   "id": "happy-reset",
   "metadata": {},
   "outputs": [],
   "source": [
    "SELECT TOP 5 * FROM Cleansed_PricesV;"
   ]
  },
  {
   "cell_type": "markdown",
   "id": "horizontal-repeat",
   "metadata": {},
   "source": [
    "<hr style=\"height:2px;border:none;background-color:#00233C;\">\n",
    "<p style = 'font-size:20px;font-family:Arial;color:#00233C'><b>Step 3 - Feature Engineering</b></p>\n",
    "\n",
    "<p style = 'font-size:16px;font-family:Arial;color:#00233C'>The next step in the proces is to create new features from the existing data set.  As above, the fit and transform process allows the user to create <b>reusable</b> objects for production.  Feature engineering functions include</p>\n",
    "\n",
    "<table style = 'width:100%;table-layout:fixed;'>\n",
    "    <tr>\n",
    "        <td style = 'vertical-align:top' width = '50%'>\n",
    "            <ol style = 'font-size:16px;font-family:Arial;color:#00233C'>\n",
    "                <li>One-hot encoding</li>\n",
    "                <br>\n",
    "                <li>Rescaling</li>\n",
    "                <br>\n",
    "                <li>Binning</li>\n",
    "                <br>\n",
    "                <li>Normalization</li>\n",
    "                <br>\n",
    "                <li>Ordinal Encoding</li>\n",
    "                <br>\n",
    "                <li>Function/Polynomial conversion</li>\n",
    "            </ol>\n",
    "        </td>\n",
    "        <td><img src = 'images/FE_Gen.jpeg' width = '250'></td>\n",
    "    </tr>\n",
    "</table>"
   ]
  },
  {
   "cell_type": "markdown",
   "id": "demonstrated-lawsuit",
   "metadata": {},
   "source": [
    "<hr style=\"height:2px;border:none;background-color:#00233C;\">\n",
    "<p style = 'font-size:18px;font-family:Arial;color:#00233C'><b>One-Hot encoding</b></p>\n",
    "\n",
    "<p style = 'font-size:16px;font-family:Arial;color:#00233C'>Convert the categorical values with dummy encodings - a column for each value with a binary representation of whether the row has that attribute.</p>"
   ]
  },
  {
   "cell_type": "code",
   "execution_count": null,
   "id": "distributed-supervision",
   "metadata": {},
   "outputs": [],
   "source": [
    "SELECT * FROM TD_CategoricalSummary (\n",
    "  ON Cleansed_PricesV AS InputTable\n",
    "  USING\n",
    "  TargetColumns ('alley', 'electrical')\n",
    ") AS dt\n",
    "ORDER BY 1;"
   ]
  },
  {
   "cell_type": "code",
   "execution_count": null,
   "id": "proof-genome",
   "metadata": {},
   "outputs": [],
   "source": [
    "SELECT * FROM TD_OneHotEncodingFit(\n",
    "    ON Cleansed_PricesV AS INPUTTABLE\n",
    "USING\n",
    "    TargetColumn('alley','electrical')\n",
    "    IsInputDense('true')\n",
    "    CategoryCounts(2,5)\n",
    "    Approach('Auto')\n",
    ") AS dt;"
   ]
  },
  {
   "cell_type": "code",
   "execution_count": null,
   "id": "touched-information",
   "metadata": {},
   "outputs": [],
   "source": [
    "DROP TABLE OHE_FIT;"
   ]
  },
  {
   "cell_type": "code",
   "execution_count": null,
   "id": "charged-muslim",
   "metadata": {},
   "outputs": [],
   "source": [
    "CREATE TABLE OHE_FIT AS (\n",
    "    SELECT * FROM TD_OneHotEncodingFit(\n",
    "        ON Cleansed_PricesV AS INPUTTABLE\n",
    "    USING\n",
    "        TargetColumn('alley','electrical')\n",
    "        IsInputDense('true')\n",
    "        CategoryCounts(2,5)\n",
    "        Approach('Auto')\n",
    "    ) AS dt\n",
    ") WITH DATA;"
   ]
  },
  {
   "cell_type": "code",
   "execution_count": null,
   "id": "wrong-telling",
   "metadata": {},
   "outputs": [],
   "source": [
    "SELECT TOP 5 * FROM TD_OneHotEncodingTransform (\n",
    "    ON Cleansed_PricesV AS InputTable\n",
    "    ON OHE_FIT AS FitTable Dimension\n",
    "    USING\n",
    "        IsInputDense('True')\n",
    ") AS dt \n",
    "ORDER BY 1;"
   ]
  },
  {
   "cell_type": "markdown",
   "id": "pressing-cornell",
   "metadata": {},
   "source": [
    "<hr style=\"height:2px;border:none;background-color:#00233C;\">\n",
    "<p style = 'font-size:18px;font-family:Arial;color:#00233C'><b>Rescaling</b></p>\n",
    "\n",
    "<p style = 'font-size:16px;font-family:Arial;color:#00233C'>Rescale all the numeric data to create a final analytic data set.  Create a fit table from the one-hot encoded data set</p>"
   ]
  },
  {
   "cell_type": "code",
   "execution_count": null,
   "id": "greater-plastic",
   "metadata": {},
   "outputs": [],
   "source": [
    "DROP TABLE SF_FIT;"
   ]
  },
  {
   "cell_type": "code",
   "execution_count": null,
   "id": "bound-valley",
   "metadata": {},
   "outputs": [],
   "source": [
    "WITH ohe_transformed AS (\n",
    "    SELECT * FROM TD_OneHotEncodingTransform (\n",
    "        ON Cleansed_PricesV AS InputTable\n",
    "        ON OHE_FIT AS FitTable Dimension\n",
    "    USING\n",
    "        IsInputDense('True')\n",
    ") AS d)\n",
    "\n",
    "SELECT * FROM TD_ScaleFit(\n",
    "    ON ohe_transformed AS InputTable\n",
    "    OUT TABLE OutputTable(SF_FIT)\n",
    "    USING\n",
    "        TargetColumns('[1:4]','[6:10]','[12:13]')\n",
    "        ScaleMethod('range')\n",
    ") as dt;"
   ]
  },
  {
   "cell_type": "markdown",
   "id": "seven-alloy",
   "metadata": {},
   "source": [
    "<hr style=\"height:2px;border:none;background-color:#00233C;\">\n",
    "<p style = 'font-size:18px;font-family:Arial;color:#00233C'><b>Combine the Transformations</b></p>\n",
    "\n",
    "<p style = 'font-size:16px;font-family:Arial;color:#00233C'>ColumnTransformer will execute multiple transformations in a single pass.  This same pattern can be passed as-is to <b>new</b> data coming into the system - either real-time or prepared in batch.</p>"
   ]
  },
  {
   "cell_type": "code",
   "execution_count": null,
   "id": "authentic-slide",
   "metadata": {},
   "outputs": [],
   "source": [
    "REPLACE VIEW Final_ADS_V AS (\n",
    "    SELECT id, lotfrontage, masvnrarea, _1stflrsf, _2ndflrsf,\n",
    "        alley_0, alley_1, electrical_0, electrical_1, electrical_2,\n",
    "        electrical_3, electrical_4, saleprice\n",
    "    FROM TD_ColumnTransformer(\n",
    "        ON pricesV AS inputtable\n",
    "\n",
    "        ON SI_FIT AS SimpleImputeFitTable DIMENSION\n",
    "        ON OF_FIT AS OutlierFilterFitTable DIMENSION\n",
    "        ON OHE_FIT AS OneHotEncodingFitTable DIMENSION\n",
    "        ON SF_FIT AS ScaleFitTable DIMENSION\n",
    "        \n",
    "    )AS dt\n",
    ")"
   ]
  },
  {
   "cell_type": "code",
   "execution_count": null,
   "id": "fancy-laugh",
   "metadata": {
    "tags": []
   },
   "outputs": [],
   "source": [
    "SELECT TOP 10 * FROM Final_ADS_V"
   ]
  },
  {
   "cell_type": "markdown",
   "id": "visible-bunny",
   "metadata": {},
   "source": [
    "<hr style=\"height:2px;border:none;background-color:#00233C;\">\n",
    "<p style = 'font-size:20px;font-family:Arial;color:#00233C'><b>Step 4 - Model training and scoring</b></p>\n",
    "\n",
    "<p style = 'font-size:16px;font-family:Arial;color:#00233C'>For illustration purposes, the ML model training and scoring processes are presented in a single vignette.  Model building functions include</p>\n",
    "\n",
    "<table style = 'width:100%;table-layout:fixed;'>\n",
    "    <tr>\n",
    "        <td style = 'vertical-align:top' width = '50%'>\n",
    "            <ol style = 'font-size:16px;font-family:Arial;color:#00233C'>\n",
    "                <li>Test/Train split</li>\n",
    "                <br>\n",
    "                <li>GLM</li>\n",
    "                <br>\n",
    "                <li>XGBoost</li>\n",
    "                <br>\n",
    "                <li>Decision Trees</li>\n",
    "                <br>\n",
    "                <li>SVM</li>\n",
    "                <br>\n",
    "                <li>KMeans</li>\n",
    "                <br>\n",
    "                <li>Vector similarity</li>\n",
    "            </ol>\n",
    "        </td>\n",
    "        <td><img src = 'images/Model_Gen.jpeg' width = '250'></td>\n",
    "    </tr>\n",
    "</table>"
   ]
  },
  {
   "cell_type": "markdown",
   "id": "willing-oakland",
   "metadata": {},
   "source": [
    "<hr style=\"height:2px;border:none;background-color:#00233C;\">\n",
    "<p style = 'font-size:18px;font-family:Arial;color:#00233C'><b>Split the data</b></p>\n",
    "\n",
    "<p style = 'font-size:16px;font-family:Arial;color:#00233C'>Test/Train Split can rapidly create testing and training data sets. Additional functionality includes stratification by column, random seeding for repeatability, etc.</p>"
   ]
  },
  {
   "cell_type": "code",
   "execution_count": null,
   "id": "structural-lewis",
   "metadata": {},
   "outputs": [],
   "source": [
    "SELECT TOP 5 * FROM TD_TrainTestSplit(\n",
    "ON Final_ADS_V AS InputTable\n",
    "USING\n",
    "IDColumn('id')\n",
    "trainSize(0.75)\n",
    "testSize(0.25)\n",
    ")As dt;"
   ]
  },
  {
   "cell_type": "markdown",
   "id": "ecological-description",
   "metadata": {},
   "source": [
    "<hr style=\"height:2px;border:none;background-color:#00233C;\">\n",
    "<p style = 'font-size:18px;font-family:Arial;color:#00233C'><b>Train the model</b></p>\n",
    "\n",
    "<p style = 'font-size:16px;font-family:Arial;color:#00233C'>In this demonstration we will use a simple glm (Generalized Linear Model) to predict housing sale price based on the features we've created.  The model is created as a table which assists in operationalization.</p>"
   ]
  },
  {
   "cell_type": "code",
   "execution_count": null,
   "id": "frozen-convenience",
   "metadata": {},
   "outputs": [],
   "source": [
    "WITH housing_train AS (\n",
    "    SELECT * FROM TD_TrainTestSplit(\n",
    "    ON Final_ADS_V AS InputTable\n",
    "    USING\n",
    "    IDColumn('id')\n",
    "    trainSize(0.75)\n",
    "    testSize(0.25)\n",
    "    )AS d\n",
    "    WHERE TD_IsTrainRow = 1\n",
    ")\n",
    "\n",
    "SELECT * from TD_GLM (\n",
    "    ON housing_train AS InputTable\n",
    "    USING\n",
    "    InputColumns('[2:12]')\n",
    "    ResponseColumn('saleprice')\n",
    "    Family('Gaussian')\n",
    ") AS dt\n"
   ]
  },
  {
   "cell_type": "code",
   "execution_count": null,
   "id": "unauthorized-bouquet",
   "metadata": {},
   "outputs": [],
   "source": [
    "DROP TABLE Housing_Model;"
   ]
  },
  {
   "cell_type": "code",
   "execution_count": null,
   "id": "collective-nashville",
   "metadata": {},
   "outputs": [],
   "source": [
    "CREATE TABLE Housing_Model AS (\n",
    "\n",
    "WITH housing_train AS (\n",
    "    SELECT * FROM TD_TrainTestSplit(\n",
    "    ON Final_ADS_V AS InputTable\n",
    "    USING\n",
    "    IDColumn('id')\n",
    "    trainSize(0.75)\n",
    "    testSize(0.25)\n",
    "    )AS d\n",
    "    WHERE TD_IsTrainRow = 1\n",
    ")\n",
    "\n",
    "SELECT * from TD_GLM (\n",
    "    ON housing_train AS InputTable\n",
    "    USING\n",
    "    InputColumns('[2:12]')\n",
    "    ResponseColumn('saleprice')\n",
    "    Family('Gaussian')\n",
    ") AS dt\n",
    ") WITH DATA;"
   ]
  },
  {
   "cell_type": "markdown",
   "id": "billion-convertible",
   "metadata": {},
   "source": [
    "<hr style=\"height:2px;border:none;background-color:#00233C;\">\n",
    "<p style = 'font-size:18px;font-family:Arial;color:#00233C'><b>Test the model</b></p>\n",
    "\n",
    "<p style = 'font-size:16px;font-family:Arial;color:#00233C'>Run the prediction against the training data set</p>"
   ]
  },
  {
   "cell_type": "code",
   "execution_count": null,
   "id": "deadly-monkey",
   "metadata": {},
   "outputs": [],
   "source": [
    "WITH housing_test AS (\n",
    "    SELECT * FROM TD_TrainTestSplit(\n",
    "    ON Final_ADS_V AS InputTable\n",
    "    USING\n",
    "    IDColumn('id')\n",
    "    trainSize(0.75)\n",
    "    testSize(0.25)\n",
    "    )AS d\n",
    "    WHERE TD_IsTrainRow = 0\n",
    ")\n",
    "\n",
    "\n",
    "SELECT TOP 10 * from TD_GLMPredict (\n",
    "  ON housing_test AS INPUTTABLE\n",
    "  ON Housing_Model AS ModelTable DIMENSION\n",
    "  USING\n",
    "  IDColumn ('id')\n",
    "  Accumulate('saleprice')\n",
    ") AS dt"
   ]
  },
  {
   "cell_type": "markdown",
   "id": "common-torture",
   "metadata": {},
   "source": [
    "<hr style=\"height:2px;border:none;background-color:#00233C;\">\n",
    "<p style = 'font-size:20px;font-family:Arial;color:#00233C'><b>Step 5 - Model evaluation</b></p>\n",
    "\n",
    "<p style = 'font-size:16px;font-family:Arial;color:#00233C'>In most real-world scenarios, it is untenable to copy all the testing data to the client for evaluation.  Vantage provides built-in evaluation functions to ascertain model efficacy at scale, including</p>\n",
    "\n",
    "<table style = 'width:100%;table-layout:fixed;'>\n",
    "    <tr>\n",
    "        <td style = 'vertical-align:top' width = '50%'>\n",
    "            <ol style = 'font-size:16px;font-family:Arial;color:#00233C'>\n",
    "                <li>Regression evaluation</li>\n",
    "                <br>\n",
    "                <li>Classification evaluation</li>\n",
    "                <br>\n",
    "                <li>ROC curve</li>\n",
    "                <br>\n",
    "                <li>Silhouette</li>\n",
    "            </ol>\n",
    "        </td>\n",
    "        <td><img src = 'images/Eval_Gen.jpeg' width = '250'></td>\n",
    "    </tr>\n",
    "</table>"
   ]
  },
  {
   "cell_type": "markdown",
   "id": "attached-paragraph",
   "metadata": {},
   "source": [
    "<hr style=\"height:2px;border:none;background-color:#00233C;\">\n",
    "<p style = 'font-size:18px;font-family:Arial;color:#00233C'><b>Regression Evaluation</b></p>\n",
    "\n",
    "<p style = 'font-size:16px;font-family:Arial;color:#00233C'>Evaluate the efficacy of our trained model on the testing data.  The RegressionEvaluator will calculate many metrics including root mean squared error (RMSE), mean absolute error, F-statistics, etc.</p>"
   ]
  },
  {
   "cell_type": "code",
   "execution_count": null,
   "id": "protecting-queens",
   "metadata": {},
   "outputs": [],
   "source": [
    "DROP TABLE housing_prediction;"
   ]
  },
  {
   "cell_type": "code",
   "execution_count": null,
   "id": "treated-sector",
   "metadata": {},
   "outputs": [],
   "source": [
    "CREATE VOLATILE TABLE housing_prediction AS (\n",
    "\n",
    "WITH housing_test AS (\n",
    "    SELECT * FROM TD_TrainTestSplit(\n",
    "    ON Final_ADS_V AS InputTable\n",
    "    USING\n",
    "    IDColumn('id')\n",
    "    trainSize(0.75)\n",
    "    testSize(0.25)\n",
    "    )AS d\n",
    "    WHERE TD_IsTrainRow = 0\n",
    ")\n",
    "\n",
    "\n",
    "SELECT * from TD_GLMPredict (\n",
    "  ON housing_test AS INPUTTABLE\n",
    "  ON Housing_Model AS ModelTable DIMENSION\n",
    "  USING\n",
    "  IDColumn ('id')\n",
    "  Accumulate('saleprice')\n",
    ") AS dt) WITH DATA\n",
    "ON COMMIT PRESERVE ROWS;"
   ]
  },
  {
   "cell_type": "code",
   "execution_count": null,
   "id": "mature-belly",
   "metadata": {},
   "outputs": [],
   "source": [
    "SELECT * FROM TD_RegressionEvaluator(\n",
    "    ON housing_prediction AS InputTable\n",
    "    USING\n",
    "    ObservationColumn('saleprice')\n",
    "    PredictionColumn('prediction')\n",
    "    Metrics('RMSE','MAE','MAPE')\n",
    ") AS dtt;\n",
    ";"
   ]
  },
  {
   "cell_type": "markdown",
   "id": "legislative-variable",
   "metadata": {},
   "source": [
    "<hr style=\"height:2px;border:none;background-color:#00233C;\">\n",
    "<p style = 'font-size:18px;font-family:Arial;color:#00233C'><b>In-database plotting</b></p>\n",
    "\n",
    "<p style = 'font-size:16px;font-family:Arial;color:#00233C'>Teradata Vantage can also generate visualizations in-database; which allows for rapid visual analysis of the results.  Here, unpivot the data for easier multi-series plotting.</p>"
   ]
  },
  {
   "cell_type": "code",
   "execution_count": null,
   "id": "mathematical-mongolia",
   "metadata": {},
   "outputs": [],
   "source": [
    "REPLACE VIEW housing_unpivot_V AS (\n",
    "SELECT * FROM TD_UNPIVOTING(\n",
    "ON housing_prediction AS InputTable PARTITION BY ANY \n",
    "USING \n",
    "IDCOLUMN('id')\n",
    "TARGETCOLUMNS ('prediction', 'saleprice')\n",
    "\n",
    "INCLUDENULLS('true')\n",
    ")AS dt);"
   ]
  },
  {
   "cell_type": "code",
   "execution_count": null,
   "id": "built-simpson",
   "metadata": {},
   "outputs": [],
   "source": [
    "SELECT TOP 5 * FROM housing_unpivot_V;"
   ]
  },
  {
   "cell_type": "code",
   "execution_count": null,
   "id": "attended-found",
   "metadata": {},
   "outputs": [],
   "source": [
    "EXECUTE FUNCTION\n",
    "TD_PLOT(\n",
    "  SERIES_SPEC(\n",
    "    TABLE_NAME(housing_unpivot_V),\n",
    "    ROW_AXIS(SEQUENCE(id)),\n",
    "    SERIES_ID(AttributeName),\n",
    "    PAYLOAD (\n",
    "      FIELDS(AttributeValue),\n",
    "      CONTENT(REAL)\n",
    "    )\n",
    "  ),\n",
    "  FUNC_PARAMS(\n",
    "    TITLE('XY Plot'),\n",
    "    PLOTS[(\n",
    "      TYPE('line'),\n",
    "      LEGEND('upper right'),\n",
    "      YRANGE(0.0,400000.0),\n",
    "      SERIES[\n",
    "          (ID(1), NAME('prediction'), FORMAT('r-')),\n",
    "          (ID(2), NAME('saleprice'), FORMAT('b--'))]\n",
    "    )],\n",
    "    WIDTH(1024),\n",
    "    HEIGHT(768)\n",
    "  )\n",
    ");"
   ]
  },
  {
   "cell_type": "markdown",
   "id": "formed-pattern",
   "metadata": {},
   "source": [
    "<hr style=\"height:2px;border:none;background-color:#00233C;\">\n",
    "<p style = 'font-size:20px;font-family:Arial;color:#00233C'><b>Step 6 - Operationalization</b></p>\n",
    "\n",
    "<p style = 'font-size:16px;font-family:Arial;color:#00233C'>With many traditional approaches to the ML and AI workflow; this is the point at which the <b>hard</b> work begins.  Developers must take all the steps they've performed in various tools and translate them into a design pattern that is <b>robust, repeatable, and performant</b>.  Thankfully with Teradata Vantage, this is done virtually automatically.  Multiple design patterns can be implemented, including</p>\n",
    "\n",
    "<table style = 'width:100%;table-layout:fixed;'>\n",
    "    <tr>\n",
    "        <td style = 'vertical-align:top' width = '50%'>\n",
    "            <ol style = 'font-size:16px;font-family:Arial;color:#00233C'>\n",
    "                <li>Batch pipelines</li>\n",
    "                <br>\n",
    "                <li>Enterprise feature store</li>\n",
    "                <br>\n",
    "                <li>On-demand/near-realtime processing</li>\n",
    "            </ol>\n",
    "        </td>\n",
    "        <td><img src = 'images/Pipeline_Gen.jpeg' width = '250'></td>\n",
    "    </tr>\n",
    "</table>"
   ]
  },
  {
   "cell_type": "markdown",
   "id": "stunning-china",
   "metadata": {},
   "source": [
    "<hr style=\"height:2px;border:none;background-color:#00233C;\">\n",
    "<p style = 'font-size:18px;font-family:Arial;color:#00233C'><b>Batch pipelines</b></p>\n",
    "\n",
    "<p style = 'font-size:16px;font-family:Arial;color:#00233C'>Depending on use case, it may be acceptable to prepare and/or evaluate data in batch.  All or part of the pipeline developed above can be implemented using ETL toos, workflow schedulers, or part of a CI/CD-style process.  Note the SQL that is used is relatively simple as compared to writing these transformation and cleansing tasks using standard SQL.  This demonstration will re-use assets developed above, including;</p>\n",
    "\n",
    "<ul style = 'font-size:16px;font-family:Arial;color:#00233C'>\n",
    "    <li><b>Fit tables</b> which contain the metadata required to perform the cleansing and feature engineering tasks</li>\n",
    "    <li><b>Column transformer</b> to execute complex cleansing and transformation tasks using a single expression</li>\n",
    "    <li><b>Model tables</b>.  Models are stored in Vantage as tables - and can be treated as any other data asset, with versioning, DR, and the ability to manage and execute multiple versions or model types at will</li>\n",
    "    </ul>\n"
   ]
  },
  {
   "cell_type": "code",
   "execution_count": null,
   "id": "engaging-treasurer",
   "metadata": {},
   "outputs": [],
   "source": [
    "--Simulate new data coming in\n",
    "REPLACE VIEW new_housing_dataV AS (\n",
    "    SELECT id, lotfrontage, masvnrarea, alley, electrical, _1stflrsf, _2ndflrsf, saleprice\n",
    "    FROM demo_ofs.housing_prices_full)"
   ]
  },
  {
   "cell_type": "code",
   "execution_count": null,
   "id": "permanent-jewelry",
   "metadata": {},
   "outputs": [],
   "source": [
    "/*Copy the same transformation expression from above\n",
    "Replace the inputtable clause with the new data */\n",
    "\n",
    "SELECT TOP 10 id, lotfrontage, masvnrarea, _1stflrsf, _2ndflrsf,\n",
    "    alley_0, alley_1, electrical_0, electrical_1, electrical_2,\n",
    "    electrical_3, electrical_4, saleprice\n",
    "FROM TD_ColumnTransformer(\n",
    "    ON new_housing_dataV AS INPUTTABLE\n",
    "\n",
    "    ON SI_FIT AS SimpleImputeFitTable DIMENSION\n",
    "    ON OF_FIT AS OutlierFilterFitTable DIMENSION\n",
    "    ON OHE_FIT AS OneHotEncodingFitTable DIMENSION\n",
    "    ON SF_FIT AS ScaleFitTable DIMENSION\n",
    "\n",
    ")AS dt\n"
   ]
  },
  {
   "cell_type": "code",
   "execution_count": null,
   "id": "resident-facial",
   "metadata": {},
   "outputs": [],
   "source": [
    "/* Add the GLMPredict Function\n",
    "Using the existing model */\n",
    "\n",
    "WITH new_data_transformed AS (\n",
    "    SELECT TOP 10 id, lotfrontage, masvnrarea, _1stflrsf, _2ndflrsf,\n",
    "        alley_0, alley_1, electrical_0, electrical_1, electrical_2,\n",
    "        electrical_3, electrical_4, saleprice\n",
    "    FROM TD_ColumnTransformer(\n",
    "        ON new_housing_dataV AS INPUTTABLE\n",
    "\n",
    "        ON SI_FIT AS SimpleImputeFitTable DIMENSION\n",
    "        ON OF_FIT AS OutlierFilterFitTable DIMENSION\n",
    "        ON OHE_FIT AS OneHotEncodingFitTable DIMENSION\n",
    "        ON SF_FIT AS ScaleFitTable DIMENSION\n",
    "\n",
    "    )AS d)\n",
    "\n",
    "SELECT TOP 10 * from TD_GLMPredict (\n",
    "  ON new_data_transformed AS INPUTTABLE\n",
    "  ON Housing_Model AS ModelTable DIMENSION\n",
    "  USING\n",
    "  IDColumn ('id')\n",
    "  Accumulate('saleprice')\n",
    ") AS dt;"
   ]
  },
  {
   "cell_type": "markdown",
   "id": "partial-yellow",
   "metadata": {},
   "source": [
    "<hr style=\"height:2px;border:none;background-color:#00233C;\">\n",
    "<p style = 'font-size:18px;font-family:Arial;color:#00233C'><b>Interactive pipeline</b></p>\n",
    "\n",
    "<p style = 'font-size:16px;font-family:Arial;color:#00233C'>Given the performance and scale of Teradata Vantage, we can execute a similar workflow, but instead of executing against a batch of rows, we can input data directly.</p>\n",
    "<ul style = 'font-size:16px;font-family:Arial;color:#00233C'>\n",
    "    <li><b>Dynamically-generated SQL</b> using external tools or applications</li>\n",
    "    <li><b>Stored Procedures</b> to minimize complexity</li>\n",
    "    </ul>"
   ]
  },
  {
   "cell_type": "code",
   "execution_count": null,
   "id": "stock-father",
   "metadata": {},
   "outputs": [],
   "source": [
    "%var lf=50, ma=100, fl1=2000, fl2=1500"
   ]
  },
  {
   "cell_type": "code",
   "execution_count": null,
   "id": "amateur-softball",
   "metadata": {},
   "outputs": [],
   "source": [
    "WITH input_data AS (\n",
    "    SELECT 0 as id, ${lf} as lotfrontage, ${ma} as masvnrarea, '' as alley, 'SBrkr' as electrical, \n",
    "    ${fl1} as _1stflrsf, ${fl2} as _2ndflrsf),\n",
    "\n",
    "new_data_transformed AS (\n",
    "    SELECT id, lotfrontage, masvnrarea, _1stflrsf, _2ndflrsf,\n",
    "        alley_0, alley_1, electrical_0, electrical_1, electrical_2,\n",
    "        electrical_3, electrical_4 --, saleprice\n",
    "    FROM TD_ColumnTransformer(\n",
    "        ON input_data AS INPUTTABLE\n",
    "\n",
    "        ON SI_FIT AS SimpleImputeFitTable DIMENSION\n",
    "        ON OF_FIT AS OutlierFilterFitTable DIMENSION\n",
    "        ON OHE_FIT AS OneHotEncodingFitTable DIMENSION\n",
    "        ON SF_FIT AS ScaleFitTable DIMENSION\n",
    "\n",
    "    )AS d)\n",
    "\n",
    "SELECT * from TD_GLMPredict (\n",
    "  ON new_data_transformed AS INPUTTABLE\n",
    "  ON Housing_Model AS ModelTable DIMENSION\n",
    "  USING\n",
    "  IDColumn ('id')\n",
    ") AS dt;"
   ]
  },
  {
   "cell_type": "code",
   "execution_count": null,
   "id": "annual-flashing",
   "metadata": {
    "tags": []
   },
   "outputs": [],
   "source": [
    "REPLACE PROCEDURE housing_price_prediction_sp\n",
    "(   \n",
    "    IN ip_lf BIGINT,\n",
    "    IN ip_ma BIGINT,\n",
    "    IN ip_al VARCHAR(30),\n",
    "    IN ip_elec VARCHAR(30),\n",
    "    IN ip_1st BIGINT,\n",
    "    IN ip_2nd BIGINT\n",
    ")\n",
    "DYNAMIC RESULT SETS 1\n",
    "BEGIN\n",
    "    DECLARE SqlStr VARCHAR(2000);\n",
    "    DECLARE rslt CURSOR WITH RETURN ONLY FOR stmt;\n",
    "    \n",
    "    SET SQLStr = 'SELECT prediction from TD_GLMPredict (\n",
    "  ON (\n",
    "        SELECT id, lotfrontage, masvnrarea, _1stflrsf, _2ndflrsf,\n",
    "            alley_0, alley_1, electrical_0, electrical_1, electrical_2,\n",
    "            electrical_3, electrical_4\n",
    "        FROM TD_ColumnTransformer(\n",
    "            ON (SELECT 0 as id, '|| ip_lf ||' as lotfrontage, '|| ip_ma ||' as masvnrarea, \n",
    "            '''|| ip_al ||''' as alley, '''||ip_al||''' as electrical,\n",
    "            '||ip_1st||' as _1stflrsf, '||ip_2nd||' as _2ndflrsf) AS INPUTTABLE\n",
    "\n",
    "            ON SI_FIT AS SimpleImputeFitTable DIMENSION\n",
    "            ON OF_FIT AS OutlierFilterFitTable DIMENSION\n",
    "            ON OHE_FIT AS OneHotEncodingFitTable DIMENSION\n",
    "            ON SF_FIT AS ScaleFitTable DIMENSION\n",
    "\n",
    "        )AS d) AS INPUTTABLE\n",
    "  ON Housing_Model AS ModelTable DIMENSION\n",
    "  USING\n",
    "  IDColumn (''id'')\n",
    ") AS dt';\n",
    "   PREPARE stmt FROM SqlStr;\n",
    "   OPEN rslt;\n",
    "END;"
   ]
  },
  {
   "cell_type": "code",
   "execution_count": null,
   "id": "signed-national",
   "metadata": {},
   "outputs": [],
   "source": [
    "/* Pass in\n",
    "- Lot Frontage\n",
    "- Masonry Veneer Area\n",
    "- alley\n",
    "- electrical\n",
    "- 1st floor footage\n",
    "- 2nd floor footage\n",
    "*/\n",
    "CALL housing_price_prediction_sp(95, 100, '', 'SBrkr', 2992, 1770)"
   ]
  },
  {
   "cell_type": "markdown",
   "id": "touched-entrance",
   "metadata": {},
   "source": [
    "<hr style=\"height:2px;border:none;background-color:#00233C;\">\n",
    "<p style = 'font-size:20px;font-family:Arial;color:#00233C'><b>Conclusion</b></p>\n",
    "\n",
    "<p style = 'font-size:16px;font-family:Arial;color:#00233C'>The preceding demonstration has reviewed how Teradata Vantage <b>ClearScape Analytics</b> functions provide analysts, developers, and data scientists a set of powerful tools that will allow oeganizations to develop and <b>deliver</b> advanced analytic products rapidly into production, unlocking the value of innovation and next-generation AI and ML outcomes.</p>"
   ]
  },
  {
   "cell_type": "markdown",
   "id": "polar-degree",
   "metadata": {},
   "source": [
    "<hr style=\"height:2px;border:none;background-color:#00233C;\">\n",
    "<b style = 'font-size:18px;font-family:Arial;color:#00233C'>Clean Up</b>\n",
    "\n",
    "<p style = 'font-size:16px;font-family:Arial;color:#00233C'>Clean up all objects created during this demonstration.</p>"
   ]
  },
  {
   "cell_type": "code",
   "execution_count": null,
   "id": "animal-keyboard",
   "metadata": {},
   "outputs": [],
   "source": [
    "DROP VIEW pricesV;"
   ]
  },
  {
   "cell_type": "code",
   "execution_count": null,
   "id": "regulated-former",
   "metadata": {},
   "outputs": [],
   "source": [
    "DROP TABLE SI_FIT;"
   ]
  },
  {
   "cell_type": "code",
   "execution_count": null,
   "id": "public-video",
   "metadata": {},
   "outputs": [],
   "source": [
    "DROP TABLE OF_FIT;"
   ]
  },
  {
   "cell_type": "code",
   "execution_count": null,
   "id": "premium-shooting",
   "metadata": {},
   "outputs": [],
   "source": [
    "DROP TABLE OHE_FIT;"
   ]
  },
  {
   "cell_type": "code",
   "execution_count": null,
   "id": "sophisticated-classification",
   "metadata": {},
   "outputs": [],
   "source": [
    "DROP TABLE SF_FIT;"
   ]
  },
  {
   "cell_type": "code",
   "execution_count": null,
   "id": "illegal-enlargement",
   "metadata": {},
   "outputs": [],
   "source": [
    "DROP VIEW Cleansed_PricesV;"
   ]
  },
  {
   "cell_type": "code",
   "execution_count": null,
   "id": "express-string",
   "metadata": {},
   "outputs": [],
   "source": [
    "DROP VIEW Final_ADS_V;"
   ]
  },
  {
   "cell_type": "code",
   "execution_count": null,
   "id": "played-yellow",
   "metadata": {},
   "outputs": [],
   "source": [
    "DROP TABLE Housing_Model;"
   ]
  },
  {
   "cell_type": "code",
   "execution_count": null,
   "id": "defined-client",
   "metadata": {},
   "outputs": [],
   "source": [
    "DROP VIEW housing_unpivot_V;"
   ]
  },
  {
   "cell_type": "code",
   "execution_count": null,
   "id": "allied-grocery",
   "metadata": {},
   "outputs": [],
   "source": [
    "DROP VIEW new_housing_dataV;"
   ]
  },
  {
   "cell_type": "code",
   "execution_count": null,
   "id": "attended-direction",
   "metadata": {},
   "outputs": [],
   "source": [
    "DROP PROCEDURE housing_price_prediction_sp;"
   ]
  },
  {
   "cell_type": "code",
   "execution_count": null,
   "id": "dietary-strategy",
   "metadata": {},
   "outputs": [],
   "source": [
    "%disconnect demo_system"
   ]
  },
  {
   "cell_type": "code",
   "execution_count": null,
   "id": "vertical-official",
   "metadata": {},
   "outputs": [],
   "source": []
  }
 ],
 "metadata": {
  "kernelspec": {
   "display_name": "Teradata SQL",
   "language": "Teradata SQL",
   "name": "teradatasql"
  },
  "language_info": {
   "codemirror_mode": "Teradata SQL",
   "file_extension": ".tdrs",
   "mimetype": "application/vnd.teradata.resultset",
   "name": "Teradata SQL",
   "nbconvert_exporter": "",
   "pygments_lexer": "",
   "version": "16.20"
  }
 },
 "nbformat": 4,
 "nbformat_minor": 5
}
