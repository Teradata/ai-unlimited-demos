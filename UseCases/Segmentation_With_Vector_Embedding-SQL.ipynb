{
 "cells": [
  {
   "cell_type": "markdown",
   "metadata": {},
   "source": [
    "<header>\n",
    "   <p  style='font-size:36px;font-family:Arial; color:#F0F0F0; background-color: #00233c; padding-left: 20pt; padding-top: 20pt;padding-bottom: 10pt; padding-right: 20pt;'>\n",
    "       Experiment with Customer Segmentation using and open-source LLMs on AI Unlimited\n",
    "  <br>\n",
    "       <img id=\"teradata-logo\" src=\"https://raw.githubusercontent.com/Teradata/lake-demos/8c77e9297e8f3059921aee472fc0ae30ae0537db/images/TeradataLogo.png\" alt=\"Teradata\" style=\"width: 125px; height: auto; margin-top: 20pt;\">\n",
    "    </p>\n",
    "</header>\n",
    "<hr>"
   ]
  },
  {
   "cell_type": "markdown",
   "metadata": {},
   "source": [
    "<br>\n",
    "\n",
    "<b style = 'font-size:24px;font-family:Arial;color:#00233C'>Leverage highly-scalable native processing functions to experiment with ideal customer segments using word embeddings and clustering algorithms</b>\n",
    "\n",
    "<p style = 'font-size:16px;font-family:Arial;color:#00233C'><b>Vector embedding</b> is a numerical representation of data that captures semantic relationships and similarities, making it possible to perform mathematical operations and comparisons on the data for various tasks like text analysis and recommendation systems.</p>\n",
    "\n",
    "<p style = 'font-size:16px;font-family:Arial;color:#00233C'><b>K-means clustering</b> is one of the most popular <b>unsupervised</b> machine learning algorithms.  Essentially, the algorithm seeks to group similar data points together by minimizing the average (\"means\" in K-means) distance for all data points from each cluster's center (centroid).</p>\n",
    "\n",
    "<p style = 'font-size:16px;font-family:Arial;color:#00233C'>Using <b>Teradata AI Unlimited</b> and <b>ClearScape Analytics</b>, users can experiment with advanced AI and ML techniques to <b>rapidly</b> find the ideal number of customer segments based on the semantic meaning of their comments history.  This segmentation can be used on its own for marketing and other tasts, or used in further predictive analytics use cases.</p>\n",
    "\n",
    "<table style = 'width:100%;table-layout:fixed;'>\n",
    "    <tr>\n",
    "        <td style = 'vertical-align:top' width = '50%'>\n",
    "            <ol style = 'font-size:16px;font-family:Arial;color:#00233C'>\n",
    "                <li>Create a Vector Embedding table using open-source LLMs against customer comments data, using the <b>AI Unlimited</b> Engine</li>\n",
    "                <br>\n",
    "                <li>Execute multiple experiments <b>in parallel</b>, leveraging the highly-scalable nature of the platform</li>\n",
    "                <br>\n",
    "                <li>Visualize the experimental results to indicate the best cluster.</li>\n",
    "            </ol>\n",
    "        </td>\n",
    "        <td><img src = 'https://raw.githubusercontent.com/Teradata/lake-demos/8c77e9297e8f3059921aee472fc0ae30ae0537db/UseCases/Vector-Embeddings-Segmentation/images/comparative_superlative_small.jpg' width = '250'></td>\n",
    "        <td><img src = 'https://raw.githubusercontent.com/Teradata/lake-demos/8c77e9297e8f3059921aee472fc0ae30ae0537db/UseCases/Vector-Embeddings-Segmentation/images/K-means_convergence.gif' width = '250'></td>\n",
    "    </tr>\n",
    "</table>\n",
    "\n",
    "<hr>"
   ]
  },
  {
   "cell_type": "code",
   "execution_count": 1,
   "metadata": {},
   "outputs": [
    {
     "name": "stdout",
     "output_type": "stream",
     "text": [
      "Success: 'unlimited' connection established and activated for user 'tduser', with default database 'unlimited'\n"
     ]
    }
   ],
   "source": [
    "%connect unlimited"
   ]
  },
  {
   "cell_type": "markdown",
   "metadata": {},
   "source": [
    "<hr>\n",
    "<p style = 'font-size:20px;font-family:Arial;color:#00233C'><b>Step 0 - Access and inspect data</b></p>\n",
    "\n",
    "<p style = 'font-size:16px;font-family:Arial;color:#00233C'>Teradata AI Unlimited can transparently <b>read</b> and <b>write</b> data from various third-party catalogs such as <b>AWS Glue</b>, <b>Azure OneLake</b>, etc.  To access this data, perform the following</p>\n",
    "\n",
    "<ol style = 'font-size:16px;font-family:Arial;color:#00233C'>\n",
    "    <li>Create an Authorization object for secured access</li>\n",
    "    <li>create a \"DATALAKE\" object that points to the catalog</li>\n",
    "    <li>Use SQL syntax to inspect the catalog, database, and table metadata</li>\n",
    "    </ol>\n",
    "    "
   ]
  },
  {
   "cell_type": "code",
   "execution_count": 17,
   "metadata": {},
   "outputs": [
    {
     "data": {
      "text/plain": [
       "Success: 1 rows affected"
      ]
     },
     "execution_count": 17,
     "metadata": {
      "application/vnd.teradata.resultset": ""
     },
     "output_type": "execute_result"
    }
   ],
   "source": [
    "/*First, we'll create an authorization to establish the credendials for AWS resources */\n",
    "REPLACE AUTHORIZATION unlimited.glue_auth_aws\n",
    "USER 'EXAMPLE'\n",
    "PASSWORD 'EXAMPLE';"
   ]
  },
  {
   "cell_type": "code",
   "execution_count": 18,
   "metadata": {},
   "outputs": [
    {
     "data": {
      "text/plain": [
       "Success: 0 rows affected"
      ]
     },
     "execution_count": 18,
     "metadata": {
      "application/vnd.teradata.resultset": ""
     },
     "output_type": "execute_result"
    }
   ],
   "source": [
    "/*Second we create the connectivity to the Iceberg Glue Data Lake*/\n",
    "\n",
    "REPLACE DATALAKE aws_glue_catalog\n",
    "EXTERNAL SECURITY CATALOG unlimited.glue_auth_aws,\n",
    "EXTERNAL SECURITY STORAGE unlimited.glue_auth_aws\n",
    "USING\n",
    "catalog_type ('glue')\n",
    "storage_region ('us-west-2')\n",
    "TABLE FORMAT iceberg;"
   ]
  },
  {
   "cell_type": "code",
   "execution_count": 19,
   "metadata": {},
   "outputs": [
    {
     "data": {
      "application/vnd.teradata.resultset": "\"DatabaseName\",\"DatabaseProperties\"\n\"default\",\"\"\n\"tddemos_glue_db\",\"'location'='s3://kmstddemobucket/glue-db/'\"",
      "text/html": [
       "<div class = \"td-resultset-table-div\" style = \"max-height: 100%; overflow-y: auto\">\n",
       "      <table class=\"tdhistory894097\"><style>\n",
       "      table.tdhistory894097 { display: block !important; min-height: 150px !important; overflow: auto !important; height: 150px !important; width: 100% !important; border: 1px solid rgb(207, 207, 207) !important; border-collapse: collapse !important; ; color: var(--jp-ui-font-color1) !important; }\n",
       "      th.tdhistory894097 { border: 1px solid rgb(198,198,198) !important; border-collapse: collapse !important; ; padding: 2px 5px !important; ; font-size: 13px !important; ; text-align: center !important; white-space: normal !important; color: var(--jp-ui-font-color1) !important; }\n",
       "      th.tdhistory894097:last-child { text-align: left !important; }\n",
       "      tbody.tdhistory894097 tr:nth-child(even) { background: rgba(243, 243, 243, 0.75) !important; }\n",
       "      tbody.tdhistory894097 tr:nth-child(odd) { background: var(--jp-ui-inverse-font-color1) !important; }\n",
       "      td.tdhistory894097 { border: 1px solid rgb(207, 207, 207) !important; border-collapse: collapse !important; ; padding: 2px 5px !important; ; font-size: 13px !important; ; text-align: left !important;          white-space: nowrap !important; overflow:hidden !important; text-overflow:ellipsis !important;; }\n",
       "    </style><thead><tr style= \"background: rgba(243, 243, 243, 0.75)\"><th class=\"tdhistory894097\"></th><th class=\"tdhistory894097\">DatabaseName</th><th class=\"tdhistory894097\">DatabaseProperties</th></tr></thead><tbody class=\"tdhistory894097 resultset-body\"><tr><th class=\"tdhistory894097\" style= \"background: rgba(243, 243, 243, 0.75)\">1</th><td class=\"tdhistory894097\">default</td><td class=\"tdhistory894097\"></td></tr><tr><th class=\"tdhistory894097\" style= \"background: rgba(243, 243, 243, 0.75)\">2</th><td class=\"tdhistory894097\">tddemos_glue_db</td><td class=\"tdhistory894097\">'location'='s3://kmstddemobucket/glue-db/'</td></tr></tbody></table></div>"
      ]
     },
     "execution_count": 19,
     "metadata": {
      "application/vnd.teradata.resultset": "{\"resultSetID\":\"/home/jovyan/JupyterLabRoot/Teradata/Resultsets/2024.05.23_17.50.19.568_UTC\",\"historyID\":18,\"chunkID\":\"00001\",\"sessionid\":\"\",\"portnum\":\"\",\"dockermode\":\"docker\",\"totalRowCount\":2,\"chunkCount\":0,\"rowLimit\":0,\"columnMetadata\":[{\"columnName\":\"DatabaseName\",\"columnTypeName\":\"LONG VARCHAR\",\"length\":32000,\"scale\":32000},{\"columnNumber\":1,\"columnName\":\"DatabaseProperties\",\"columnTypeName\":\"LONG VARCHAR\",\"length\":32000,\"scale\":32000}]}"
     },
     "output_type": "execute_result"
    }
   ],
   "source": [
    "HELP DATALAKE aws_glue_catalog;"
   ]
  },
  {
   "cell_type": "code",
   "execution_count": 20,
   "metadata": {},
   "outputs": [
    {
     "data": {
      "application/vnd.teradata.resultset": "\"TableName\",\"TableProperties\"\n\"customer_journey\",\"\"\n\"glove_6b_50d\",\"\"\n\"retail_events\",\"\"\n\"uk_retail_data\",\"\"\n\"web_comment\",\"\"",
      "text/html": [
       "<div class = \"td-resultset-table-div\" style = \"max-height: 100%; overflow-y: auto\">\n",
       "      <table class=\"tdhistory412292\"><style>\n",
       "      table.tdhistory412292 { display: block !important; min-height: 225px !important; overflow: auto !important; height: 225px !important; width: 100% !important; border: 1px solid rgb(207, 207, 207) !important; border-collapse: collapse !important; ; color: var(--jp-ui-font-color1) !important; }\n",
       "      th.tdhistory412292 { border: 1px solid rgb(198,198,198) !important; border-collapse: collapse !important; ; padding: 2px 5px !important; ; font-size: 13px !important; ; text-align: center !important; white-space: normal !important; color: var(--jp-ui-font-color1) !important; }\n",
       "      th.tdhistory412292:last-child { text-align: left !important; }\n",
       "      tbody.tdhistory412292 tr:nth-child(even) { background: rgba(243, 243, 243, 0.75) !important; }\n",
       "      tbody.tdhistory412292 tr:nth-child(odd) { background: var(--jp-ui-inverse-font-color1) !important; }\n",
       "      td.tdhistory412292 { border: 1px solid rgb(207, 207, 207) !important; border-collapse: collapse !important; ; padding: 2px 5px !important; ; font-size: 13px !important; ; text-align: left !important;          white-space: nowrap !important; overflow:hidden !important; text-overflow:ellipsis !important;; }\n",
       "    </style><thead><tr style= \"background: rgba(243, 243, 243, 0.75)\"><th class=\"tdhistory412292\"></th><th class=\"tdhistory412292\">TableName</th><th class=\"tdhistory412292\">TableProperties</th></tr></thead><tbody class=\"tdhistory412292 resultset-body\"><tr><th class=\"tdhistory412292\" style= \"background: rgba(243, 243, 243, 0.75)\">1</th><td class=\"tdhistory412292\">customer_journey</td><td class=\"tdhistory412292\"></td></tr><tr><th class=\"tdhistory412292\" style= \"background: rgba(243, 243, 243, 0.75)\">2</th><td class=\"tdhistory412292\">glove_6b_50d</td><td class=\"tdhistory412292\"></td></tr><tr><th class=\"tdhistory412292\" style= \"background: rgba(243, 243, 243, 0.75)\">3</th><td class=\"tdhistory412292\">retail_events</td><td class=\"tdhistory412292\"></td></tr><tr><th class=\"tdhistory412292\" style= \"background: rgba(243, 243, 243, 0.75)\">4</th><td class=\"tdhistory412292\">uk_retail_data</td><td class=\"tdhistory412292\"></td></tr><tr><th class=\"tdhistory412292\" style= \"background: rgba(243, 243, 243, 0.75)\">5</th><td class=\"tdhistory412292\">web_comment</td><td class=\"tdhistory412292\"></td></tr></tbody></table></div>"
      ]
     },
     "execution_count": 20,
     "metadata": {
      "application/vnd.teradata.resultset": "{\"resultSetID\":\"/home/jovyan/JupyterLabRoot/Teradata/Resultsets/2024.05.23_17.50.20.493_UTC\",\"historyID\":19,\"chunkID\":\"00001\",\"sessionid\":\"\",\"portnum\":\"\",\"dockermode\":\"docker\",\"totalRowCount\":5,\"chunkCount\":0,\"rowLimit\":0,\"columnMetadata\":[{\"columnName\":\"TableName\",\"columnTypeName\":\"LONG VARCHAR\",\"length\":32000,\"scale\":32000},{\"columnNumber\":1,\"columnName\":\"TableProperties\",\"columnTypeName\":\"LONG VARCHAR\",\"length\":32000,\"scale\":32000}]}"
     },
     "output_type": "execute_result"
    }
   ],
   "source": [
    "HELP DATABASE aws_glue_catalog.tddemos_glue_db;"
   ]
  },
  {
   "cell_type": "code",
   "execution_count": 21,
   "metadata": {},
   "outputs": [
    {
     "data": {
      "application/vnd.teradata.resultset": "\"ColumnName\",\"IcebergType\",\"TeradataType\"\n\"comment_id\",\"int\",\"INTEGER_DT\"\n\"customer_id\",\"int\",\"INTEGER_DT\"\n\"comment_text\",\"string\",\"VARCHAR_DT(32000) CHARACTER SET UNICODE\"\n\"comment_summary\",\"string\",\"VARCHAR_DT(32000) CHARACTER SET UNICODE\"",
      "text/html": [
       "<div class = \"td-resultset-table-div\" style = \"max-height: 100%; overflow-y: auto\">\n",
       "      <table class=\"tdhistory944220\"><style>\n",
       "      table.tdhistory944220 { display: block !important; min-height: 200px !important; overflow: auto !important; height: 200px !important; width: 100% !important; border: 1px solid rgb(207, 207, 207) !important; border-collapse: collapse !important; ; color: var(--jp-ui-font-color1) !important; }\n",
       "      th.tdhistory944220 { border: 1px solid rgb(198,198,198) !important; border-collapse: collapse !important; ; padding: 2px 5px !important; ; font-size: 13px !important; ; text-align: center !important; white-space: normal !important; color: var(--jp-ui-font-color1) !important; }\n",
       "      th.tdhistory944220:last-child { text-align: left !important; }\n",
       "      tbody.tdhistory944220 tr:nth-child(even) { background: rgba(243, 243, 243, 0.75) !important; }\n",
       "      tbody.tdhistory944220 tr:nth-child(odd) { background: var(--jp-ui-inverse-font-color1) !important; }\n",
       "      td.tdhistory944220 { border: 1px solid rgb(207, 207, 207) !important; border-collapse: collapse !important; ; padding: 2px 5px !important; ; font-size: 13px !important; ; text-align: left !important;          white-space: nowrap !important; overflow:hidden !important; text-overflow:ellipsis !important;; }\n",
       "    </style><thead><tr style= \"background: rgba(243, 243, 243, 0.75)\"><th class=\"tdhistory944220\"></th><th class=\"tdhistory944220\">ColumnName</th><th class=\"tdhistory944220\">IcebergType</th><th class=\"tdhistory944220\">TeradataType</th></tr></thead><tbody class=\"tdhistory944220 resultset-body\"><tr><th class=\"tdhistory944220\" style= \"background: rgba(243, 243, 243, 0.75)\">1</th><td class=\"tdhistory944220\">comment_id</td><td class=\"tdhistory944220\">int</td><td class=\"tdhistory944220\">INTEGER_DT</td></tr><tr><th class=\"tdhistory944220\" style= \"background: rgba(243, 243, 243, 0.75)\">2</th><td class=\"tdhistory944220\">customer_id</td><td class=\"tdhistory944220\">int</td><td class=\"tdhistory944220\">INTEGER_DT</td></tr><tr><th class=\"tdhistory944220\" style= \"background: rgba(243, 243, 243, 0.75)\">3</th><td class=\"tdhistory944220\">comment_text</td><td class=\"tdhistory944220\">string</td><td class=\"tdhistory944220\">VARCHAR_DT(32000) CHARACTER SET UNICODE</td></tr><tr><th class=\"tdhistory944220\" style= \"background: rgba(243, 243, 243, 0.75)\">4</th><td class=\"tdhistory944220\">comment_summary</td><td class=\"tdhistory944220\">string</td><td class=\"tdhistory944220\">VARCHAR_DT(32000) CHARACTER SET UNICODE</td></tr></tbody></table></div>"
      ]
     },
     "execution_count": 21,
     "metadata": {
      "application/vnd.teradata.resultset": "{\"resultSetID\":\"/home/jovyan/JupyterLabRoot/Teradata/Resultsets/2024.05.23_17.50.22.831_UTC\",\"historyID\":20,\"chunkID\":\"00001\",\"sessionid\":\"\",\"portnum\":\"\",\"dockermode\":\"docker\",\"totalRowCount\":4,\"chunkCount\":0,\"rowLimit\":0,\"columnMetadata\":[{\"columnName\":\"ColumnName\",\"columnTypeName\":\"VARCHAR\",\"length\":128,\"scale\":128},{\"columnNumber\":1,\"columnName\":\"IcebergType\",\"columnTypeName\":\"VARCHAR\",\"length\":128,\"scale\":128},{\"columnNumber\":2,\"columnName\":\"TeradataType\",\"columnTypeName\":\"VARCHAR\",\"length\":128,\"scale\":128}]}"
     },
     "output_type": "execute_result"
    }
   ],
   "source": [
    "HELP TABLE aws_glue_catalog.tddemos_glue_db.web_comment;"
   ]
  },
  {
   "cell_type": "markdown",
   "metadata": {},
   "source": [
    "<hr>\n",
    "<p style = 'font-size:20px;font-family:Arial;color:#00233C'><b>Step 1 - Data Preparation using an LLM to create a Vector Table</b></p>\n",
    "\n",
    "<p style = 'font-size:16px;font-family:Arial;color:#00233C'>Here, we will inspect the original data set, and use native vector embedding functions to generate features.  This data has been pre-loaded in an AWS Glue catalog.  Users can access this data transparently using multi-dot notation.</p>\n",
    "\n",
    "<ol style = 'font-size:16px;font-family:Arial;color:#00233C'>\n",
    "    <li>Inspect the rows of the Customer Comments table</li>\n",
    "    <li>Inspect the GloVe Model table</li>\n",
    "    <li>Use TD_WordEmbeddings function to create the vector table</li>\n",
    "    </ol>\n",
    "    "
   ]
  },
  {
   "cell_type": "markdown",
   "metadata": {},
   "source": [
    "<hr>\n",
    "<b style = 'font-size:18px;font-family:Arial;color:#00233C'>1.1 - Inspect the Data</b>\n",
    "\n",
    "<p style = 'font-size:16px;font-family:Arialcolor:#00233C'>Display a sample</p>"
   ]
  },
  {
   "cell_type": "code",
   "execution_count": 22,
   "metadata": {},
   "outputs": [
    {
     "data": {
      "application/vnd.teradata.resultset": "\"comment_id\",\"customer_id\",\"comment_text\",\"comment_summary\"\n\"10417\",\"1056\",\"Beautiful emerald green color in a lovely silk. i suggest one size down if you're small chested as the arm holes will fit more snugly.\",\"Flattering, great material\"\n\"14143\",\"1059\",\"These pants run large than the true size. it is so comfortable and can be dress up or dressed down.\",\"Comfy\"",
      "text/html": [
       "<div class = \"td-resultset-table-div\" style = \"max-height: 100%; overflow-y: auto\">\n",
       "      <table class=\"tdhistory364019\"><style>\n",
       "      table.tdhistory364019 { display: block !important; min-height: 150px !important; overflow: auto !important; height: 150px !important; width: 100% !important; border: 1px solid rgb(207, 207, 207) !important; border-collapse: collapse !important; ; color: var(--jp-ui-font-color1) !important; }\n",
       "      th.tdhistory364019 { border: 1px solid rgb(198,198,198) !important; border-collapse: collapse !important; ; padding: 2px 5px !important; ; font-size: 13px !important; ; text-align: center !important; white-space: normal !important; color: var(--jp-ui-font-color1) !important; }\n",
       "      th.tdhistory364019:last-child { text-align: left !important; }\n",
       "      tbody.tdhistory364019 tr:nth-child(even) { background: rgba(243, 243, 243, 0.75) !important; }\n",
       "      tbody.tdhistory364019 tr:nth-child(odd) { background: var(--jp-ui-inverse-font-color1) !important; }\n",
       "      td.tdhistory364019 { border: 1px solid rgb(207, 207, 207) !important; border-collapse: collapse !important; ; padding: 2px 5px !important; ; font-size: 13px !important; ; text-align: left !important;          white-space: nowrap !important; overflow:hidden !important; text-overflow:ellipsis !important;; }\n",
       "    </style><thead><tr style= \"background: rgba(243, 243, 243, 0.75)\"><th class=\"tdhistory364019\"></th><th class=\"tdhistory364019\">comment_id</th><th class=\"tdhistory364019\">customer_id</th><th class=\"tdhistory364019\">comment_text</th><th class=\"tdhistory364019\">comment_summary</th></tr></thead><tbody class=\"tdhistory364019 resultset-body\"><tr><th class=\"tdhistory364019\" style= \"background: rgba(243, 243, 243, 0.75)\">1</th><td class=\"tdhistory364019\">10417</td><td class=\"tdhistory364019\">1056</td><td class=\"tdhistory364019\">Beautiful emerald green color in a lovely silk. i suggest one size down if you're small chested as the arm holes will fit more snugly.</td><td class=\"tdhistory364019\">Flattering, great material</td></tr><tr><th class=\"tdhistory364019\" style= \"background: rgba(243, 243, 243, 0.75)\">2</th><td class=\"tdhistory364019\">14143</td><td class=\"tdhistory364019\">1059</td><td class=\"tdhistory364019\">These pants run large than the true size. it is so comfortable and can be dress up or dressed down.</td><td class=\"tdhistory364019\">Comfy</td></tr></tbody></table></div>"
      ]
     },
     "execution_count": 22,
     "metadata": {
      "application/vnd.teradata.resultset": "{\"resultSetID\":\"/home/jovyan/JupyterLabRoot/Teradata/Resultsets/2024.05.23_17.50.31.647_UTC\",\"historyID\":21,\"chunkID\":\"00001\",\"sessionid\":\"\",\"portnum\":\"\",\"dockermode\":\"docker\",\"totalRowCount\":2,\"chunkCount\":0,\"rowLimit\":0,\"columnMetadata\":[{\"columnName\":\"comment_id\",\"columnTypeName\":\"INTEGER\"},{\"columnNumber\":1,\"columnName\":\"customer_id\",\"columnTypeName\":\"INTEGER\"},{\"columnNumber\":2,\"columnName\":\"comment_text\",\"columnTypeName\":\"LONG VARCHAR\",\"length\":32000,\"scale\":32000},{\"columnNumber\":3,\"columnName\":\"comment_summary\",\"columnTypeName\":\"LONG VARCHAR\",\"length\":32000,\"scale\":32000}]}"
     },
     "output_type": "execute_result"
    }
   ],
   "source": [
    "SELECT * FROM aws_glue_catalog.tddemos_glue_db.web_comment\n",
    "SAMPLE 2;"
   ]
  },
  {
   "cell_type": "markdown",
   "metadata": {},
   "source": [
    "<hr>\n",
    "<b style = 'font-size:18px;font-family:Arial;color:#00233'>1.2 - Model table</b>\n",
    "\n",
    "<p style = 'font-size:16px;font-family:Arial;color:#00233C'>We format the model table as in the documentation: a column for the token, and a column for each dimension of the vector space. This example uses the GloVe 50-dimensional pre-trained embeddings. For more information on this model, see the Stanford University Publication <a href = 'https://nlp.stanford.edu/projects/glove/'>\"GloVe: Global Vectors for Word Representation\"</a></p>"
   ]
  },
  {
   "cell_type": "code",
   "execution_count": 23,
   "metadata": {},
   "outputs": [
    {
     "data": {
      "application/vnd.teradata.resultset": "\"doc_id\",\"v1\",\"v2\",\"v3\",\"v4\",\"v5\",\"v6\",\"v7\",\"v8\",\"v9\",\"v10\",\"v11\",\"v12\",\"v13\",\"v14\",\"v15\",\"v16\",\"v17\",\"v18\",\"v19\",\"v20\",\"v21\",\"v22\",\"v23\",\"v24\",\"v25\",\"v26\",\"v27\",\"v28\",\"v29\",\"v30\",\"v31\",\"v32\",\"v33\",\"v34\",\"v35\",\"v36\",\"v37\",\"v38\",\"v39\",\"v40\",\"v41\",\"v42\",\"v43\",\"v44\",\"v45\",\"v46\",\"v47\",\"v48\",\"v49\",\"v50\"\n\"silaen\",\"0.082545\",\"-0.36383\",\"0.74457\",\"1.0625\",\"1.2283\",\"-0.4362\",\"0.51992\",\"0.23632\",\"0.13507\",\"-0.90665\",\"-0.10654\",\"-0.38325\",\"-0.82213\",\"-0.25985\",\"0.18952\",\"0.82462\",\"0.63599\",\"0.42625\",\"0.3898\",\"0.0080457\",\"-0.44562\",\"0.88563\",\"-0.59781\",\"0.86375\",\"0.078257\",\"0.4904\",\"0.93551\",\"0.039168\",\"-0.11109\",\"0.89151\",\"-2.2281\",\"-0.31995\",\"0.78832\",\"-1.2153\",\"0.7921\",\"-0.014314\",\"0.035021\",\"-0.3444\",\"-1.5552\",\"0.43403\",\"-0.5441\",\"0.99277\",\"-0.10271\",\"0.020174\",\"-0.12116\",\"0.095792\",\"-0.62141\",\"-0.22868\",\"-0.13246\",\"0.21624\"\n\"143-pound\",\"0.96483\",\"-0.22827\",\"0.045749\",\"0.021639\",\"-0.64778\",\"0.27905\",\"1.6029\",\"-0.0022231\",\"0.11469\",\"-0.53615\",\"0.020877\",\"0.50026\",\"0.3769\",\"1.1131\",\"-0.28033\",\"-0.64019\",\"-0.45122\",\"0.54366\",\"-0.10348\",\"0.22105\",\"-1.1698\",\"-0.2824\",\"0.47\",\"0.92844\",\"-0.16603\",\"1.2557\",\"0.17624\",\"0.13949\",\"-0.90158\",\"0.093666\",\"-1.3108\",\"0.025285\",\"-0.8227\",\"0.9567\",\"-0.97186\",\"-0.10242\",\"-0.27784\",\"-1.1932\",\"0.063748\",\"-1.4032\",\"1.2044\",\"-1.0754\",\"0.501\",\"0.42923\",\"-0.030509\",\"-0.28465\",\"1.4534\",\"0.50535\",\"0.36449\",\"0.26441\"",
      "text/html": [
       "<div class = \"td-resultset-table-div\" style = \"max-height: 100%; overflow-y: auto\">\n",
       "      <table class=\"tdhistory983558\"><style>\n",
       "      table.tdhistory983558 { display: block !important; min-height: 150px !important; overflow: auto !important; height: 150px !important; width: 100% !important; border: 1px solid rgb(207, 207, 207) !important; border-collapse: collapse !important; ; color: var(--jp-ui-font-color1) !important; }\n",
       "      th.tdhistory983558 { border: 1px solid rgb(198,198,198) !important; border-collapse: collapse !important; ; padding: 2px 5px !important; ; font-size: 13px !important; ; text-align: center !important; white-space: normal !important; color: var(--jp-ui-font-color1) !important; }\n",
       "      th.tdhistory983558:last-child { text-align: left !important; }\n",
       "      tbody.tdhistory983558 tr:nth-child(even) { background: rgba(243, 243, 243, 0.75) !important; }\n",
       "      tbody.tdhistory983558 tr:nth-child(odd) { background: var(--jp-ui-inverse-font-color1) !important; }\n",
       "      td.tdhistory983558 { border: 1px solid rgb(207, 207, 207) !important; border-collapse: collapse !important; ; padding: 2px 5px !important; ; font-size: 13px !important; ; text-align: left !important;          white-space: nowrap !important; overflow:hidden !important; text-overflow:ellipsis !important;; }\n",
       "    </style><thead><tr style= \"background: rgba(243, 243, 243, 0.75)\"><th class=\"tdhistory983558\"></th><th class=\"tdhistory983558\">doc_id</th><th class=\"tdhistory983558\">v1</th><th class=\"tdhistory983558\">v2</th><th class=\"tdhistory983558\">v3</th><th class=\"tdhistory983558\">v4</th><th class=\"tdhistory983558\">v5</th><th class=\"tdhistory983558\">v6</th><th class=\"tdhistory983558\">v7</th><th class=\"tdhistory983558\">v8</th><th class=\"tdhistory983558\">v9</th><th class=\"tdhistory983558\">v10</th><th class=\"tdhistory983558\">v11</th><th class=\"tdhistory983558\">v12</th><th class=\"tdhistory983558\">v13</th><th class=\"tdhistory983558\">v14</th><th class=\"tdhistory983558\">v15</th><th class=\"tdhistory983558\">v16</th><th class=\"tdhistory983558\">v17</th><th class=\"tdhistory983558\">v18</th><th class=\"tdhistory983558\">v19</th><th class=\"tdhistory983558\">v20</th><th class=\"tdhistory983558\">v21</th><th class=\"tdhistory983558\">v22</th><th class=\"tdhistory983558\">v23</th><th class=\"tdhistory983558\">v24</th><th class=\"tdhistory983558\">v25</th><th class=\"tdhistory983558\">v26</th><th class=\"tdhistory983558\">v27</th><th class=\"tdhistory983558\">v28</th><th class=\"tdhistory983558\">v29</th><th class=\"tdhistory983558\">v30</th><th class=\"tdhistory983558\">v31</th><th class=\"tdhistory983558\">v32</th><th class=\"tdhistory983558\">v33</th><th class=\"tdhistory983558\">v34</th><th class=\"tdhistory983558\">v35</th><th class=\"tdhistory983558\">v36</th><th class=\"tdhistory983558\">v37</th><th class=\"tdhistory983558\">v38</th><th class=\"tdhistory983558\">v39</th><th class=\"tdhistory983558\">v40</th><th class=\"tdhistory983558\">v41</th><th class=\"tdhistory983558\">v42</th><th class=\"tdhistory983558\">v43</th><th class=\"tdhistory983558\">v44</th><th class=\"tdhistory983558\">v45</th><th class=\"tdhistory983558\">v46</th><th class=\"tdhistory983558\">v47</th><th class=\"tdhistory983558\">v48</th><th class=\"tdhistory983558\">v49</th><th class=\"tdhistory983558\">v50</th></tr></thead><tbody class=\"tdhistory983558 resultset-body\"><tr><th class=\"tdhistory983558\" style= \"background: rgba(243, 243, 243, 0.75)\">1</th><td class=\"tdhistory983558\">silaen</td><td class=\"tdhistory983558\">0.082545</td><td class=\"tdhistory983558\">-0.36383</td><td class=\"tdhistory983558\">0.74457</td><td class=\"tdhistory983558\">1.0625</td><td class=\"tdhistory983558\">1.2283</td><td class=\"tdhistory983558\">-0.4362</td><td class=\"tdhistory983558\">0.51992</td><td class=\"tdhistory983558\">0.23632</td><td class=\"tdhistory983558\">0.13507</td><td class=\"tdhistory983558\">-0.90665</td><td class=\"tdhistory983558\">-0.10654</td><td class=\"tdhistory983558\">-0.38325</td><td class=\"tdhistory983558\">-0.82213</td><td class=\"tdhistory983558\">-0.25985</td><td class=\"tdhistory983558\">0.18952</td><td class=\"tdhistory983558\">0.82462</td><td class=\"tdhistory983558\">0.63599</td><td class=\"tdhistory983558\">0.42625</td><td class=\"tdhistory983558\">0.3898</td><td class=\"tdhistory983558\">0.0080457</td><td class=\"tdhistory983558\">-0.44562</td><td class=\"tdhistory983558\">0.88563</td><td class=\"tdhistory983558\">-0.59781</td><td class=\"tdhistory983558\">0.86375</td><td class=\"tdhistory983558\">0.078257</td><td class=\"tdhistory983558\">0.4904</td><td class=\"tdhistory983558\">0.93551</td><td class=\"tdhistory983558\">0.039168</td><td class=\"tdhistory983558\">-0.11109</td><td class=\"tdhistory983558\">0.89151</td><td class=\"tdhistory983558\">-2.2281</td><td class=\"tdhistory983558\">-0.31995</td><td class=\"tdhistory983558\">0.78832</td><td class=\"tdhistory983558\">-1.2153</td><td class=\"tdhistory983558\">0.7921</td><td class=\"tdhistory983558\">-0.014314</td><td class=\"tdhistory983558\">0.035021</td><td class=\"tdhistory983558\">-0.3444</td><td class=\"tdhistory983558\">-1.5552</td><td class=\"tdhistory983558\">0.43403</td><td class=\"tdhistory983558\">-0.5441</td><td class=\"tdhistory983558\">0.99277</td><td class=\"tdhistory983558\">-0.10271</td><td class=\"tdhistory983558\">0.020174</td><td class=\"tdhistory983558\">-0.12116</td><td class=\"tdhistory983558\">0.095792</td><td class=\"tdhistory983558\">-0.62141</td><td class=\"tdhistory983558\">-0.22868</td><td class=\"tdhistory983558\">-0.13246</td><td class=\"tdhistory983558\">0.21624</td></tr><tr><th class=\"tdhistory983558\" style= \"background: rgba(243, 243, 243, 0.75)\">2</th><td class=\"tdhistory983558\">143-pound</td><td class=\"tdhistory983558\">0.96483</td><td class=\"tdhistory983558\">-0.22827</td><td class=\"tdhistory983558\">0.045749</td><td class=\"tdhistory983558\">0.021639</td><td class=\"tdhistory983558\">-0.64778</td><td class=\"tdhistory983558\">0.27905</td><td class=\"tdhistory983558\">1.6029</td><td class=\"tdhistory983558\">-0.0022231</td><td class=\"tdhistory983558\">0.11469</td><td class=\"tdhistory983558\">-0.53615</td><td class=\"tdhistory983558\">0.020877</td><td class=\"tdhistory983558\">0.50026</td><td class=\"tdhistory983558\">0.3769</td><td class=\"tdhistory983558\">1.1131</td><td class=\"tdhistory983558\">-0.28033</td><td class=\"tdhistory983558\">-0.64019</td><td class=\"tdhistory983558\">-0.45122</td><td class=\"tdhistory983558\">0.54366</td><td class=\"tdhistory983558\">-0.10348</td><td class=\"tdhistory983558\">0.22105</td><td class=\"tdhistory983558\">-1.1698</td><td class=\"tdhistory983558\">-0.2824</td><td class=\"tdhistory983558\">0.47</td><td class=\"tdhistory983558\">0.92844</td><td class=\"tdhistory983558\">-0.16603</td><td class=\"tdhistory983558\">1.2557</td><td class=\"tdhistory983558\">0.17624</td><td class=\"tdhistory983558\">0.13949</td><td class=\"tdhistory983558\">-0.90158</td><td class=\"tdhistory983558\">0.093666</td><td class=\"tdhistory983558\">-1.3108</td><td class=\"tdhistory983558\">0.025285</td><td class=\"tdhistory983558\">-0.8227</td><td class=\"tdhistory983558\">0.9567</td><td class=\"tdhistory983558\">-0.97186</td><td class=\"tdhistory983558\">-0.10242</td><td class=\"tdhistory983558\">-0.27784</td><td class=\"tdhistory983558\">-1.1932</td><td class=\"tdhistory983558\">0.063748</td><td class=\"tdhistory983558\">-1.4032</td><td class=\"tdhistory983558\">1.2044</td><td class=\"tdhistory983558\">-1.0754</td><td class=\"tdhistory983558\">0.501</td><td class=\"tdhistory983558\">0.42923</td><td class=\"tdhistory983558\">-0.030509</td><td class=\"tdhistory983558\">-0.28465</td><td class=\"tdhistory983558\">1.4534</td><td class=\"tdhistory983558\">0.50535</td><td class=\"tdhistory983558\">0.36449</td><td class=\"tdhistory983558\">0.26441</td></tr></tbody></table></div>"
      ]
     },
     "execution_count": 23,
     "metadata": {
      "application/vnd.teradata.resultset": "{\"resultSetID\":\"/home/jovyan/JupyterLabRoot/Teradata/Resultsets/2024.05.23_17.50.39.260_UTC\",\"historyID\":22,\"chunkID\":\"00001\",\"sessionid\":\"\",\"portnum\":\"\",\"dockermode\":\"docker\",\"totalRowCount\":2,\"chunkCount\":0,\"rowLimit\":0,\"columnMetadata\":[{\"columnName\":\"doc_id\",\"columnTypeName\":\"LONG VARCHAR\",\"length\":32000,\"scale\":32000},{\"columnNumber\":1,\"columnName\":\"v1\",\"columnTypeName\":\"FLOAT\"},{\"columnNumber\":2,\"columnName\":\"v2\",\"columnTypeName\":\"FLOAT\"},{\"columnNumber\":3,\"columnName\":\"v3\",\"columnTypeName\":\"FLOAT\"},{\"columnNumber\":4,\"columnName\":\"v4\",\"columnTypeName\":\"FLOAT\"},{\"columnNumber\":5,\"columnName\":\"v5\",\"columnTypeName\":\"FLOAT\"},{\"columnNumber\":6,\"columnName\":\"v6\",\"columnTypeName\":\"FLOAT\"},{\"columnNumber\":7,\"columnName\":\"v7\",\"columnTypeName\":\"FLOAT\"},{\"columnNumber\":8,\"columnName\":\"v8\",\"columnTypeName\":\"FLOAT\"},{\"columnNumber\":9,\"columnName\":\"v9\",\"columnTypeName\":\"FLOAT\"},{\"columnNumber\":10,\"columnName\":\"v10\",\"columnTypeName\":\"FLOAT\"},{\"columnNumber\":11,\"columnName\":\"v11\",\"columnTypeName\":\"FLOAT\"},{\"columnNumber\":12,\"columnName\":\"v12\",\"columnTypeName\":\"FLOAT\"},{\"columnNumber\":13,\"columnName\":\"v13\",\"columnTypeName\":\"FLOAT\"},{\"columnNumber\":14,\"columnName\":\"v14\",\"columnTypeName\":\"FLOAT\"},{\"columnNumber\":15,\"columnName\":\"v15\",\"columnTypeName\":\"FLOAT\"},{\"columnNumber\":16,\"columnName\":\"v16\",\"columnTypeName\":\"FLOAT\"},{\"columnNumber\":17,\"columnName\":\"v17\",\"columnTypeName\":\"FLOAT\"},{\"columnNumber\":18,\"columnName\":\"v18\",\"columnTypeName\":\"FLOAT\"},{\"columnNumber\":19,\"columnName\":\"v19\",\"columnTypeName\":\"FLOAT\"},{\"columnNumber\":20,\"columnName\":\"v20\",\"columnTypeName\":\"FLOAT\"},{\"columnNumber\":21,\"columnName\":\"v21\",\"columnTypeName\":\"FLOAT\"},{\"columnNumber\":22,\"columnName\":\"v22\",\"columnTypeName\":\"FLOAT\"},{\"columnNumber\":23,\"columnName\":\"v23\",\"columnTypeName\":\"FLOAT\"},{\"columnNumber\":24,\"columnName\":\"v24\",\"columnTypeName\":\"FLOAT\"},{\"columnNumber\":25,\"columnName\":\"v25\",\"columnTypeName\":\"FLOAT\"},{\"columnNumber\":26,\"columnName\":\"v26\",\"columnTypeName\":\"FLOAT\"},{\"columnNumber\":27,\"columnName\":\"v27\",\"columnTypeName\":\"FLOAT\"},{\"columnNumber\":28,\"columnName\":\"v28\",\"columnTypeName\":\"FLOAT\"},{\"columnNumber\":29,\"columnName\":\"v29\",\"columnTypeName\":\"FLOAT\"},{\"columnNumber\":30,\"columnName\":\"v30\",\"columnTypeName\":\"FLOAT\"},{\"columnNumber\":31,\"columnName\":\"v31\",\"columnTypeName\":\"FLOAT\"},{\"columnNumber\":32,\"columnName\":\"v32\",\"columnTypeName\":\"FLOAT\"},{\"columnNumber\":33,\"columnName\":\"v33\",\"columnTypeName\":\"FLOAT\"},{\"columnNumber\":34,\"columnName\":\"v34\",\"columnTypeName\":\"FLOAT\"},{\"columnNumber\":35,\"columnName\":\"v35\",\"columnTypeName\":\"FLOAT\"},{\"columnNumber\":36,\"columnName\":\"v36\",\"columnTypeName\":\"FLOAT\"},{\"columnNumber\":37,\"columnName\":\"v37\",\"columnTypeName\":\"FLOAT\"},{\"columnNumber\":38,\"columnName\":\"v38\",\"columnTypeName\":\"FLOAT\"},{\"columnNumber\":39,\"columnName\":\"v39\",\"columnTypeName\":\"FLOAT\"},{\"columnNumber\":40,\"columnName\":\"v40\",\"columnTypeName\":\"FLOAT\"},{\"columnNumber\":41,\"columnName\":\"v41\",\"columnTypeName\":\"FLOAT\"},{\"columnNumber\":42,\"columnName\":\"v42\",\"columnTypeName\":\"FLOAT\"},{\"columnNumber\":43,\"columnName\":\"v43\",\"columnTypeName\":\"FLOAT\"},{\"columnNumber\":44,\"columnName\":\"v44\",\"columnTypeName\":\"FLOAT\"},{\"columnNumber\":45,\"columnName\":\"v45\",\"columnTypeName\":\"FLOAT\"},{\"columnNumber\":46,\"columnName\":\"v46\",\"columnTypeName\":\"FLOAT\"},{\"columnNumber\":47,\"columnName\":\"v47\",\"columnTypeName\":\"FLOAT\"},{\"columnNumber\":48,\"columnName\":\"v48\",\"columnTypeName\":\"FLOAT\"},{\"columnNumber\":49,\"columnName\":\"v49\",\"columnTypeName\":\"FLOAT\"},{\"columnNumber\":50,\"columnName\":\"v50\",\"columnTypeName\":\"FLOAT\"}]}"
     },
     "output_type": "execute_result"
    }
   ],
   "source": [
    "SELECT * FROM aws_glue_catalog.tddemos_glue_db.glove_6B_50d\n",
    "SAMPLE 2;"
   ]
  },
  {
   "cell_type": "markdown",
   "metadata": {},
   "source": [
    "<hr>\n",
    "<b style = 'font-size:18px;font-family:Arial;color:#00233C'>1.4 - Embeddings</b>\n",
    "<p style = 'font-size:16px;font-family:Arial;color:#00233C'>TD_WordEmbeddings can perform four operations: token-embedding, doc-embedding, token2token-similarity, and doc2doc-similarity. This notebook shows the first two.  We will use doc-embedding as the basis for our Segmentation.</p>"
   ]
  },
  {
   "cell_type": "code",
   "execution_count": 24,
   "metadata": {},
   "outputs": [
    {
     "data": {
      "application/vnd.teradata.resultset": "\"comment_id\",\"TD_Token\",\"TD_TokenCount\",\"v1\",\"v2\",\"v3\",\"v4\",\"v5\",\"v6\",\"v7\",\"v8\",\"v9\",\"v10\",\"v11\",\"v12\",\"v13\",\"v14\",\"v15\",\"v16\",\"v17\",\"v18\",\"v19\",\"v20\",\"v21\",\"v22\",\"v23\",\"v24\",\"v25\",\"v26\",\"v27\",\"v28\",\"v29\",\"v30\",\"v31\",\"v32\",\"v33\",\"v34\",\"v35\",\"v36\",\"v37\",\"v38\",\"v39\",\"v40\",\"v41\",\"v42\",\"v43\",\"v44\",\"v45\",\"v46\",\"v47\",\"v48\",\"v49\"\n\"2514\",\"when\",\"1\",\"0.27062\",\"-0.36596\",\"0.097193\",\"-0.50708\",\"0.37375\",\"0.16736\",\"-0.94185\",\"0.54004\",\"-0.66669\",\"-0.24236\",\"0.25876\",\"0.28084\",\"-0.86643\",\"-0.068961\",\"0.90346\",\"0.40877\",\"-0.39563\",\"-0.25604\",\"-1.0316\",\"-0.26669\",\"-0.080584\",\"0.40841\",\"0.55885\",\"-0.18299\",\"0.46494\",\"-2.2671\",\"0.14102\",\"0.19841\",\"0.5153\",\"-0.27608\",\"3.3604\",\"0.15123\",\"-0.36693\",\"-0.28804\",\"0.076042\",\"-0.076662\",\"0.21897\",\"0.39001\",\"0.38684\",\"-0.16961\",\"-0.33674\",\"0.37094\",\"-0.45911\",\"0.00066285\",\"-0.17797\",\"0.12467\",\"-0.015418\",\"-0.75256\",\"-0.17335\"\n\"2514\",\"tights\",\"1\",\"-0.99142\",\"0.14363\",\"-1.3877\",\"-0.23847\",\"-0.76427\",\"0.45943\",\"0.75329\",\"-0.89495\",\"-0.3984\",\"-0.53265\",\"0.35955\",\"0.69162\",\"-0.10869\",\"0.35505\",\"0.10469\",\"-0.19865\",\"-0.64087\",\"0.51274\",\"0.082448\",\"-1.5517\",\"-1.1947\",\"0.41159\",\"0.59033\",\"-0.53552\",\"-1.1531\",\"-0.30728\",\"-0.31218\",\"1.6781\",\"0.75091\",\"-0.97976\",\"-0.11061\",\"0.85961\",\"-0.29375\",\"-0.023124\",\"-0.18971\",\"0.47538\",\"-0.42533\",\"0.10601\",\"-0.43828\",\"-0.92775\",\"-0.37455\",\"0.12726\",\"1.148\",\"0.24331\",\"-0.085167\",\"-0.90322\",\"0.56011\",\"-1.5436\",\"-0.37808\"\n\"2514\",\"short\",\"1\",\"0.08226\",\"0.52026\",\"-0.13314\",\"-0.78449\",\"-0.2366\",\"0.58779\",\"-0.4191\",\"-0.39373\",\"0.054773\",\"0.012971\",\"-0.62161\",\"0.23175\",\"-0.43722\",\"0.499\",\"0.39791\",\"-0.28424\",\"-0.051524\",\"-0.32952\",\"-0.88485\",\"-0.35463\",\"0.20174\",\"-0.1279\",\"0.61101\",\"-0.31412\",\"0.40172\",\"-1.2991\",\"-0.072569\",\"0.61494\",\"0.21407\",\"0.032626\",\"3.4835\",\"-0.11963\",\"0.45864\",\"0.47906\",\"0.22729\",\"0.022899\",\"0.22242\",\"0.53241\",\"-0.86963\",\"-0.45325\",\"-0.19527\",\"0.35825\",\"-0.08619\",\"-0.0019633\",\"-0.40885\",\"-0.43347\",\"0.66171\",\"-0.022696\",\"-0.34519\"\n\"2514\",\"realized\",\"1\",\"0.53254\",\"-0.34176\",\"0.12317\",\"-0.61073\",\"0.73907\",\"-0.11109\",\"-0.54485\",\"0.24482\",\"-0.42056\",\"0.34463\",\"0.30947\",\"0.44566\",\"-0.5861\",\"-0.38819\",\"0.6012\",\"0.29977\",\"0.16197\",\"0.29134\",\"0.054657\",\"-0.40332\",\"0.083921\",\"0.49233\",\"0.13737\",\"-0.45364\",\"1.2007\",\"-0.96364\",\"-0.90241\",\"0.041135\",\"0.6141\",\"-0.45992\",\"1.8644\",\"0.30007\",\"0.25469\",\"-0.65912\",\"-0.16737\",\"-0.29478\",\"-0.12876\",\"0.49508\",\"0.11654\",\"-0.11719\",\"-0.5576\",\"-0.42194\",\"-0.11729\",\"0.11402\",\"-0.33748\",\"-0.33959\",\"-0.1053\",\"-0.068361\",\"-0.23601\"\n\"2514\",\"isn't\",\"1\",\"0\",\"0\",\"0\",\"0\",\"0\",\"0\",\"0\",\"0\",\"0\",\"0\",\"0\",\"0\",\"0\",\"0\",\"0\",\"0\",\"0\",\"0\",\"0\",\"0\",\"0\",\"0\",\"0\",\"0\",\"0\",\"0\",\"0\",\"0\",\"0\",\"0\",\"0\",\"0\",\"0\",\"0\",\"0\",\"0\",\"0\",\"0\",\"0\",\"0\",\"0\",\"0\",\"0\",\"0\",\"0\",\"0\",\"0\",\"0\",\"0\"",
      "text/html": [
       "<div class = \"td-resultset-table-div\" style = \"max-height: 100%; overflow-y: auto\">\n",
       "      <table class=\"tdhistory291876\"><style>\n",
       "      table.tdhistory291876 { display: block !important; min-height: 225px !important; overflow: auto !important; height: 225px !important; width: 100% !important; border: 1px solid rgb(207, 207, 207) !important; border-collapse: collapse !important; ; color: var(--jp-ui-font-color1) !important; }\n",
       "      th.tdhistory291876 { border: 1px solid rgb(198,198,198) !important; border-collapse: collapse !important; ; padding: 2px 5px !important; ; font-size: 13px !important; ; text-align: center !important; white-space: normal !important; color: var(--jp-ui-font-color1) !important; }\n",
       "      th.tdhistory291876:last-child { text-align: left !important; }\n",
       "      tbody.tdhistory291876 tr:nth-child(even) { background: rgba(243, 243, 243, 0.75) !important; }\n",
       "      tbody.tdhistory291876 tr:nth-child(odd) { background: var(--jp-ui-inverse-font-color1) !important; }\n",
       "      td.tdhistory291876 { border: 1px solid rgb(207, 207, 207) !important; border-collapse: collapse !important; ; padding: 2px 5px !important; ; font-size: 13px !important; ; text-align: left !important;          white-space: nowrap !important; overflow:hidden !important; text-overflow:ellipsis !important;; }\n",
       "    </style><thead><tr style= \"background: rgba(243, 243, 243, 0.75)\"><th class=\"tdhistory291876\"></th><th class=\"tdhistory291876\">comment_id</th><th class=\"tdhistory291876\">TD_Token</th><th class=\"tdhistory291876\">TD_TokenCount</th><th class=\"tdhistory291876\">v1</th><th class=\"tdhistory291876\">v2</th><th class=\"tdhistory291876\">v3</th><th class=\"tdhistory291876\">v4</th><th class=\"tdhistory291876\">v5</th><th class=\"tdhistory291876\">v6</th><th class=\"tdhistory291876\">v7</th><th class=\"tdhistory291876\">v8</th><th class=\"tdhistory291876\">v9</th><th class=\"tdhistory291876\">v10</th><th class=\"tdhistory291876\">v11</th><th class=\"tdhistory291876\">v12</th><th class=\"tdhistory291876\">v13</th><th class=\"tdhistory291876\">v14</th><th class=\"tdhistory291876\">v15</th><th class=\"tdhistory291876\">v16</th><th class=\"tdhistory291876\">v17</th><th class=\"tdhistory291876\">v18</th><th class=\"tdhistory291876\">v19</th><th class=\"tdhistory291876\">v20</th><th class=\"tdhistory291876\">v21</th><th class=\"tdhistory291876\">v22</th><th class=\"tdhistory291876\">v23</th><th class=\"tdhistory291876\">v24</th><th class=\"tdhistory291876\">v25</th><th class=\"tdhistory291876\">v26</th><th class=\"tdhistory291876\">v27</th><th class=\"tdhistory291876\">v28</th><th class=\"tdhistory291876\">v29</th><th class=\"tdhistory291876\">v30</th><th class=\"tdhistory291876\">v31</th><th class=\"tdhistory291876\">v32</th><th class=\"tdhistory291876\">v33</th><th class=\"tdhistory291876\">v34</th><th class=\"tdhistory291876\">v35</th><th class=\"tdhistory291876\">v36</th><th class=\"tdhistory291876\">v37</th><th class=\"tdhistory291876\">v38</th><th class=\"tdhistory291876\">v39</th><th class=\"tdhistory291876\">v40</th><th class=\"tdhistory291876\">v41</th><th class=\"tdhistory291876\">v42</th><th class=\"tdhistory291876\">v43</th><th class=\"tdhistory291876\">v44</th><th class=\"tdhistory291876\">v45</th><th class=\"tdhistory291876\">v46</th><th class=\"tdhistory291876\">v47</th><th class=\"tdhistory291876\">v48</th><th class=\"tdhistory291876\">v49</th></tr></thead><tbody class=\"tdhistory291876 resultset-body\"><tr><th class=\"tdhistory291876\" style= \"background: rgba(243, 243, 243, 0.75)\">1</th><td class=\"tdhistory291876\">2514</td><td class=\"tdhistory291876\">when</td><td class=\"tdhistory291876\">1</td><td class=\"tdhistory291876\">0.27062</td><td class=\"tdhistory291876\">-0.36596</td><td class=\"tdhistory291876\">0.097193</td><td class=\"tdhistory291876\">-0.50708</td><td class=\"tdhistory291876\">0.37375</td><td class=\"tdhistory291876\">0.16736</td><td class=\"tdhistory291876\">-0.94185</td><td class=\"tdhistory291876\">0.54004</td><td class=\"tdhistory291876\">-0.66669</td><td class=\"tdhistory291876\">-0.24236</td><td class=\"tdhistory291876\">0.25876</td><td class=\"tdhistory291876\">0.28084</td><td class=\"tdhistory291876\">-0.86643</td><td class=\"tdhistory291876\">-0.068961</td><td class=\"tdhistory291876\">0.90346</td><td class=\"tdhistory291876\">0.40877</td><td class=\"tdhistory291876\">-0.39563</td><td class=\"tdhistory291876\">-0.25604</td><td class=\"tdhistory291876\">-1.0316</td><td class=\"tdhistory291876\">-0.26669</td><td class=\"tdhistory291876\">-0.080584</td><td class=\"tdhistory291876\">0.40841</td><td class=\"tdhistory291876\">0.55885</td><td class=\"tdhistory291876\">-0.18299</td><td class=\"tdhistory291876\">0.46494</td><td class=\"tdhistory291876\">-2.2671</td><td class=\"tdhistory291876\">0.14102</td><td class=\"tdhistory291876\">0.19841</td><td class=\"tdhistory291876\">0.5153</td><td class=\"tdhistory291876\">-0.27608</td><td class=\"tdhistory291876\">3.3604</td><td class=\"tdhistory291876\">0.15123</td><td class=\"tdhistory291876\">-0.36693</td><td class=\"tdhistory291876\">-0.28804</td><td class=\"tdhistory291876\">0.076042</td><td class=\"tdhistory291876\">-0.076662</td><td class=\"tdhistory291876\">0.21897</td><td class=\"tdhistory291876\">0.39001</td><td class=\"tdhistory291876\">0.38684</td><td class=\"tdhistory291876\">-0.16961</td><td class=\"tdhistory291876\">-0.33674</td><td class=\"tdhistory291876\">0.37094</td><td class=\"tdhistory291876\">-0.45911</td><td class=\"tdhistory291876\">0.00066285</td><td class=\"tdhistory291876\">-0.17797</td><td class=\"tdhistory291876\">0.12467</td><td class=\"tdhistory291876\">-0.015418</td><td class=\"tdhistory291876\">-0.75256</td><td class=\"tdhistory291876\">-0.17335</td></tr><tr><th class=\"tdhistory291876\" style= \"background: rgba(243, 243, 243, 0.75)\">2</th><td class=\"tdhistory291876\">2514</td><td class=\"tdhistory291876\">tights</td><td class=\"tdhistory291876\">1</td><td class=\"tdhistory291876\">-0.99142</td><td class=\"tdhistory291876\">0.14363</td><td class=\"tdhistory291876\">-1.3877</td><td class=\"tdhistory291876\">-0.23847</td><td class=\"tdhistory291876\">-0.76427</td><td class=\"tdhistory291876\">0.45943</td><td class=\"tdhistory291876\">0.75329</td><td class=\"tdhistory291876\">-0.89495</td><td class=\"tdhistory291876\">-0.3984</td><td class=\"tdhistory291876\">-0.53265</td><td class=\"tdhistory291876\">0.35955</td><td class=\"tdhistory291876\">0.69162</td><td class=\"tdhistory291876\">-0.10869</td><td class=\"tdhistory291876\">0.35505</td><td class=\"tdhistory291876\">0.10469</td><td class=\"tdhistory291876\">-0.19865</td><td class=\"tdhistory291876\">-0.64087</td><td class=\"tdhistory291876\">0.51274</td><td class=\"tdhistory291876\">0.082448</td><td class=\"tdhistory291876\">-1.5517</td><td class=\"tdhistory291876\">-1.1947</td><td class=\"tdhistory291876\">0.41159</td><td class=\"tdhistory291876\">0.59033</td><td class=\"tdhistory291876\">-0.53552</td><td class=\"tdhistory291876\">-1.1531</td><td class=\"tdhistory291876\">-0.30728</td><td class=\"tdhistory291876\">-0.31218</td><td class=\"tdhistory291876\">1.6781</td><td class=\"tdhistory291876\">0.75091</td><td class=\"tdhistory291876\">-0.97976</td><td class=\"tdhistory291876\">-0.11061</td><td class=\"tdhistory291876\">0.85961</td><td class=\"tdhistory291876\">-0.29375</td><td class=\"tdhistory291876\">-0.023124</td><td class=\"tdhistory291876\">-0.18971</td><td class=\"tdhistory291876\">0.47538</td><td class=\"tdhistory291876\">-0.42533</td><td class=\"tdhistory291876\">0.10601</td><td class=\"tdhistory291876\">-0.43828</td><td class=\"tdhistory291876\">-0.92775</td><td class=\"tdhistory291876\">-0.37455</td><td class=\"tdhistory291876\">0.12726</td><td class=\"tdhistory291876\">1.148</td><td class=\"tdhistory291876\">0.24331</td><td class=\"tdhistory291876\">-0.085167</td><td class=\"tdhistory291876\">-0.90322</td><td class=\"tdhistory291876\">0.56011</td><td class=\"tdhistory291876\">-1.5436</td><td class=\"tdhistory291876\">-0.37808</td></tr><tr><th class=\"tdhistory291876\" style= \"background: rgba(243, 243, 243, 0.75)\">3</th><td class=\"tdhistory291876\">2514</td><td class=\"tdhistory291876\">short</td><td class=\"tdhistory291876\">1</td><td class=\"tdhistory291876\">0.08226</td><td class=\"tdhistory291876\">0.52026</td><td class=\"tdhistory291876\">-0.13314</td><td class=\"tdhistory291876\">-0.78449</td><td class=\"tdhistory291876\">-0.2366</td><td class=\"tdhistory291876\">0.58779</td><td class=\"tdhistory291876\">-0.4191</td><td class=\"tdhistory291876\">-0.39373</td><td class=\"tdhistory291876\">0.054773</td><td class=\"tdhistory291876\">0.012971</td><td class=\"tdhistory291876\">-0.62161</td><td class=\"tdhistory291876\">0.23175</td><td class=\"tdhistory291876\">-0.43722</td><td class=\"tdhistory291876\">0.499</td><td class=\"tdhistory291876\">0.39791</td><td class=\"tdhistory291876\">-0.28424</td><td class=\"tdhistory291876\">-0.051524</td><td class=\"tdhistory291876\">-0.32952</td><td class=\"tdhistory291876\">-0.88485</td><td class=\"tdhistory291876\">-0.35463</td><td class=\"tdhistory291876\">0.20174</td><td class=\"tdhistory291876\">-0.1279</td><td class=\"tdhistory291876\">0.61101</td><td class=\"tdhistory291876\">-0.31412</td><td class=\"tdhistory291876\">0.40172</td><td class=\"tdhistory291876\">-1.2991</td><td class=\"tdhistory291876\">-0.072569</td><td class=\"tdhistory291876\">0.61494</td><td class=\"tdhistory291876\">0.21407</td><td class=\"tdhistory291876\">0.032626</td><td class=\"tdhistory291876\">3.4835</td><td class=\"tdhistory291876\">-0.11963</td><td class=\"tdhistory291876\">0.45864</td><td class=\"tdhistory291876\">0.47906</td><td class=\"tdhistory291876\">0.22729</td><td class=\"tdhistory291876\">0.022899</td><td class=\"tdhistory291876\">0.22242</td><td class=\"tdhistory291876\">0.53241</td><td class=\"tdhistory291876\">-0.86963</td><td class=\"tdhistory291876\">-0.45325</td><td class=\"tdhistory291876\">-0.19527</td><td class=\"tdhistory291876\">0.35825</td><td class=\"tdhistory291876\">-0.08619</td><td class=\"tdhistory291876\">-0.0019633</td><td class=\"tdhistory291876\">-0.40885</td><td class=\"tdhistory291876\">-0.43347</td><td class=\"tdhistory291876\">0.66171</td><td class=\"tdhistory291876\">-0.022696</td><td class=\"tdhistory291876\">-0.34519</td></tr><tr><th class=\"tdhistory291876\" style= \"background: rgba(243, 243, 243, 0.75)\">4</th><td class=\"tdhistory291876\">2514</td><td class=\"tdhistory291876\">realized</td><td class=\"tdhistory291876\">1</td><td class=\"tdhistory291876\">0.53254</td><td class=\"tdhistory291876\">-0.34176</td><td class=\"tdhistory291876\">0.12317</td><td class=\"tdhistory291876\">-0.61073</td><td class=\"tdhistory291876\">0.73907</td><td class=\"tdhistory291876\">-0.11109</td><td class=\"tdhistory291876\">-0.54485</td><td class=\"tdhistory291876\">0.24482</td><td class=\"tdhistory291876\">-0.42056</td><td class=\"tdhistory291876\">0.34463</td><td class=\"tdhistory291876\">0.30947</td><td class=\"tdhistory291876\">0.44566</td><td class=\"tdhistory291876\">-0.5861</td><td class=\"tdhistory291876\">-0.38819</td><td class=\"tdhistory291876\">0.6012</td><td class=\"tdhistory291876\">0.29977</td><td class=\"tdhistory291876\">0.16197</td><td class=\"tdhistory291876\">0.29134</td><td class=\"tdhistory291876\">0.054657</td><td class=\"tdhistory291876\">-0.40332</td><td class=\"tdhistory291876\">0.083921</td><td class=\"tdhistory291876\">0.49233</td><td class=\"tdhistory291876\">0.13737</td><td class=\"tdhistory291876\">-0.45364</td><td class=\"tdhistory291876\">1.2007</td><td class=\"tdhistory291876\">-0.96364</td><td class=\"tdhistory291876\">-0.90241</td><td class=\"tdhistory291876\">0.041135</td><td class=\"tdhistory291876\">0.6141</td><td class=\"tdhistory291876\">-0.45992</td><td class=\"tdhistory291876\">1.8644</td><td class=\"tdhistory291876\">0.30007</td><td class=\"tdhistory291876\">0.25469</td><td class=\"tdhistory291876\">-0.65912</td><td class=\"tdhistory291876\">-0.16737</td><td class=\"tdhistory291876\">-0.29478</td><td class=\"tdhistory291876\">-0.12876</td><td class=\"tdhistory291876\">0.49508</td><td class=\"tdhistory291876\">0.11654</td><td class=\"tdhistory291876\">-0.11719</td><td class=\"tdhistory291876\">-0.5576</td><td class=\"tdhistory291876\">-0.42194</td><td class=\"tdhistory291876\">-0.11729</td><td class=\"tdhistory291876\">0.11402</td><td class=\"tdhistory291876\">-0.33748</td><td class=\"tdhistory291876\">-0.33959</td><td class=\"tdhistory291876\">-0.1053</td><td class=\"tdhistory291876\">-0.068361</td><td class=\"tdhistory291876\">-0.23601</td></tr><tr><th class=\"tdhistory291876\" style= \"background: rgba(243, 243, 243, 0.75)\">5</th><td class=\"tdhistory291876\">2514</td><td class=\"tdhistory291876\">isn't</td><td class=\"tdhistory291876\">1</td><td class=\"tdhistory291876\">0</td><td class=\"tdhistory291876\">0</td><td class=\"tdhistory291876\">0</td><td class=\"tdhistory291876\">0</td><td class=\"tdhistory291876\">0</td><td class=\"tdhistory291876\">0</td><td class=\"tdhistory291876\">0</td><td class=\"tdhistory291876\">0</td><td class=\"tdhistory291876\">0</td><td class=\"tdhistory291876\">0</td><td class=\"tdhistory291876\">0</td><td class=\"tdhistory291876\">0</td><td class=\"tdhistory291876\">0</td><td class=\"tdhistory291876\">0</td><td class=\"tdhistory291876\">0</td><td class=\"tdhistory291876\">0</td><td class=\"tdhistory291876\">0</td><td class=\"tdhistory291876\">0</td><td class=\"tdhistory291876\">0</td><td class=\"tdhistory291876\">0</td><td class=\"tdhistory291876\">0</td><td class=\"tdhistory291876\">0</td><td class=\"tdhistory291876\">0</td><td class=\"tdhistory291876\">0</td><td class=\"tdhistory291876\">0</td><td class=\"tdhistory291876\">0</td><td class=\"tdhistory291876\">0</td><td class=\"tdhistory291876\">0</td><td class=\"tdhistory291876\">0</td><td class=\"tdhistory291876\">0</td><td class=\"tdhistory291876\">0</td><td class=\"tdhistory291876\">0</td><td class=\"tdhistory291876\">0</td><td class=\"tdhistory291876\">0</td><td class=\"tdhistory291876\">0</td><td class=\"tdhistory291876\">0</td><td class=\"tdhistory291876\">0</td><td class=\"tdhistory291876\">0</td><td class=\"tdhistory291876\">0</td><td class=\"tdhistory291876\">0</td><td class=\"tdhistory291876\">0</td><td class=\"tdhistory291876\">0</td><td class=\"tdhistory291876\">0</td><td class=\"tdhistory291876\">0</td><td class=\"tdhistory291876\">0</td><td class=\"tdhistory291876\">0</td><td class=\"tdhistory291876\">0</td><td class=\"tdhistory291876\">0</td><td class=\"tdhistory291876\">0</td></tr></tbody></table></div>"
      ]
     },
     "execution_count": 24,
     "metadata": {
      "application/vnd.teradata.resultset": "{\"resultSetID\":\"/home/jovyan/JupyterLabRoot/Teradata/Resultsets/2024.05.23_17.50.54.457_UTC\",\"historyID\":23,\"chunkID\":\"00001\",\"sessionid\":\"\",\"portnum\":\"\",\"dockermode\":\"docker\",\"totalRowCount\":5,\"chunkCount\":0,\"rowLimit\":0,\"columnMetadata\":[{\"columnName\":\"comment_id\",\"columnTypeName\":\"INTEGER\"},{\"columnNumber\":1,\"columnName\":\"TD_Token\",\"columnTypeName\":\"VARCHAR\",\"length\":32000,\"scale\":32000},{\"columnNumber\":2,\"columnName\":\"TD_TokenCount\",\"columnTypeName\":\"INTEGER\"},{\"columnNumber\":3,\"columnName\":\"v1\",\"columnTypeName\":\"FLOAT\"},{\"columnNumber\":4,\"columnName\":\"v2\",\"columnTypeName\":\"FLOAT\"},{\"columnNumber\":5,\"columnName\":\"v3\",\"columnTypeName\":\"FLOAT\"},{\"columnNumber\":6,\"columnName\":\"v4\",\"columnTypeName\":\"FLOAT\"},{\"columnNumber\":7,\"columnName\":\"v5\",\"columnTypeName\":\"FLOAT\"},{\"columnNumber\":8,\"columnName\":\"v6\",\"columnTypeName\":\"FLOAT\"},{\"columnNumber\":9,\"columnName\":\"v7\",\"columnTypeName\":\"FLOAT\"},{\"columnNumber\":10,\"columnName\":\"v8\",\"columnTypeName\":\"FLOAT\"},{\"columnNumber\":11,\"columnName\":\"v9\",\"columnTypeName\":\"FLOAT\"},{\"columnNumber\":12,\"columnName\":\"v10\",\"columnTypeName\":\"FLOAT\"},{\"columnNumber\":13,\"columnName\":\"v11\",\"columnTypeName\":\"FLOAT\"},{\"columnNumber\":14,\"columnName\":\"v12\",\"columnTypeName\":\"FLOAT\"},{\"columnNumber\":15,\"columnName\":\"v13\",\"columnTypeName\":\"FLOAT\"},{\"columnNumber\":16,\"columnName\":\"v14\",\"columnTypeName\":\"FLOAT\"},{\"columnNumber\":17,\"columnName\":\"v15\",\"columnTypeName\":\"FLOAT\"},{\"columnNumber\":18,\"columnName\":\"v16\",\"columnTypeName\":\"FLOAT\"},{\"columnNumber\":19,\"columnName\":\"v17\",\"columnTypeName\":\"FLOAT\"},{\"columnNumber\":20,\"columnName\":\"v18\",\"columnTypeName\":\"FLOAT\"},{\"columnNumber\":21,\"columnName\":\"v19\",\"columnTypeName\":\"FLOAT\"},{\"columnNumber\":22,\"columnName\":\"v20\",\"columnTypeName\":\"FLOAT\"},{\"columnNumber\":23,\"columnName\":\"v21\",\"columnTypeName\":\"FLOAT\"},{\"columnNumber\":24,\"columnName\":\"v22\",\"columnTypeName\":\"FLOAT\"},{\"columnNumber\":25,\"columnName\":\"v23\",\"columnTypeName\":\"FLOAT\"},{\"columnNumber\":26,\"columnName\":\"v24\",\"columnTypeName\":\"FLOAT\"},{\"columnNumber\":27,\"columnName\":\"v25\",\"columnTypeName\":\"FLOAT\"},{\"columnNumber\":28,\"columnName\":\"v26\",\"columnTypeName\":\"FLOAT\"},{\"columnNumber\":29,\"columnName\":\"v27\",\"columnTypeName\":\"FLOAT\"},{\"columnNumber\":30,\"columnName\":\"v28\",\"columnTypeName\":\"FLOAT\"},{\"columnNumber\":31,\"columnName\":\"v29\",\"columnTypeName\":\"FLOAT\"},{\"columnNumber\":32,\"columnName\":\"v30\",\"columnTypeName\":\"FLOAT\"},{\"columnNumber\":33,\"columnName\":\"v31\",\"columnTypeName\":\"FLOAT\"},{\"columnNumber\":34,\"columnName\":\"v32\",\"columnTypeName\":\"FLOAT\"},{\"columnNumber\":35,\"columnName\":\"v33\",\"columnTypeName\":\"FLOAT\"},{\"columnNumber\":36,\"columnName\":\"v34\",\"columnTypeName\":\"FLOAT\"},{\"columnNumber\":37,\"columnName\":\"v35\",\"columnTypeName\":\"FLOAT\"},{\"columnNumber\":38,\"columnName\":\"v36\",\"columnTypeName\":\"FLOAT\"},{\"columnNumber\":39,\"columnName\":\"v37\",\"columnTypeName\":\"FLOAT\"},{\"columnNumber\":40,\"columnName\":\"v38\",\"columnTypeName\":\"FLOAT\"},{\"columnNumber\":41,\"columnName\":\"v39\",\"columnTypeName\":\"FLOAT\"},{\"columnNumber\":42,\"columnName\":\"v40\",\"columnTypeName\":\"FLOAT\"},{\"columnNumber\":43,\"columnName\":\"v41\",\"columnTypeName\":\"FLOAT\"},{\"columnNumber\":44,\"columnName\":\"v42\",\"columnTypeName\":\"FLOAT\"},{\"columnNumber\":45,\"columnName\":\"v43\",\"columnTypeName\":\"FLOAT\"},{\"columnNumber\":46,\"columnName\":\"v44\",\"columnTypeName\":\"FLOAT\"},{\"columnNumber\":47,\"columnName\":\"v45\",\"columnTypeName\":\"FLOAT\"},{\"columnNumber\":48,\"columnName\":\"v46\",\"columnTypeName\":\"FLOAT\"},{\"columnNumber\":49,\"columnName\":\"v47\",\"columnTypeName\":\"FLOAT\"},{\"columnNumber\":50,\"columnName\":\"v48\",\"columnTypeName\":\"FLOAT\"},{\"columnNumber\":51,\"columnName\":\"v49\",\"columnTypeName\":\"FLOAT\"}]}"
     },
     "output_type": "execute_result"
    }
   ],
   "source": [
    "WITH comments_data AS (\n",
    "    SELECT comment_id, customer_id, TRANSLATE(comment_text USING UNICODE_TO_LATIN) comment_text\n",
    "    FROM aws_glue_catalog.tddemos_glue_db.web_comment),\n",
    "\n",
    "model_data AS (\n",
    "    SELECT TRANSLATE(doc_id USING UNICODE_TO_LATIN) doc_id, \n",
    "            v1, v2, v3, v4, v5, v6, v7, v8, v9, v10, \n",
    "            v11, v12, v13, v14, v15, v16, v17, v18, v19, v20, \n",
    "            v21, v22, v23, v24, v25, v26, v27, v28, v29, v30, \n",
    "            v31, v32, v33, v34, v35, v36, v37, v38, v39, v40, \n",
    "            v41, v42, v43, v44, v45, v46, v47, v48, v49, v50\n",
    "    FROM aws_glue_catalog.tddemos_glue_db.glove_6B_50d)\n",
    "    \n",
    "\n",
    "SELECT TOP 5 * FROM TD_WordEmbeddings (\n",
    "    ON (SELECT TOP 1 * FROM comments_data) AS InputTable\n",
    "    ON model_data AS ModelTable DIMENSION\n",
    "USING\n",
    "    IDColumn('comment_id')\n",
    "    ModelVectorColumns('[1:49]')\n",
    "    PrimaryColumn('comment_text')\n",
    "    Operation('token-embedding')\n",
    "    ModelTextColumn('doc_id')\n",
    ")AS dt \n",
    "ORDER BY comment_id ASC;\n"
   ]
  },
  {
   "cell_type": "code",
   "execution_count": 25,
   "metadata": {},
   "outputs": [
    {
     "data": {
      "application/vnd.teradata.resultset": "\"comment_id\",\"v1\",\"v2\",\"v3\",\"v5\",\"v6\",\"v7\",\"v8\",\"v9\",\"v10\",\"v11\",\"v12\",\"v13\",\"v14\",\"v15\",\"v16\",\"v17\",\"v18\",\"v19\",\"v20\",\"v21\",\"v22\",\"v23\",\"v24\",\"v25\",\"v26\",\"v27\",\"v28\",\"v29\",\"v30\",\"v31\",\"v32\",\"v33\",\"v34\",\"v35\",\"v36\",\"v37\",\"v38\",\"v39\",\"v40\",\"v41\",\"v42\",\"v43\",\"v44\",\"v45\",\"v46\",\"v47\",\"v48\",\"v49\",\"v50\",\"comment_text\",\"customer_id\"\n\"44\",\"0.2343262672857143\",\"0.07473221428571428\",\"-0.09502094285714285\",\"-0.17558378571428568\",\"0.03932564285714289\",\"-0.49589003000000015\",\"-0.2041192099999999\",\"-0.14350291157142855\",\"-0.07354126328571428\",\"-0.004745609999999996\",\"-8.041571428572734e-05\",\"-0.2878857857142857\",\"-0.034937271428571434\",\"0.2902968842857142\",\"0.28960175714285713\",\"0.009764999999999998\",\"-0.02667304285714286\",\"-0.22735000857142854\",\"-0.5640309142857145\",\"0.0035895285714286143\",\"0.1251727485714286\",\"0.12209477142857142\",\"0.09261665142857144\",\"0.024318899999999977\",\"-1.4543639400000001\",\"-0.48057251285714286\",\"0.31533762857142855\",\"0.2992247857142856\",\"-0.32980491428571423\",\"3.164413085714285\",\"0.18699683571428571\",\"-0.13854398571428572\",\"-0.1377276028571429\",\"0.10516553299999999\",\"-0.014946267142857133\",\"0.03715514714285714\",\"0.2525842514285714\",\"-0.004019678571428566\",\"-0.28065471428571437\",\"-0.055274000000000004\",\"0.0910200971428571\",\"0.01763180000000001\",\"0.20138086371428568\",\"-0.049329283571428545\",\"0.019906448571428557\",\"-0.0322223585714286\",\"-0.20318200285714288\",\"0.016424224285714283\",\"-0.014694861428571456\",\"Tried this on today at my local retailer and had to have it. it is so comfortable and flattering. it's too bad the picture online has the model tucking it into the skirt because you can't see the ruching across the front. a little dressier alternative to a plain tee and reasonably priced for retailer. 5'8\"\"\"\" and i generally wear a 6, the small fit well. will probably be back for the black!\",\"862\"\n\"136\",\"0.056143110975609756\",\"0.258226524390244\",\"-0.21383385365853658\",\"-0.15374898780487806\",\"0.24009104024390243\",\"-0.4102909158536584\",\"-0.2862854853658535\",\"-0.15451890426829268\",\"-0.010160940609756098\",\"-0.010200756097560977\",\"0.04074521951219513\",\"-0.26301206097560975\",\"0.03634027195121949\",\"0.32674551829268283\",\"0.22266943658536584\",\"0.09247281219512196\",\"0.020666048902439033\",\"-0.3179360975609755\",\"-0.6374541463414632\",\"-0.24979352439024394\",\"0.20848721219512192\",\"0.15520077926829268\",\"-0.1075167256097561\",\"0.07782286585365854\",\"-1.4862170243902442\",\"-0.5769914500000002\",\"0.5085495609756097\",\"0.43977561829268264\",\"-0.2941979512195122\",\"3.102396634146341\",\"0.1186908109756098\",\"-0.12603423536585368\",\"-0.08277092926829267\",\"0.08937849573170735\",\"0.025075894024390262\",\"-0.02093087804878049\",\"0.2744250999999999\",\"0.012012490243902456\",\"-0.4228723170731706\",\"-0.08268208170731704\",\"0.1644130975609756\",\"0.004756717073170743\",\"0.13722630073170733\",\"0.0012754146341463423\",\"0.013822723170731695\",\"0.009516993170731701\",\"-0.2573501292682928\",\"-0.009868249999999999\",\"0.03205921097560975\",\"Love this vest! the color looks a little more brown in the picture than it really is--it's a deep forest green that goes great with jeans or black pants. a great piece for polished but casual style, and the fabric has a nice, soft suede-like finish.    if only the was *slightly* higher to hit my true natural waist, it would get that fifth star (but sometimes i wear petite sizes, so that might be the issue here--still looks good tied).\",\"966\"",
      "text/html": [
       "<div class = \"td-resultset-table-div\" style = \"max-height: 100%; overflow-y: auto\">\n",
       "      <table class=\"tdhistory958905\"><style>\n",
       "      table.tdhistory958905 { display: block !important; min-height: 150px !important; overflow: auto !important; height: 150px !important; width: 100% !important; border: 1px solid rgb(207, 207, 207) !important; border-collapse: collapse !important; ; color: var(--jp-ui-font-color1) !important; }\n",
       "      th.tdhistory958905 { border: 1px solid rgb(198,198,198) !important; border-collapse: collapse !important; ; padding: 2px 5px !important; ; font-size: 13px !important; ; text-align: center !important; white-space: normal !important; color: var(--jp-ui-font-color1) !important; }\n",
       "      th.tdhistory958905:last-child { text-align: left !important; }\n",
       "      tbody.tdhistory958905 tr:nth-child(even) { background: rgba(243, 243, 243, 0.75) !important; }\n",
       "      tbody.tdhistory958905 tr:nth-child(odd) { background: var(--jp-ui-inverse-font-color1) !important; }\n",
       "      td.tdhistory958905 { border: 1px solid rgb(207, 207, 207) !important; border-collapse: collapse !important; ; padding: 2px 5px !important; ; font-size: 13px !important; ; text-align: left !important;          white-space: nowrap !important; overflow:hidden !important; text-overflow:ellipsis !important;; }\n",
       "    </style><thead><tr style= \"background: rgba(243, 243, 243, 0.75)\"><th class=\"tdhistory958905\"></th><th class=\"tdhistory958905\">comment_id</th><th class=\"tdhistory958905\">v1</th><th class=\"tdhistory958905\">v2</th><th class=\"tdhistory958905\">v3</th><th class=\"tdhistory958905\">v5</th><th class=\"tdhistory958905\">v6</th><th class=\"tdhistory958905\">v7</th><th class=\"tdhistory958905\">v8</th><th class=\"tdhistory958905\">v9</th><th class=\"tdhistory958905\">v10</th><th class=\"tdhistory958905\">v11</th><th class=\"tdhistory958905\">v12</th><th class=\"tdhistory958905\">v13</th><th class=\"tdhistory958905\">v14</th><th class=\"tdhistory958905\">v15</th><th class=\"tdhistory958905\">v16</th><th class=\"tdhistory958905\">v17</th><th class=\"tdhistory958905\">v18</th><th class=\"tdhistory958905\">v19</th><th class=\"tdhistory958905\">v20</th><th class=\"tdhistory958905\">v21</th><th class=\"tdhistory958905\">v22</th><th class=\"tdhistory958905\">v23</th><th class=\"tdhistory958905\">v24</th><th class=\"tdhistory958905\">v25</th><th class=\"tdhistory958905\">v26</th><th class=\"tdhistory958905\">v27</th><th class=\"tdhistory958905\">v28</th><th class=\"tdhistory958905\">v29</th><th class=\"tdhistory958905\">v30</th><th class=\"tdhistory958905\">v31</th><th class=\"tdhistory958905\">v32</th><th class=\"tdhistory958905\">v33</th><th class=\"tdhistory958905\">v34</th><th class=\"tdhistory958905\">v35</th><th class=\"tdhistory958905\">v36</th><th class=\"tdhistory958905\">v37</th><th class=\"tdhistory958905\">v38</th><th class=\"tdhistory958905\">v39</th><th class=\"tdhistory958905\">v40</th><th class=\"tdhistory958905\">v41</th><th class=\"tdhistory958905\">v42</th><th class=\"tdhistory958905\">v43</th><th class=\"tdhistory958905\">v44</th><th class=\"tdhistory958905\">v45</th><th class=\"tdhistory958905\">v46</th><th class=\"tdhistory958905\">v47</th><th class=\"tdhistory958905\">v48</th><th class=\"tdhistory958905\">v49</th><th class=\"tdhistory958905\">v50</th><th class=\"tdhistory958905\">comment_text</th><th class=\"tdhistory958905\">customer_id</th></tr></thead><tbody class=\"tdhistory958905 resultset-body\"><tr><th class=\"tdhistory958905\" style= \"background: rgba(243, 243, 243, 0.75)\">1</th><td class=\"tdhistory958905\">44</td><td class=\"tdhistory958905\">0.2343262672857143</td><td class=\"tdhistory958905\">0.07473221428571428</td><td class=\"tdhistory958905\">-0.09502094285714285</td><td class=\"tdhistory958905\">-0.17558378571428568</td><td class=\"tdhistory958905\">0.03932564285714289</td><td class=\"tdhistory958905\">-0.49589003000000015</td><td class=\"tdhistory958905\">-0.2041192099999999</td><td class=\"tdhistory958905\">-0.14350291157142855</td><td class=\"tdhistory958905\">-0.07354126328571428</td><td class=\"tdhistory958905\">-0.004745609999999996</td><td class=\"tdhistory958905\">-8.041571428572734e-05</td><td class=\"tdhistory958905\">-0.2878857857142857</td><td class=\"tdhistory958905\">-0.034937271428571434</td><td class=\"tdhistory958905\">0.2902968842857142</td><td class=\"tdhistory958905\">0.28960175714285713</td><td class=\"tdhistory958905\">0.009764999999999998</td><td class=\"tdhistory958905\">-0.02667304285714286</td><td class=\"tdhistory958905\">-0.22735000857142854</td><td class=\"tdhistory958905\">-0.5640309142857145</td><td class=\"tdhistory958905\">0.0035895285714286143</td><td class=\"tdhistory958905\">0.1251727485714286</td><td class=\"tdhistory958905\">0.12209477142857142</td><td class=\"tdhistory958905\">0.09261665142857144</td><td class=\"tdhistory958905\">0.024318899999999977</td><td class=\"tdhistory958905\">-1.4543639400000001</td><td class=\"tdhistory958905\">-0.48057251285714286</td><td class=\"tdhistory958905\">0.31533762857142855</td><td class=\"tdhistory958905\">0.2992247857142856</td><td class=\"tdhistory958905\">-0.32980491428571423</td><td class=\"tdhistory958905\">3.164413085714285</td><td class=\"tdhistory958905\">0.18699683571428571</td><td class=\"tdhistory958905\">-0.13854398571428572</td><td class=\"tdhistory958905\">-0.1377276028571429</td><td class=\"tdhistory958905\">0.10516553299999999</td><td class=\"tdhistory958905\">-0.014946267142857133</td><td class=\"tdhistory958905\">0.03715514714285714</td><td class=\"tdhistory958905\">0.2525842514285714</td><td class=\"tdhistory958905\">-0.004019678571428566</td><td class=\"tdhistory958905\">-0.28065471428571437</td><td class=\"tdhistory958905\">-0.055274000000000004</td><td class=\"tdhistory958905\">0.0910200971428571</td><td class=\"tdhistory958905\">0.01763180000000001</td><td class=\"tdhistory958905\">0.20138086371428568</td><td class=\"tdhistory958905\">-0.049329283571428545</td><td class=\"tdhistory958905\">0.019906448571428557</td><td class=\"tdhistory958905\">-0.0322223585714286</td><td class=\"tdhistory958905\">-0.20318200285714288</td><td class=\"tdhistory958905\">0.016424224285714283</td><td class=\"tdhistory958905\">-0.014694861428571456</td><td class=\"tdhistory958905\">Tried this on today at my local retailer and had to have it. it is so comfortable and flattering. it's too bad the picture online has the model tucking it into the skirt because you can't see the ruching across the front. a little dressier alternative to a plain tee and reasonably priced for retailer. 5'8\"\" and i generally wear a 6, the small fit well. will probably be back for the black!</td><td class=\"tdhistory958905\">862</td></tr><tr><th class=\"tdhistory958905\" style= \"background: rgba(243, 243, 243, 0.75)\">2</th><td class=\"tdhistory958905\">136</td><td class=\"tdhistory958905\">0.056143110975609756</td><td class=\"tdhistory958905\">0.258226524390244</td><td class=\"tdhistory958905\">-0.21383385365853658</td><td class=\"tdhistory958905\">-0.15374898780487806</td><td class=\"tdhistory958905\">0.24009104024390243</td><td class=\"tdhistory958905\">-0.4102909158536584</td><td class=\"tdhistory958905\">-0.2862854853658535</td><td class=\"tdhistory958905\">-0.15451890426829268</td><td class=\"tdhistory958905\">-0.010160940609756098</td><td class=\"tdhistory958905\">-0.010200756097560977</td><td class=\"tdhistory958905\">0.04074521951219513</td><td class=\"tdhistory958905\">-0.26301206097560975</td><td class=\"tdhistory958905\">0.03634027195121949</td><td class=\"tdhistory958905\">0.32674551829268283</td><td class=\"tdhistory958905\">0.22266943658536584</td><td class=\"tdhistory958905\">0.09247281219512196</td><td class=\"tdhistory958905\">0.020666048902439033</td><td class=\"tdhistory958905\">-0.3179360975609755</td><td class=\"tdhistory958905\">-0.6374541463414632</td><td class=\"tdhistory958905\">-0.24979352439024394</td><td class=\"tdhistory958905\">0.20848721219512192</td><td class=\"tdhistory958905\">0.15520077926829268</td><td class=\"tdhistory958905\">-0.1075167256097561</td><td class=\"tdhistory958905\">0.07782286585365854</td><td class=\"tdhistory958905\">-1.4862170243902442</td><td class=\"tdhistory958905\">-0.5769914500000002</td><td class=\"tdhistory958905\">0.5085495609756097</td><td class=\"tdhistory958905\">0.43977561829268264</td><td class=\"tdhistory958905\">-0.2941979512195122</td><td class=\"tdhistory958905\">3.102396634146341</td><td class=\"tdhistory958905\">0.1186908109756098</td><td class=\"tdhistory958905\">-0.12603423536585368</td><td class=\"tdhistory958905\">-0.08277092926829267</td><td class=\"tdhistory958905\">0.08937849573170735</td><td class=\"tdhistory958905\">0.025075894024390262</td><td class=\"tdhistory958905\">-0.02093087804878049</td><td class=\"tdhistory958905\">0.2744250999999999</td><td class=\"tdhistory958905\">0.012012490243902456</td><td class=\"tdhistory958905\">-0.4228723170731706</td><td class=\"tdhistory958905\">-0.08268208170731704</td><td class=\"tdhistory958905\">0.1644130975609756</td><td class=\"tdhistory958905\">0.004756717073170743</td><td class=\"tdhistory958905\">0.13722630073170733</td><td class=\"tdhistory958905\">0.0012754146341463423</td><td class=\"tdhistory958905\">0.013822723170731695</td><td class=\"tdhistory958905\">0.009516993170731701</td><td class=\"tdhistory958905\">-0.2573501292682928</td><td class=\"tdhistory958905\">-0.009868249999999999</td><td class=\"tdhistory958905\">0.03205921097560975</td><td class=\"tdhistory958905\">Love this vest! the color looks a little more brown in the picture than it really is--it's a deep forest green that goes great with jeans or black pants. a great piece for polished but casual style, and the fabric has a nice, soft suede-like finish.    if only the was *slightly* higher to hit my true natural waist, it would get that fifth star (but sometimes i wear petite sizes, so that might be the issue here--still looks good tied).</td><td class=\"tdhistory958905\">966</td></tr></tbody></table></div>"
      ]
     },
     "execution_count": 25,
     "metadata": {
      "application/vnd.teradata.resultset": "{\"resultSetID\":\"/home/jovyan/JupyterLabRoot/Teradata/Resultsets/2024.05.23_17.51.14.949_UTC\",\"historyID\":24,\"chunkID\":\"00001\",\"sessionid\":\"\",\"portnum\":\"\",\"dockermode\":\"docker\",\"totalRowCount\":2,\"chunkCount\":0,\"rowLimit\":0,\"columnMetadata\":[{\"columnName\":\"comment_id\",\"columnTypeName\":\"INTEGER\"},{\"columnNumber\":1,\"columnName\":\"v1\",\"columnTypeName\":\"FLOAT\"},{\"columnNumber\":2,\"columnName\":\"v2\",\"columnTypeName\":\"FLOAT\"},{\"columnNumber\":3,\"columnName\":\"v3\",\"columnTypeName\":\"FLOAT\"},{\"columnNumber\":4,\"columnName\":\"v5\",\"columnTypeName\":\"FLOAT\"},{\"columnNumber\":5,\"columnName\":\"v6\",\"columnTypeName\":\"FLOAT\"},{\"columnNumber\":6,\"columnName\":\"v7\",\"columnTypeName\":\"FLOAT\"},{\"columnNumber\":7,\"columnName\":\"v8\",\"columnTypeName\":\"FLOAT\"},{\"columnNumber\":8,\"columnName\":\"v9\",\"columnTypeName\":\"FLOAT\"},{\"columnNumber\":9,\"columnName\":\"v10\",\"columnTypeName\":\"FLOAT\"},{\"columnNumber\":10,\"columnName\":\"v11\",\"columnTypeName\":\"FLOAT\"},{\"columnNumber\":11,\"columnName\":\"v12\",\"columnTypeName\":\"FLOAT\"},{\"columnNumber\":12,\"columnName\":\"v13\",\"columnTypeName\":\"FLOAT\"},{\"columnNumber\":13,\"columnName\":\"v14\",\"columnTypeName\":\"FLOAT\"},{\"columnNumber\":14,\"columnName\":\"v15\",\"columnTypeName\":\"FLOAT\"},{\"columnNumber\":15,\"columnName\":\"v16\",\"columnTypeName\":\"FLOAT\"},{\"columnNumber\":16,\"columnName\":\"v17\",\"columnTypeName\":\"FLOAT\"},{\"columnNumber\":17,\"columnName\":\"v18\",\"columnTypeName\":\"FLOAT\"},{\"columnNumber\":18,\"columnName\":\"v19\",\"columnTypeName\":\"FLOAT\"},{\"columnNumber\":19,\"columnName\":\"v20\",\"columnTypeName\":\"FLOAT\"},{\"columnNumber\":20,\"columnName\":\"v21\",\"columnTypeName\":\"FLOAT\"},{\"columnNumber\":21,\"columnName\":\"v22\",\"columnTypeName\":\"FLOAT\"},{\"columnNumber\":22,\"columnName\":\"v23\",\"columnTypeName\":\"FLOAT\"},{\"columnNumber\":23,\"columnName\":\"v24\",\"columnTypeName\":\"FLOAT\"},{\"columnNumber\":24,\"columnName\":\"v25\",\"columnTypeName\":\"FLOAT\"},{\"columnNumber\":25,\"columnName\":\"v26\",\"columnTypeName\":\"FLOAT\"},{\"columnNumber\":26,\"columnName\":\"v27\",\"columnTypeName\":\"FLOAT\"},{\"columnNumber\":27,\"columnName\":\"v28\",\"columnTypeName\":\"FLOAT\"},{\"columnNumber\":28,\"columnName\":\"v29\",\"columnTypeName\":\"FLOAT\"},{\"columnNumber\":29,\"columnName\":\"v30\",\"columnTypeName\":\"FLOAT\"},{\"columnNumber\":30,\"columnName\":\"v31\",\"columnTypeName\":\"FLOAT\"},{\"columnNumber\":31,\"columnName\":\"v32\",\"columnTypeName\":\"FLOAT\"},{\"columnNumber\":32,\"columnName\":\"v33\",\"columnTypeName\":\"FLOAT\"},{\"columnNumber\":33,\"columnName\":\"v34\",\"columnTypeName\":\"FLOAT\"},{\"columnNumber\":34,\"columnName\":\"v35\",\"columnTypeName\":\"FLOAT\"},{\"columnNumber\":35,\"columnName\":\"v36\",\"columnTypeName\":\"FLOAT\"},{\"columnNumber\":36,\"columnName\":\"v37\",\"columnTypeName\":\"FLOAT\"},{\"columnNumber\":37,\"columnName\":\"v38\",\"columnTypeName\":\"FLOAT\"},{\"columnNumber\":38,\"columnName\":\"v39\",\"columnTypeName\":\"FLOAT\"},{\"columnNumber\":39,\"columnName\":\"v40\",\"columnTypeName\":\"FLOAT\"},{\"columnNumber\":40,\"columnName\":\"v41\",\"columnTypeName\":\"FLOAT\"},{\"columnNumber\":41,\"columnName\":\"v42\",\"columnTypeName\":\"FLOAT\"},{\"columnNumber\":42,\"columnName\":\"v43\",\"columnTypeName\":\"FLOAT\"},{\"columnNumber\":43,\"columnName\":\"v44\",\"columnTypeName\":\"FLOAT\"},{\"columnNumber\":44,\"columnName\":\"v45\",\"columnTypeName\":\"FLOAT\"},{\"columnNumber\":45,\"columnName\":\"v46\",\"columnTypeName\":\"FLOAT\"},{\"columnNumber\":46,\"columnName\":\"v47\",\"columnTypeName\":\"FLOAT\"},{\"columnNumber\":47,\"columnName\":\"v48\",\"columnTypeName\":\"FLOAT\"},{\"columnNumber\":48,\"columnName\":\"v49\",\"columnTypeName\":\"FLOAT\"},{\"columnNumber\":49,\"columnName\":\"v50\",\"columnTypeName\":\"FLOAT\"},{\"columnNumber\":50,\"columnName\":\"comment_text\",\"columnTypeName\":\"VARCHAR\",\"length\":32000,\"scale\":32000},{\"columnNumber\":51,\"columnName\":\"customer_id\",\"columnTypeName\":\"INTEGER\"}]}"
     },
     "output_type": "execute_result"
    }
   ],
   "source": [
    "WITH comments_data AS (\n",
    "    SELECT TOP 1000 comment_id, customer_id, TRANSLATE(comment_text USING UNICODE_TO_LATIN) comment_text\n",
    "    FROM aws_glue_catalog.tddemos_glue_db.web_comment),\n",
    "\n",
    "model_data AS (\n",
    "    SELECT TRANSLATE(doc_id USING UNICODE_TO_LATIN) doc_id, v1, v2, v3, v4\n",
    "            v5, v6, v7, v8, v9, v10,\n",
    "            v11, v12, v13, v14, v15,\n",
    "            v16, v17, v18, v19, v20,\n",
    "            v21, v22, v23, v24, v25,\n",
    "            v26, v27, v28, v29, v30,\n",
    "            v31, v32, v33, v34, v35,\n",
    "            v36, v37, v38, v39, v40,\n",
    "            v41, v42, v43, v44, v45,\n",
    "            v46, v47, v48, v49, v50\n",
    "    FROM aws_glue_catalog.tddemos_glue_db.glove_6B_50d)\n",
    "\n",
    "SELECT TOP 2 * FROM TD_WordEmbeddings (\n",
    "    ON comments_data AS InputTable\n",
    "    ON model_data AS ModelTable DIMENSION\n",
    "USING\n",
    "    IDColumn('comment_id')\n",
    "    ModelVectorColumns('[1:49]')\n",
    "    PrimaryColumn('comment_text')\n",
    "    Operation('doc-embedding')\n",
    "    ModelTextColumn('doc_id')\n",
    "    Accumulate('comment_text', 'customer_id')\n",
    ")AS dt \n",
    "ORDER BY comment_id ASC;"
   ]
  },
  {
   "cell_type": "markdown",
   "metadata": {},
   "source": [
    "<hr>\n",
    "<b style = 'font-size:18px;font-family:Arial;color:#00233C'>1.4 - Materialize the data</b>\n",
    "<p style = 'font-size:16px;font-family:Arial;color:#00233C'>Materialize the embeddings to a local temporary table for consistency and performance - no need to re-embed each experiment.</p>"
   ]
  },
  {
   "cell_type": "code",
   "execution_count": null,
   "metadata": {},
   "outputs": [],
   "source": [
    "/*Drop the table if necessary.  We are using volatile tables, \n",
    "so this shouldn't be necessary unless we rerun this in the same session */\n",
    "DROP TABLE embedded_data"
   ]
  },
  {
   "cell_type": "code",
   "execution_count": 26,
   "metadata": {},
   "outputs": [
    {
     "data": {
      "text/plain": [
       "Success: 0 rows affected"
      ]
     },
     "execution_count": 26,
     "metadata": {
      "application/vnd.teradata.resultset": ""
     },
     "output_type": "execute_result"
    }
   ],
   "source": [
    "CREATE MULTISET VOLATILE TABLE embedded_data AS(\n",
    "    WITH comments_data AS (\n",
    "        SELECT TOP 1000 comment_id, customer_id, TRANSLATE(comment_text USING UNICODE_TO_LATIN) comment_text\n",
    "        FROM aws_glue_catalog.tddemos_glue_db.web_comment),\n",
    "    \n",
    "    model_data AS (\n",
    "        SELECT TRANSLATE(doc_id USING UNICODE_TO_LATIN) doc_id, v1, v2, v3, v4\n",
    "                v5, v6, v7, v8, v9, v10,\n",
    "                v11, v12, v13, v14, v15,\n",
    "                v16, v17, v18, v19, v20,\n",
    "                v21, v22, v23, v24, v25,\n",
    "                v26, v27, v28, v29, v30,\n",
    "                v31, v32, v33, v34, v35,\n",
    "                v36, v37, v38, v39, v40,\n",
    "                v41, v42, v43, v44, v45,\n",
    "                v46, v47, v48, v49, v50\n",
    "        FROM aws_glue_catalog.tddemos_glue_db.glove_6B_50d)\n",
    "    \n",
    "    SELECT * FROM TD_WordEmbeddings (\n",
    "        ON comments_data AS InputTable\n",
    "        ON model_data AS ModelTable DIMENSION\n",
    "    USING\n",
    "        IDColumn('comment_id')\n",
    "        ModelVectorColumns('[1:49]')\n",
    "        PrimaryColumn('comment_text')\n",
    "        Operation('doc-embedding')\n",
    "        ModelTextColumn('doc_id')\n",
    "        Accumulate('comment_text', 'customer_id')\n",
    "    )AS dt \n",
    ")WITH DATA\n",
    "NO PRIMARY INDEX\n",
    "ON COMMIT PRESERVE ROWS;"
   ]
  },
  {
   "cell_type": "markdown",
   "metadata": {},
   "source": [
    "<hr>\n",
    "<p style = 'font-size:20px;font-family:Arial;color:#00233C'><b>Step 2 - Find the Ideal K-means Model</b></p>\n",
    "\n",
    "<p style = 'font-size:16px;font-family:Arial;color:#00233C'>As discussed above, the K-means algorithm takes a number of clusters \"k\", chooses a random starting point for each centroid, and iterates until a hard limit or an optimium value is reached.</p>\n",
    "\n",
    "<p style = 'font-size:16px;font-family:Arial;color:#00233C'><b>Other Function Parameters Include (but are not limited to)</b></p>\n",
    "<ul style = 'font-size:16px;font-family:Arial;color:#00233C'>\n",
    "    <li>Input data - table, view, query</li>\n",
    "    <li>StopThreshold - The algorithm converges if the distance between the centroids from the previous iteration and the current iteration is less than the specified value.</li>\n",
    "    <li>MaxIterNum</li>Specify the maximum number of iterations for the K-means algorithm. The algorithm stops after performing the specified number of iterations even if the convergence criterion is not met.\n",
    "    </ul>\n",
    "    \n",
    "<hr>\n",
    "<b style = 'font-size:18px;font-family:Arial;color:#00233C'>2.1 - Example Model - 4-cluster test</b>\n",
    "<p style = 'font-size:16px;font-family:Arial;color:#00233C'>The example below uses an arbitrary number of clusters to create the first model.  Note the output metadata provides information such as the number of iterations, converged or not, etc.</p>"
   ]
  },
  {
   "cell_type": "code",
   "execution_count": 27,
   "metadata": {},
   "outputs": [
    {
     "data": {
      "application/vnd.teradata.resultset": "\"td_clusterid_kmeans\",\"td_size_kmeans\",\"td_withinss_kmeans\",\"td_modelinfo_kmeans\"\n\"0\",\"257\",\"84.93198447803661\",\"\"\n\"1\",\"237\",\"110.41822154170495\",\"\"\n\"2\",\"28\",\"0\",\"\"\n\"3\",\"478\",\"114.85816491177866\",\"\"\n\"\",\"\",\"\",\"Converged : True\"\n\"\",\"\",\"\",\"Number of Iterations : 7\"\n\"\",\"\",\"\",\"Number of Clusters : 4\"\n\"\",\"\",\"\",\"Total_WithinSS : 3.10208370931520E+02\"\n\"\",\"\",\"\",\"Between_SS : 4.54492885295835E+02\"\n\"\",\"\",\"\",\"Method for InitialCentroids : Random\"",
      "text/html": [
       "<div class = \"td-resultset-table-div\" style = \"max-height: 100%; overflow-y: auto\">\n",
       "      <table class=\"tdhistory178331\"><style>\n",
       "      table.tdhistory178331 { display: block !important; min-height: 350px !important; overflow: auto !important; height: 350px !important; width: 100% !important; border: 1px solid rgb(207, 207, 207) !important; border-collapse: collapse !important; ; color: var(--jp-ui-font-color1) !important; }\n",
       "      th.tdhistory178331 { border: 1px solid rgb(198,198,198) !important; border-collapse: collapse !important; ; padding: 2px 5px !important; ; font-size: 13px !important; ; text-align: center !important; white-space: normal !important; color: var(--jp-ui-font-color1) !important; }\n",
       "      th.tdhistory178331:last-child { text-align: left !important; }\n",
       "      tbody.tdhistory178331 tr:nth-child(even) { background: rgba(243, 243, 243, 0.75) !important; }\n",
       "      tbody.tdhistory178331 tr:nth-child(odd) { background: var(--jp-ui-inverse-font-color1) !important; }\n",
       "      td.tdhistory178331 { border: 1px solid rgb(207, 207, 207) !important; border-collapse: collapse !important; ; padding: 2px 5px !important; ; font-size: 13px !important; ; text-align: left !important;          white-space: nowrap !important; overflow:hidden !important; text-overflow:ellipsis !important;; }\n",
       "    </style><thead><tr style= \"background: rgba(243, 243, 243, 0.75)\"><th class=\"tdhistory178331\"></th><th class=\"tdhistory178331\">td_clusterid_kmeans</th><th class=\"tdhistory178331\">td_size_kmeans</th><th class=\"tdhistory178331\">td_withinss_kmeans</th><th class=\"tdhistory178331\">td_modelinfo_kmeans</th></tr></thead><tbody class=\"tdhistory178331 resultset-body\"><tr><th class=\"tdhistory178331\" style= \"background: rgba(243, 243, 243, 0.75)\">1</th><td class=\"tdhistory178331\">0</td><td class=\"tdhistory178331\">257</td><td class=\"tdhistory178331\">84.93198447803661</td><td class=\"tdhistory178331\"></td></tr><tr><th class=\"tdhistory178331\" style= \"background: rgba(243, 243, 243, 0.75)\">2</th><td class=\"tdhistory178331\">1</td><td class=\"tdhistory178331\">237</td><td class=\"tdhistory178331\">110.41822154170495</td><td class=\"tdhistory178331\"></td></tr><tr><th class=\"tdhistory178331\" style= \"background: rgba(243, 243, 243, 0.75)\">3</th><td class=\"tdhistory178331\">2</td><td class=\"tdhistory178331\">28</td><td class=\"tdhistory178331\">0</td><td class=\"tdhistory178331\"></td></tr><tr><th class=\"tdhistory178331\" style= \"background: rgba(243, 243, 243, 0.75)\">4</th><td class=\"tdhistory178331\">3</td><td class=\"tdhistory178331\">478</td><td class=\"tdhistory178331\">114.85816491177866</td><td class=\"tdhistory178331\"></td></tr><tr><th class=\"tdhistory178331\" style= \"background: rgba(243, 243, 243, 0.75)\">5</th><td class=\"tdhistory178331\"></td><td class=\"tdhistory178331\"></td><td class=\"tdhistory178331\"></td><td class=\"tdhistory178331\">Converged : True</td></tr><tr><th class=\"tdhistory178331\" style= \"background: rgba(243, 243, 243, 0.75)\">6</th><td class=\"tdhistory178331\"></td><td class=\"tdhistory178331\"></td><td class=\"tdhistory178331\"></td><td class=\"tdhistory178331\">Number of Iterations : 7</td></tr><tr><th class=\"tdhistory178331\" style= \"background: rgba(243, 243, 243, 0.75)\">7</th><td class=\"tdhistory178331\"></td><td class=\"tdhistory178331\"></td><td class=\"tdhistory178331\"></td><td class=\"tdhistory178331\">Number of Clusters : 4</td></tr><tr><th class=\"tdhistory178331\" style= \"background: rgba(243, 243, 243, 0.75)\">8</th><td class=\"tdhistory178331\"></td><td class=\"tdhistory178331\"></td><td class=\"tdhistory178331\"></td><td class=\"tdhistory178331\">Total_WithinSS : 3.10208370931520E+02</td></tr><tr><th class=\"tdhistory178331\" style= \"background: rgba(243, 243, 243, 0.75)\">9</th><td class=\"tdhistory178331\"></td><td class=\"tdhistory178331\"></td><td class=\"tdhistory178331\"></td><td class=\"tdhistory178331\">Between_SS : 4.54492885295835E+02</td></tr><tr><th class=\"tdhistory178331\" style= \"background: rgba(243, 243, 243, 0.75)\">10</th><td class=\"tdhistory178331\"></td><td class=\"tdhistory178331\"></td><td class=\"tdhistory178331\"></td><td class=\"tdhistory178331\">Method for InitialCentroids : Random</td></tr></tbody></table></div>"
      ]
     },
     "execution_count": 27,
     "metadata": {
      "application/vnd.teradata.resultset": "{\"resultSetID\":\"/home/jovyan/JupyterLabRoot/Teradata/Resultsets/2024.05.23_17.51.58.738_UTC\",\"historyID\":26,\"chunkID\":\"00001\",\"sessionid\":\"\",\"portnum\":\"\",\"dockermode\":\"docker\",\"totalRowCount\":10,\"chunkCount\":0,\"rowLimit\":0,\"columnMetadata\":[{\"columnName\":\"td_clusterid_kmeans\",\"columnTypeName\":\"BIGINT\"},{\"columnNumber\":1,\"columnName\":\"td_size_kmeans\",\"columnTypeName\":\"BIGINT\"},{\"columnNumber\":2,\"columnName\":\"td_withinss_kmeans\",\"columnTypeName\":\"FLOAT\"},{\"columnNumber\":3,\"columnName\":\"td_modelinfo_kmeans\",\"columnTypeName\":\"VARCHAR\",\"length\":128,\"scale\":128}]}"
     },
     "output_type": "execute_result"
    }
   ],
   "source": [
    "SELECT td_clusterid_kmeans, td_size_kmeans, td_withinss_kmeans, td_modelinfo_kmeans \n",
    "FROM TD_KMeans (\n",
    "    ON embedded_data AS InputTable \n",
    "USING\n",
    "    IdColumn('comment_id') \n",
    "    TargetColumns('[1:49]') \n",
    "    NumClusters(4)\n",
    "    StopThreshold(0.0295) \n",
    "    MaxIterNum(10)\n",
    ")AS dt;"
   ]
  },
  {
   "cell_type": "markdown",
   "metadata": {},
   "source": [
    "<hr>\n",
    "<b style = 'font-size:18px;font-family:Arial;color:#00233C'>2.2 - Finding an Ideal value for K</b>\n",
    "\n",
    "<table style = 'width:100%;table-layout:fixed;'>\n",
    "    <tr>\n",
    "        <td style = 'vertical-align:top' width = '50%'>\n",
    "<p style = 'font-size:16px;font-family:Arial;color:#00233C'>Typically, data scientists will build the model using various values for \"k\", and plot the \"WCSS\" (Within Cluster Sum-of-Squares) value on a series of each value chosen for k.  The \"elbow\" point (where the slope changes) is usually a good value for k.  <a href = 'https://docs.teradata.com/r/Teradata-VantageTM-Analytics-Database-Analytic-Functions-17.20/Model-Training-Functions/TD_KMeans'>KMeans</a> function will return this value as \"TotalWithinSS : ###\" as a row in the \"td_modelinfo_kmeans\" column.</p>\n",
    "<br>\n",
    "<p style = 'font-size:16px;font-family:Arial;color:#00233C'>In the below example, we will express this function using values from 2 to 8 for \"k\".  Due to the highly-scalable nature of the native training function, we can perform this analysis incredibly rapidly and in parallel.</p>\n",
    "        </td>\n",
    "        <td><img src = 'https://raw.githubusercontent.com/Teradata/lake-demos/8c77e9297e8f3059921aee472fc0ae30ae0537db/UseCases/Vector-Embeddings-Segmentation/images/WCSS_elbow.png' width = '300'></td>\n",
    "    </tr>\n",
    "    </table>"
   ]
  },
  {
   "cell_type": "code",
   "execution_count": 28,
   "metadata": {},
   "outputs": [
    {
     "data": {
      "application/vnd.teradata.resultset": "\"K\",\"SUM_WITHINSS\"\n\"2\",\"384.9951647140515\"\n\"3\",\"333.1963994441012\"\n\"4\",\"307.75010648005764\"\n\"5\",\"294.3150860189776\"\n\"6\",\"288.62804626485087\"\n\"7\",\"278.87284716092734\"\n\"8\",\"270.5837365413063\"",
      "text/html": [
       "<div class = \"td-resultset-table-div\" style = \"max-height: 100%; overflow-y: auto\">\n",
       "      <table class=\"tdhistory983243\"><style>\n",
       "      table.tdhistory983243 { display: block !important; min-height: 275px !important; overflow: auto !important; height: 275px !important; width: 100% !important; border: 1px solid rgb(207, 207, 207) !important; border-collapse: collapse !important; ; color: var(--jp-ui-font-color1) !important; }\n",
       "      th.tdhistory983243 { border: 1px solid rgb(198,198,198) !important; border-collapse: collapse !important; ; padding: 2px 5px !important; ; font-size: 13px !important; ; text-align: center !important; white-space: normal !important; color: var(--jp-ui-font-color1) !important; }\n",
       "      th.tdhistory983243:last-child { text-align: left !important; }\n",
       "      tbody.tdhistory983243 tr:nth-child(even) { background: rgba(243, 243, 243, 0.75) !important; }\n",
       "      tbody.tdhistory983243 tr:nth-child(odd) { background: var(--jp-ui-inverse-font-color1) !important; }\n",
       "      td.tdhistory983243 { border: 1px solid rgb(207, 207, 207) !important; border-collapse: collapse !important; ; padding: 2px 5px !important; ; font-size: 13px !important; ; text-align: left !important;          white-space: nowrap !important; overflow:hidden !important; text-overflow:ellipsis !important;; }\n",
       "    </style><thead><tr style= \"background: rgba(243, 243, 243, 0.75)\"><th class=\"tdhistory983243\"></th><th class=\"tdhistory983243\">K</th><th class=\"tdhistory983243\">SUM_WITHINSS</th></tr></thead><tbody class=\"tdhistory983243 resultset-body\"><tr><th class=\"tdhistory983243\" style= \"background: rgba(243, 243, 243, 0.75)\">1</th><td class=\"tdhistory983243\">2</td><td class=\"tdhistory983243\">384.9951647140515</td></tr><tr><th class=\"tdhistory983243\" style= \"background: rgba(243, 243, 243, 0.75)\">2</th><td class=\"tdhistory983243\">3</td><td class=\"tdhistory983243\">333.1963994441012</td></tr><tr><th class=\"tdhistory983243\" style= \"background: rgba(243, 243, 243, 0.75)\">3</th><td class=\"tdhistory983243\">4</td><td class=\"tdhistory983243\">307.75010648005764</td></tr><tr><th class=\"tdhistory983243\" style= \"background: rgba(243, 243, 243, 0.75)\">4</th><td class=\"tdhistory983243\">5</td><td class=\"tdhistory983243\">294.3150860189776</td></tr><tr><th class=\"tdhistory983243\" style= \"background: rgba(243, 243, 243, 0.75)\">5</th><td class=\"tdhistory983243\">6</td><td class=\"tdhistory983243\">288.62804626485087</td></tr><tr><th class=\"tdhistory983243\" style= \"background: rgba(243, 243, 243, 0.75)\">6</th><td class=\"tdhistory983243\">7</td><td class=\"tdhistory983243\">278.87284716092734</td></tr><tr><th class=\"tdhistory983243\" style= \"background: rgba(243, 243, 243, 0.75)\">7</th><td class=\"tdhistory983243\">8</td><td class=\"tdhistory983243\">270.5837365413063</td></tr></tbody></table></div>"
      ]
     },
     "execution_count": 28,
     "metadata": {
      "application/vnd.teradata.resultset": "{\"resultSetID\":\"/home/jovyan/JupyterLabRoot/Teradata/Resultsets/2024.05.23_17.52.03.886_UTC\",\"historyID\":27,\"chunkID\":\"00001\",\"sessionid\":\"\",\"portnum\":\"\",\"dockermode\":\"docker\",\"totalRowCount\":7,\"chunkCount\":0,\"rowLimit\":0,\"columnMetadata\":[{\"columnName\":\"K\",\"columnTypeName\":\"VARCHAR\",\"length\":1,\"scale\":1},{\"columnNumber\":1,\"columnName\":\"SUM_WITHINSS\",\"columnTypeName\":\"FLOAT\"}]}"
     },
     "output_type": "execute_result"
    }
   ],
   "source": [
    "SELECT '2' as K, SUM(td_withinss_kmeans) as SUM_WITHINSS FROM TD_KMeans (\n",
    "    ON embedded_data AS InputTable \n",
    "USING\n",
    "    IdColumn('comment_id') \n",
    "    TargetColumns('[1:49]') \n",
    "    NumClusters(2)\n",
    "    StopThreshold(0.0295) \n",
    "    MaxIterNum(10)\n",
    ")AS dt\n",
    "\n",
    "UNION ALL\n",
    "\n",
    "SELECT '3' as K, SUM(td_withinss_kmeans) as SUM_WITHINSS FROM TD_KMeans (\n",
    "    ON embedded_data AS InputTable \n",
    "USING\n",
    "    IdColumn('comment_id') \n",
    "    TargetColumns('[1:49]') \n",
    "    NumClusters(3)\n",
    "    StopThreshold(0.0295) \n",
    "MaxIterNum(10)\n",
    ")AS dt\n",
    "\n",
    "UNION ALL\n",
    "\n",
    "SELECT '4' as K, SUM(td_withinss_kmeans) as SUM_WITHINSS FROM TD_KMeans (\n",
    "    ON embedded_data AS InputTable \n",
    "USING\n",
    "    IdColumn('comment_id') \n",
    "    TargetColumns('[1:49]') \n",
    "    NumClusters(4)\n",
    "    StopThreshold(0.0295) \n",
    "MaxIterNum(10)\n",
    ")AS dt\n",
    "\n",
    "UNION ALL\n",
    "\n",
    "SELECT '5' as K, SUM(td_withinss_kmeans) as SUM_WITHINSS FROM TD_KMeans (\n",
    "    ON embedded_data AS InputTable \n",
    "USING\n",
    "    IdColumn('comment_id') \n",
    "    TargetColumns('[1:49]') \n",
    "    NumClusters(5)\n",
    "    StopThreshold(0.0295) \n",
    "MaxIterNum(10)\n",
    ")AS dt\n",
    "\n",
    "UNION ALL\n",
    "\n",
    "SELECT '6' as K, SUM(td_withinss_kmeans) as SUM_WITHINSS FROM TD_KMeans (\n",
    "    ON embedded_data AS InputTable \n",
    "USING\n",
    "    IdColumn('comment_id') \n",
    "    TargetColumns('[1:49]') \n",
    "    NumClusters(6)\n",
    "    StopThreshold(0.0295) \n",
    "MaxIterNum(10)\n",
    ")AS dt\n",
    "\n",
    "UNION ALL\n",
    "\n",
    "SELECT '7' as K, SUM(td_withinss_kmeans) as SUM_WITHINSS FROM TD_KMeans (\n",
    "    ON embedded_data AS InputTable \n",
    "USING\n",
    "    IdColumn('comment_id') \n",
    "    TargetColumns('[1:49]') \n",
    "    NumClusters(7)\n",
    "    StopThreshold(0.0295) \n",
    "MaxIterNum(10)\n",
    ")AS dt\n",
    "\n",
    "UNION ALL\n",
    "\n",
    "SELECT '8' as K, SUM(td_withinss_kmeans) as SUM_WITHINSS FROM TD_KMeans (\n",
    "    ON embedded_data AS InputTable \n",
    "USING\n",
    "    IdColumn('comment_id') \n",
    "    TargetColumns('[1:49]') \n",
    "    NumClusters(8)\n",
    "    StopThreshold(0.0295) \n",
    "MaxIterNum(10)\n",
    ")AS dt;"
   ]
  },
  {
   "cell_type": "markdown",
   "metadata": {},
   "source": [
    "<hr>\n",
    "<p style = 'font-size:20px;font-family:Arial;color:#00233C'><b>Step 3 - Find the ideal number of Customer Segments</b></p>\n",
    "\n",
    "<p style = 'font-size:16px;font-family:Arial;color:#00233C'>A simple plot will show the \"elbow\" point indicating an ideal number of clusters or segments.</p>"
   ]
  },
  {
   "cell_type": "code",
   "execution_count": 29,
   "metadata": {},
   "outputs": [
    {
     "data": {
      "application/vnd.vegalite.v3+json": {
       "$schema": "https://vega.github.io/schema/vega-lite/v3.json",
       "data": {
        "format": {
         "type": "csv"
        },
        "values": "\"K\",\"SUM_WITHINSS\"\n\"2\",\"384.9951647140515\"\n\"3\",\"333.1963994441012\"\n\"4\",\"307.75010648005764\"\n\"5\",\"294.3150860189776\"\n\"6\",\"288.62804626485087\"\n\"7\",\"278.87284716092734\"\n\"8\",\"270.5837365413063\"\n"
       },
       "encoding": {
        "x": {
         "axis": {
          "grid": true,
          "title": "K"
         },
         "field": "K",
         "type": "nominal"
        },
        "y": {
         "axis": {
          "grid": true,
          "title": "SUM_WITHINSS"
         },
         "field": "SUM_WITHINSS",
         "type": "quantitative"
        }
       },
       "height": "500",
       "mark": {
        "color": "#4C78A8",
        "type": "line"
       },
       "title": "WCSS per k",
       "width": "500"
      },
      "image/png": "[encoded data removed]"
     },
     "execution_count": 29,
     "metadata": {
      "application/vnd.teradata.resultset": ""
     },
     "output_type": "execute_result"
    }
   ],
   "source": [
    "%chart x=K, y=SUM_WITHINSS, mark=line, height=500, width=500, title=\"WCSS per k\""
   ]
  },
  {
   "cell_type": "markdown",
   "metadata": {},
   "source": [
    "<hr>\n",
    "<p style = 'font-size:20px;font-family:Arial;color:#00233C'><b>Conclusion</b></p>\n",
    "\n",
    "<p style = 'font-size:16px;font-family:Arial;color:#00233C'>From our simple demonstration above, we can see how data practitioners can rapidly derive powerful and unique predictive features by combining the latest AI with traditional Machine Learning <b>at scale</b>.  Furthermore, we can easily operationalize this process by combining this vector embedding and segmentation into traditional Customer 360, analytics, or additional predicitve modeling tasks - all on the same platform.</p>"
   ]
  },
  {
   "cell_type": "markdown",
   "metadata": {},
   "source": [
    "<hr>\n",
    "<p style = 'font-size:20px;font-family:Arial;color:#00233C'><b>Cleanup</b></p>"
   ]
  },
  {
   "cell_type": "code",
   "execution_count": 30,
   "metadata": {},
   "outputs": [
    {
     "data": {
      "text/plain": [
       "Success: 0 rows affected"
      ]
     },
     "execution_count": 30,
     "metadata": {
      "application/vnd.teradata.resultset": ""
     },
     "output_type": "execute_result"
    }
   ],
   "source": [
    "DROP TABLE embedded_data;"
   ]
  },
  {
   "cell_type": "code",
   "execution_count": 31,
   "metadata": {},
   "outputs": [
    {
     "name": "stdout",
     "output_type": "stream",
     "text": [
      "Success: 'unlimited' disconnected"
     ]
    }
   ],
   "source": [
    "%disconnect unlimited"
   ]
  },
  {
   "cell_type": "code",
   "execution_count": null,
   "metadata": {},
   "outputs": [],
   "source": []
  }
 ],
 "metadata": {
  "kernelspec": {
   "display_name": "Teradata SQL",
   "language": "Teradata SQL",
   "name": "teradatasql"
  },
  "language_info": {
   "codemirror_mode": "Teradata SQL",
   "file_extension": ".tdrs",
   "mimetype": "application/vnd.teradata.resultset",
   "name": "Teradata SQL",
   "nbconvert_exporter": "",
   "pygments_lexer": "",
   "version": "16.20"
  }
 },
 "nbformat": 4,
 "nbformat_minor": 4
}
