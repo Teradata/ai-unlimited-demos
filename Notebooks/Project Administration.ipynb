{
 "cells": [
  {
   "cell_type": "markdown",
   "id": "other-ambassador",
   "metadata": {},
   "source": [
    "<header>\n",
    "   <p  style='font-size:36px;font-family:Arial; color:#F0F0F0; background-color: #00233c; padding-left: 20pt; padding-top: 20pt;padding-bottom: 10pt; padding-right: 20pt;'>\n",
    "       AI Unlimited project workflow\n",
    "  <br>\n",
    "       <img id=\"teradata-logo\" src=\"images/TeradataLogo.png\" alt=\"Teradata\" style=\"width: 125px; height: auto; margin-top: 20pt;\">\n",
    "    </p>\n",
    "</header>\n",
    "<hr>\n",
    "<br>\n",
    "<p style = 'font-size:16px;font-family:Arial;color:#00233C'><b>AI Unlimited</b> is a highly-scalable, massively-parallel compute engine which is designed to support API-driven ephemeral on-demand interactive and batch workloads.</p>\n",
    "\n",
    "<p style = 'font-size:16px;font-family:Arial;color:#00233C'>AI Unlimited provides the flexibility and freedom to explore and discover AI innovations and use cases without boundaries. Eliminate the fear of cost overruns and make it easier and faster to move breakthrough ideas from testing into real production environments.</p>\n",
    "    \n",
    "<img src = 'images/AIUnlimitedOverview.png' width = 100%>\n",
    "\n",
    "<hr>\n",
    "<b style = 'font-size:24px;font-family:Arial;color:#00233C'>Demonstration notebook illustrating project lifecycle and client access</b>\n",
    "\n",
    "<p style = 'font-size:16px;font-family:Arial;color:#00233C'>The following demonstration will illustrate the end-to-end lifecycle of the Teradata AI Unlimited engine, including;</p>\n",
    "\n",
    "<ol style = 'font-size:16px;font-family:Arial;color:#00233C'>\n",
    "    <li>Project Administration</li>\n",
    "    <li>Engine Deployment</li>\n",
    "    <li>Project Termination</li>\n",
    "    </ol>\n",
    "    \n",
    "<hr>\n",
    "<p style = 'font-size:20px;font-family:Arial;color:#00233C'><b>Services Architecture</b></p>\n",
    "\n",
    "<p style = 'font-size:16px;font-family:Arial;color:#00233C'>AI Unlimited requires a lightweight set of services that can be deployed and configured to run in Public or Private Clouds or even a desktop hosting docker services.  <a href = 'https://github.com/Teradata/ai-unlimited'>Teradata GitHub</a> provides templates and instructions for the different deployment types.</p>\n",
    "\n",
    "<p style = 'font-size:16px;font-family:Arial;color:#00233C'>For this demonstration environment, all components have been deployed into AWS.  However, components may not all need to be in the same environment</p>\n",
    "\n",
    "<table style = 'width:100%;table-layout:fixed;'>\n",
    "    <tr><td style = 'vertical-align:top' width = '40%'>\n",
    "            <ol style = 'font-size:16px;font-family:Arial;color:#00233C'>\n",
    "                <li><b>GitHub/GitLab.</b> The AI Unlimited service uses Git for user authorization and for storing project metadata artifacts such as sql schemas, IP whitelist ranges, etc.</li>\n",
    "                <li><b>Workspaces.</b>  Workspaces is a Docker-based service that provides project lifecycle management in conjunction with Git</li>\n",
    "                <li><b>CLI.</b>  Teradata provides a <a href = 'https://quickstarts.teradata.com/ai-unlimited/using-ai-unlimited-workspace-cli.html'>command-line tool</a> for accessing the workspaces services</li>\n",
    "                <li><b>JupyterLab.</b>  Teradata has extended the SQL plugin for Jupyter Lab to support AI Unlimited project automation APIs.  This allows developers to work in a single interface to administer the project lifecycle and analytic tasks</li>\n",
    "                <li><b>Engine.</b>  The MPP analytic engine can be deployed with multiple instance size options with an unlimited cluster size (number of instances).  Deployment is controlled via workspaces APIs in the CLI or Jupyter</li>\n",
    "                <li><b>Object Storage.</b> The analytic engines are designed to be stateless.  All data is read from, or persisted to object storage - either in open file format or open table format</li>\n",
    "            </ol>\n",
    "        </td><td><img src = 'images/ServicesArchitecture.png' width = '600'></td></tr>\n",
    "    </table>"
   ]
  },
  {
   "cell_type": "markdown",
   "id": "attached-pocket",
   "metadata": {},
   "source": [
    "<hr>\n",
    "<p style = 'font-size:20px;font-family:Arial;color:#00233C'><b>Step 1 - Project Administration</b></p>\n",
    "\n",
    "<p style = 'font-size:16px;font-family:Arial;color:#00233C'>AI Unlimited deployments are organized around <b>projects</b>.  Projects metadata (schema and deployment metadata) is stored in a repository that is automatically created at project instantiation.  This metadata is backed up each time the project is terminated, and cal also be explicitly backed up using API commands.</p>\n",
    "\n",
    "<p style = 'font-size:16px;font-family:Arial;color:#00233C'>Note - all of the Jupyter cell magics used below for workspaces interactions have an analagous CLI command</p>\n",
    "\n",
    "<hr>\n",
    "<p style = 'font-size:18px;font-family:Arial;color:#00233C'><b>Getting Help</b></p>\n",
    "\n",
    "<p style = 'font-size:16px;font-family:Arial;color:#00233C'>Cell magics help is available using <b>%help</b> and <b>%help command</b></p>"
   ]
  },
  {
   "cell_type": "code",
   "execution_count": null,
   "id": "constant-bolivia",
   "metadata": {
    "tags": []
   },
   "outputs": [],
   "source": [
    "%help workspaces_config"
   ]
  },
  {
   "cell_type": "markdown",
   "id": "skilled-mobile",
   "metadata": {},
   "source": [
    "<hr>\n",
    "<p style = 'font-size:18px;font-family:Arial;color:#00233C'><b>1.1 Configure workspace connection</b></p>\n",
    "\n",
    "<p style = 'font-size:16px;font-family:Arial;color:#00233C'>This is typically a one-time operation.  Use the workspaces service hostname or IP address and API key from the workspaces UI.  In this example, the host is the internal IP address for the server hosting the workspaces service, since this Jupyter notebook is hosted on the same server inside an AWS VPC.  If this was an external Jupyter instance, one would use the public IP or hostname.</p>"
   ]
  },
  {
   "cell_type": "code",
   "execution_count": null,
   "id": "apparent-housing",
   "metadata": {
    "tags": []
   },
   "outputs": [],
   "source": [
    "%workspaces_config host=XXX.XXX.XXX.XXX:3282, apikey=\"EXAMPLE\", withtls=T"
   ]
  },
  {
   "cell_type": "markdown",
   "id": "instant-reservoir",
   "metadata": {},
   "source": [
    "<hr>\n",
    "<p style = 'font-size:18px;font-family:Arial;color:#00233C'><b>1.2 List available projects</b></p>\n",
    "\n",
    "<p style = 'font-size:16px;font-family:Arial;color:#00233C'>List all existing projects in this workspace git configuration.  If the user wishes to use an existing project, skip down to the deployment section.</p>"
   ]
  },
  {
   "cell_type": "code",
   "execution_count": null,
   "id": "statewide-animation",
   "metadata": {
    "tags": []
   },
   "outputs": [],
   "source": [
    "%project_list"
   ]
  },
  {
   "cell_type": "markdown",
   "id": "female-campaign",
   "metadata": {},
   "source": [
    "<p style = 'font-size:16px;font-family:Arial;color:#00233C'><b>Optional</b> set a custom project name variable value for this demonstration notebook.</p>"
   ]
  },
  {
   "cell_type": "code",
   "execution_count": null,
   "id": "secret-danger",
   "metadata": {
    "tags": []
   },
   "outputs": [],
   "source": [
    "%var pname=td_demo"
   ]
  },
  {
   "cell_type": "markdown",
   "id": "weird-science",
   "metadata": {},
   "source": [
    "<hr>\n",
    "<p style = 'font-size:18px;font-family:Arial;color:#00233C'><b>1.3 Create a new project</b></p>\n",
    "\n",
    "<p style = 'font-size:16px;font-family:Arial;color:#00233C'>Provide a project name in the %project_create command.  Projects can be created in any environment where the the workspaces service has been configured with the appropriate credentials.</p>  \n",
    "\n",
    "<p style = 'font-size:16px;font-family:Arial;color:#00233C'>Additionally, all projects need at least <b>one</b> authorization object before it can be deployed.  Use the %project_auth_create command if needed.</p>  \n",
    "\n",
    "<p style = 'font-size:16px;font-family:Arial;color:#00233C'>Note also there is a delete command here in case the user wants to refresh the demonstration.</p>"
   ]
  },
  {
   "cell_type": "code",
   "execution_count": null,
   "id": "after-contemporary",
   "metadata": {
    "tags": []
   },
   "outputs": [],
   "source": [
    "%project_delete project=${pname}"
   ]
  },
  {
   "cell_type": "code",
   "execution_count": null,
   "id": "bronze-floating",
   "metadata": {
    "tags": []
   },
   "outputs": [],
   "source": [
    "%project_create project=${pname}, env=aws"
   ]
  },
  {
   "cell_type": "code",
   "execution_count": null,
   "id": "focused-illness",
   "metadata": {
    "tags": []
   },
   "outputs": [],
   "source": [
    "%project_auth_create name=SampleAuth, project=${pname}, key=\"EXAMPLE\", secret=\"EXAMPLE\", region=us-west-2"
   ]
  },
  {
   "cell_type": "code",
   "execution_count": null,
   "id": "religious-australian",
   "metadata": {
    "tags": []
   },
   "outputs": [],
   "source": [
    "%project_auth_list project=${pname}"
   ]
  },
  {
   "cell_type": "markdown",
   "id": "editorial-mayor",
   "metadata": {},
   "source": [
    "<hr>\n",
    "<p style = 'font-size:20px;font-family:Arial;color:#00233C'><b>Step 2 - Deploy a project</b></p>\n",
    "\n",
    "<p style = 'font-size:16px;font-family:Arial;color:#00233C'>Use the %project_engine_deploy command to launch a desired number of instances and cluster size.  This command can take some amount of time and when complete it will return:</p>\n",
    "\n",
    "<ul style = 'font-size:16px;font-family:Arial;color:#00233C'>\n",
    "    <li><b>Public IP address</b> of the Lead engine instance.  Use this to connect external tools</li>\n",
    "    <li><b>Private IP address</b> of the engine.  Use this for client tools running inside the VPC where the engine has been deployed, or if the user has set up VPC peering</li>\n",
    "    <li><b>User or Users.</b>  These are returned based on the the users set up as collaborators of the git repo that represents the project</li>\n",
    "    <li><b>Password or Passwords.</b>  An automatically generated string.</li>\n",
    "    </ul>\n",
    "\n",
    "<p style = 'font-size:16px;font-family:Arial;color:#00233C'>Note - all of the Jupyter cell magics used below to instrument workspace operations have an analagous CLI command.</p>"
   ]
  },
  {
   "cell_type": "code",
   "execution_count": null,
   "id": "tight-sixth",
   "metadata": {
    "tags": []
   },
   "outputs": [],
   "source": [
    "%project_engine_deploy project=${pname}, size=small"
   ]
  },
  {
   "cell_type": "code",
   "execution_count": null,
   "id": "herbal-boulder",
   "metadata": {
    "tags": []
   },
   "outputs": [],
   "source": [
    "%project_engine_suspend project=${pname}"
   ]
  },
  {
   "cell_type": "markdown",
   "id": "peaceful-baseline",
   "metadata": {},
   "source": [
    "<hr>\n",
    "<p style = 'font-size:18px;font-family:Arial;color:#00233C'><b>2.1 Engine metadata commands</b></p>\n",
    "\n",
    "<p style = 'font-size:16px;font-family:Arial;color:#00233C'>Once a project has been deployed, the user can interrogate the project engine details and list the authorized users/passwords.</p>  "
   ]
  },
  {
   "cell_type": "code",
   "execution_count": null,
   "id": "public-input",
   "metadata": {
    "tags": []
   },
   "outputs": [],
   "source": [
    "%project_engine_list project=${pname}"
   ]
  },
  {
   "cell_type": "code",
   "execution_count": null,
   "id": "decimal-robert",
   "metadata": {
    "tags": []
   },
   "outputs": [],
   "source": [
    "%project_user_list project=${pname}"
   ]
  },
  {
   "cell_type": "markdown",
   "id": "sitting-crest",
   "metadata": {},
   "source": [
    "<hr>\n",
    "<p style = 'font-size:20px;font-family:Arial;color:#00233C'><b>Step 3 - Shut down the engines</b></p>\n",
    "\n",
    "<p style = 'font-size:16px;font-family:Arial;color:#00233C'>It is <b>Critical</b> to shut down the analytics engines when the user or application has completed their workflow.</p>\n",
    "\n",
    "<p style = 'font-size:16px;font-family:Arial;color:#00233C'>Backup is automatic when the project is suspended, the command is provided here for informational purposes.</p>"
   ]
  },
  {
   "cell_type": "code",
   "execution_count": null,
   "id": "textile-durham",
   "metadata": {
    "tags": []
   },
   "outputs": [],
   "source": [
    "%project_backup project=${pname}"
   ]
  },
  {
   "cell_type": "code",
   "execution_count": null,
   "id": "actual-agriculture",
   "metadata": {
    "tags": []
   },
   "outputs": [],
   "source": [
    "%project_engine_suspend project=${pname}"
   ]
  },
  {
   "cell_type": "code",
   "execution_count": null,
   "id": "bottom-incentive",
   "metadata": {},
   "outputs": [],
   "source": [
    "%help project_delete "
   ]
  },
  {
   "cell_type": "code",
   "execution_count": null,
   "id": "optical-remedy",
   "metadata": {},
   "outputs": [],
   "source": [
    "%project_delete project=${pname}"
   ]
  },
  {
   "cell_type": "code",
   "execution_count": null,
   "id": "injured-moment",
   "metadata": {},
   "outputs": [],
   "source": []
  }
 ],
 "metadata": {
  "kernelspec": {
   "display_name": "Teradata SQL",
   "language": "Teradata SQL",
   "name": "teradatasql"
  },
  "language_info": {
   "codemirror_mode": "Teradata SQL",
   "file_extension": ".tdrs",
   "mimetype": "application/vnd.teradata.resultset",
   "name": "Teradata SQL",
   "nbconvert_exporter": "",
   "pygments_lexer": "",
   "version": "16.20"
  }
 },
 "nbformat": 4,
 "nbformat_minor": 5
}
