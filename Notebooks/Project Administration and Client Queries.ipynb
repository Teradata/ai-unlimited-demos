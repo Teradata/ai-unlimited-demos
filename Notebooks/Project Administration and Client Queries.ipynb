{
 "cells": [
  {
   "cell_type": "markdown",
   "id": "theoretical-shepherd",
   "metadata": {},
   "source": [
    "<header>\n",
    "   <p  style='font-size:36px;font-family:Arial; color:#F0F0F0; background-color: #00233c; padding-left: 20pt; padding-top: 20pt;padding-bottom: 10pt; padding-right: 20pt;'>\n",
    "       AI Unlimited end-to-end project workflow\n",
    "  <br>\n",
    "       <img id=\"teradata-logo\" src=\"images/TeradataLogo.png\" alt=\"Teradata\" style=\"width: 125px; height: auto; margin-top: 20pt;\">\n",
    "    </p>\n",
    "</header>\n",
    "<hr>\n",
    "<br>\n",
    "<p style = 'font-size:16px;font-family:Arial;color:#00233C'><b>AI Unlimited</b> is a highly-scalable, massively-parallel compute engine which is designed to support API-driven ephemeral on-demand interactive and batch workloads.</p>\n",
    "\n",
    "<p style = 'font-size:16px;font-family:Arial;color:#00233C'>AI Unlimited provides the flexibility and freedom to explore and discover AI innovations and use cases without boundaries. Eliminate the fear of cost overruns and make it easier and faster to move breakthrough ideas from testing into real production environments.</p>\n",
    "    \n",
    "<img src = 'images/AIUnlimitedOverview.png' width = 100%>\n",
    "\n",
    "<hr>\n",
    "<b style = 'font-size:24px;font-family:Arial;color:#00233C'>Demonstration notebook illustrating project lifecycle and client access</b>\n",
    "\n",
    "<p style = 'font-size:16px;font-family:Arial;color:#00233C'>The following demonstration will illustrate the end-to-end lifecycle of the Teradata AI Unlimited engine, including;</p>\n",
    "\n",
    "<ol style = 'font-size:16px;font-family:Arial;color:#00233C'>\n",
    "    <li>Project Administration</li>\n",
    "    <li>Engine Deployment</li>\n",
    "    <li>Client Access and Queries</li>\n",
    "    <li>Project Termination</li>\n",
    "    </ol>\n",
    "    \n",
    "<hr>\n",
    "<p style = 'font-size:20px;font-family:Arial;color:#00233C'><b>Services Architecture</b></p>\n",
    "\n",
    "<p style = 'font-size:16px;font-family:Arial;color:#00233C'>AI Unlimited requires a lightweight set of services that can be deployed and configured to run in Public or Private Clouds or even a desktop hosting docker services.  <a href = 'https://github.com/Teradata/ai-unlimited'>Teradata GitHub</a> provides templates and instructions for the different deployment types.</p>\n",
    "\n",
    "<p style = 'font-size:16px;font-family:Arial;color:#00233C'>For this demonstration environment, all components have been deployed into AWS.  However, components may not all need to be in the same environment</p>\n",
    "\n",
    "<table style = 'width:100%;table-layout:fixed;'>\n",
    "    <tr><td style = 'vertical-align:top' width = '40%'>\n",
    "            <ol style = 'font-size:16px;font-family:Arial;color:#00233C'>\n",
    "                <li><b>GitHub/GitLab.</b> The AI Unlimited service uses Git for user authorization and for storing project metadata artifacts such as sql schemas, IP whitelist ranges, etc.</li>\n",
    "                <li><b>Workspaces.</b>  Workspaces is a Docker-based service that provides project lifecycle management in conjunction with Git</li>\n",
    "                <li><b>CLI.</b>  Teradata provides a <a href = 'https://quickstarts.teradata.com/ai-unlimited/using-ai-unlimited-workspace-cli.html'>command-line tool</a> for accessing the workspaces services</li>\n",
    "                <li><b>JupyterLab.</b>  Teradata has extended the SQL plugin for Jupyter Lab to support AI Unlimited project automation APIs.  This allows developers to work in a single interface to administer the project lifecycle and analytic tasks</li>\n",
    "                <li><b>Engine.</b>  The MPP analytic engine can be deployed with multiple instance size options with an unlimited cluster size (number of instances).  Deployment is controlled via workspaces APIs in the CLI or Jupyter</li>\n",
    "                <li><b>Object Storage.</b> The analytic engines are designed to be stateless.  All data is read from, or persisted to object storage - either in open file format or open table format</li>\n",
    "            </ol>\n",
    "        </td><td><img src = 'images/ServicesArchitecture.png' width = '600'></td></tr>\n",
    "    </table>"
   ]
  },
  {
   "cell_type": "markdown",
   "id": "collective-bench",
   "metadata": {},
   "source": [
    "<hr>\n",
    "<p style = 'font-size:20px;font-family:Arial;color:#00233C'><b>Step 1 - Project Administration</b></p>\n",
    "\n",
    "<p style = 'font-size:16px;font-family:Arial;color:#00233C'>AI Unlimited deployments are organized around <b>projects</b>.  Projects metadata (schema and deployment metadata) is stored in a repository that is automatically created at project instantiation.  This metadata is backed up each time the project is terminated, and cal also be explicitly backed up using API commands.</p>\n",
    "\n",
    "<p style = 'font-size:16px;font-family:Arial;color:#00233C'>Note - all of the Jupyter cell magics used below for workspaces interactions have an analagous CLI command</p>\n",
    "\n",
    "<hr>\n",
    "<p style = 'font-size:18px;font-family:Arial;color:#00233C'><b>Getting Help</b></p>\n",
    "\n",
    "<p style = 'font-size:16px;font-family:Arial;color:#00233C'>Cell magics help is available using <b>%help</b> and <b>%help command</b></p>"
   ]
  },
  {
   "cell_type": "code",
   "execution_count": null,
   "id": "fitted-snake",
   "metadata": {
    "tags": []
   },
   "outputs": [],
   "source": [
    "%help workspaces_config"
   ]
  },
  {
   "cell_type": "markdown",
   "id": "applicable-reynolds",
   "metadata": {},
   "source": [
    "<hr>\n",
    "<p style = 'font-size:18px;font-family:Arial;color:#00233C'><b>1.1 Configure workspace connection</b></p>\n",
    "\n",
    "<p style = 'font-size:16px;font-family:Arial;color:#00233C'>This is typically a one-time operation.  Use the workspaces service hostname or IP address and API key from the workspaces UI.  In this example, the host is the internal IP address for the server hosting the workspaces service, since this Jupyter notebook is hosted on the same server inside an AWS VPC.  If this was an external Jupyter instance, one would use the public IP or hostname.</p>"
   ]
  },
  {
   "cell_type": "code",
   "execution_count": null,
   "id": "impressive-maryland",
   "metadata": {
    "tags": []
   },
   "outputs": [],
   "source": [
    "%workspaces_config host=XXX.XXX.XXX.XXX:3282, apikey=\"EXAMPLE\", withtls=T"
   ]
  },
  {
   "cell_type": "markdown",
   "id": "tamil-disco",
   "metadata": {},
   "source": [
    "<hr>\n",
    "<p style = 'font-size:18px;font-family:Arial;color:#00233C'><b>1.2 List available projects</b></p>\n",
    "\n",
    "<p style = 'font-size:16px;font-family:Arial;color:#00233C'>List all existing projects in this workspace git configuration.  If the user wishes to use an existing project, skip down to the deployment section.</p>"
   ]
  },
  {
   "cell_type": "code",
   "execution_count": null,
   "id": "missing-bahamas",
   "metadata": {
    "tags": []
   },
   "outputs": [],
   "source": [
    "%project_list"
   ]
  },
  {
   "cell_type": "markdown",
   "id": "fabulous-musical",
   "metadata": {},
   "source": [
    "<p style = 'font-size:16px;font-family:Arial;color:#00233C'><b>Optional</b> set a custom project name variable value for this demonstration notebook.</p>"
   ]
  },
  {
   "cell_type": "code",
   "execution_count": null,
   "id": "appreciated-concentrate",
   "metadata": {
    "tags": []
   },
   "outputs": [],
   "source": [
    "%var pname=td_demo"
   ]
  },
  {
   "cell_type": "markdown",
   "id": "powered-jimmy",
   "metadata": {},
   "source": [
    "<hr>\n",
    "<p style = 'font-size:18px;font-family:Arial;color:#00233C'><b>1.3 Create a new project</b></p>\n",
    "\n",
    "<p style = 'font-size:16px;font-family:Arial;color:#00233C'>Provide a project name in the %project_create command.  Projects can be created in any environment where the the workspaces service has been configured with the appropriate credentials.</p>  \n",
    "\n",
    "<p style = 'font-size:16px;font-family:Arial;color:#00233C'>Additionally, all projects need at least <b>one</b> authorization object before it can be deployed.  Use the %project_auth_create command if needed.</p>  \n",
    "\n",
    "<p style = 'font-size:16px;font-family:Arial;color:#00233C'>Note also there is a delete command here in case the user wants to refresh the demonstration.</p>"
   ]
  },
  {
   "cell_type": "code",
   "execution_count": null,
   "id": "flexible-story",
   "metadata": {
    "tags": []
   },
   "outputs": [],
   "source": [
    "%project_delete project=${pname}"
   ]
  },
  {
   "cell_type": "code",
   "execution_count": null,
   "id": "about-boston",
   "metadata": {
    "tags": []
   },
   "outputs": [],
   "source": [
    "%project_create project=${pname}, env=aws"
   ]
  },
  {
   "cell_type": "code",
   "execution_count": null,
   "id": "developing-disney",
   "metadata": {
    "tags": []
   },
   "outputs": [],
   "source": [
    "%project_auth_create name=SampleAuth, project=${pname}, key=\"EXAMPLE\", secret=\"EXAMPLE\", region=us-west-2"
   ]
  },
  {
   "cell_type": "code",
   "execution_count": null,
   "id": "moving-mobile",
   "metadata": {
    "tags": []
   },
   "outputs": [],
   "source": [
    "%project_auth_list project=${pname}"
   ]
  },
  {
   "cell_type": "markdown",
   "id": "acute-professor",
   "metadata": {},
   "source": [
    "<hr>\n",
    "<p style = 'font-size:20px;font-family:Arial;color:#00233C'><b>Step 2 - Deploy a project</b></p>\n",
    "\n",
    "<p style = 'font-size:16px;font-family:Arial;color:#00233C'>Use the %project_engine_deploy command to launch a desired number of instances and cluster size.  This command can take some amount of time and when complete it will return:</p>\n",
    "\n",
    "<ul style = 'font-size:16px;font-family:Arial;color:#00233C'>\n",
    "    <li><b>Public IP address</b> of the Lead engine instance.  Use this to connect external tools</li>\n",
    "    <li><b>Private IP address</b> of the engine.  Use this for client tools running inside the VPC where the engine has been deployed, or if the user has set up VPC peering</li>\n",
    "    <li><b>User or Users.</b>  These are returned based on the the users set up as collaborators of the git repo that represents the project</li>\n",
    "    <li><b>Password or Passwords.</b>  An automatically generated string.</li>\n",
    "    </ul>\n",
    "\n",
    "<p style = 'font-size:16px;font-family:Arial;color:#00233C'>Note - all of the Jupyter cell magics used below to instrument workspace operations have an analagous CLI command.</p>"
   ]
  },
  {
   "cell_type": "code",
   "execution_count": null,
   "id": "continued-banner",
   "metadata": {
    "tags": []
   },
   "outputs": [],
   "source": [
    "%project_engine_deploy project=${pname}, size=small"
   ]
  },
  {
   "cell_type": "code",
   "execution_count": null,
   "id": "intense-egypt",
   "metadata": {
    "tags": []
   },
   "outputs": [],
   "source": [
    "%project_engine_suspend project=${pname}"
   ]
  },
  {
   "cell_type": "markdown",
   "id": "patient-surface",
   "metadata": {},
   "source": [
    "<hr>\n",
    "<p style = 'font-size:18px;font-family:Arial;color:#00233C'><b>2.1 Engine metadata commands</b></p>\n",
    "\n",
    "<p style = 'font-size:16px;font-family:Arial;color:#00233C'>Once a project has been deployed, the user can interrogate the project engine details and list the authorized users/passwords.</p>  "
   ]
  },
  {
   "cell_type": "code",
   "execution_count": null,
   "id": "accomplished-bernard",
   "metadata": {
    "tags": []
   },
   "outputs": [],
   "source": [
    "%project_engine_list project=${pname}"
   ]
  },
  {
   "cell_type": "code",
   "execution_count": null,
   "id": "least-today",
   "metadata": {
    "tags": []
   },
   "outputs": [],
   "source": [
    "%project_user_list project=${pname}"
   ]
  },
  {
   "cell_type": "markdown",
   "id": "voluntary-richards",
   "metadata": {},
   "source": [
    "<hr>\n",
    "<p style = 'font-size:20px;font-family:Arial;color:#00233C'><b>Step 3 - Connect a client session</b></p>\n",
    "\n",
    "<p style = 'font-size:16px;font-family:Arial;color:#00233C'>At this point the user can connect to the public or private IP with the generated user and password.  This connection behaves like any other driver-based connection; and users can use tool, IDE, and/or language of choice; including Python, R, SQL, etc.</p>\n",
    "\n",
    "<p style = 'font-size:16px;font-family:Arial;color:#00233C'>If the user is in the same Jupyter Lab environment where the engine was deployed, an automatically updated connection alias can be used.  Discover those using the <b>%lsconnect</b> magic, and connect using <b>%connect</b> magic.</p>"
   ]
  },
  {
   "cell_type": "code",
   "execution_count": null,
   "id": "photographic-allen",
   "metadata": {
    "tags": []
   },
   "outputs": [],
   "source": [
    "%lsconnect"
   ]
  },
  {
   "cell_type": "code",
   "execution_count": null,
   "id": "honey-management",
   "metadata": {
    "tags": []
   },
   "outputs": [],
   "source": [
    "%chconnect name=test_private, host=foo.bar.local, user=baz"
   ]
  },
  {
   "cell_type": "code",
   "execution_count": null,
   "id": "romance-tradition",
   "metadata": {
    "tags": []
   },
   "outputs": [],
   "source": [
    "%connect ${pname}_private"
   ]
  },
  {
   "cell_type": "markdown",
   "id": "advance-racing",
   "metadata": {},
   "source": [
    "<hr>\n",
    "<p style = 'font-size:20px;font-family:Arial;color:#00233C'><b>Step 4 - Run analytic workloads</b></p>\n",
    "\n",
    "<p style = 'font-size:16px;font-family:Arial;color:#00233C'>Users can now execute their desired SQL, analytic pipelines, etc.  This examples below will:</p>\n",
    "\n",
    "<ol style = 'font-size:16px;font-family:Arial;color:#00233C'>\n",
    "    <li>Create a simple foreign table that points at a public S3 bucket containing JSON-formatted data</li>\n",
    "    <li>Execute a simple query</li>\n",
    "    <li>Create a view to parse the json-formatted data</li>\n",
    "    <li>Execute a query and visualization using the %chart magic</li>\n",
    "    <li>Disconnect the user session</li>\n",
    "    </ol>"
   ]
  },
  {
   "cell_type": "code",
   "execution_count": null,
   "id": "assumed-rachel",
   "metadata": {
    "tags": []
   },
   "outputs": [],
   "source": [
    "CREATE FOREIGN TABLE transaction_data_ft, FALLBACK\n",
    "--,EXTERNAL SECURITY DEFINER TRUSTED SampleAuth\n",
    "USING \n",
    "    (LOCATION ('/s3/trial-datasets.s3.amazonaws.com/FraudReduction/')\n",
    "    );"
   ]
  },
  {
   "cell_type": "code",
   "execution_count": null,
   "id": "premier-transsexual",
   "metadata": {
    "tags": []
   },
   "outputs": [],
   "source": [
    "SELECT TOP 10 * FROM transaction_data_ft;"
   ]
  },
  {
   "cell_type": "code",
   "execution_count": null,
   "id": "future-provincial",
   "metadata": {
    "tags": []
   },
   "outputs": [],
   "source": [
    "REPLACE VIEW transaction_dataV AS\n",
    "    SELECT Payload.txn_id txn_id,\n",
    "                Payload.step step,\n",
    "                Payload.\"type\" \"txn_type\",\n",
    "                CAST(Payload.amount AS FLOAT) amount,\n",
    "                Payload.nameOrig nameOrig,\n",
    "                CAST(Payload.oldbalanceOrig AS FLOAT) oldbalanceOrig,\n",
    "                CAST(Payload.newbalanceOrig AS FLOAT) newbalanceOrig,\n",
    "                Payload.nameDest nameDest,\n",
    "                CAST(Payload.oldbalanceDest AS FLOAT) oldbalanceDest,\n",
    "                CAST(Payload.newbalanceDest AS FLOAT) newbalanceDest,\n",
    "                CAST(Payload.isFraud AS INTEGER) isFraud,\n",
    "                CAST(Payload.isFlaggedFraud AS INTEGER) isFlaggedFraud\n",
    "    FROM transaction_data_ft;"
   ]
  },
  {
   "cell_type": "code",
   "execution_count": null,
   "id": "bronze-bobby",
   "metadata": {
    "tags": []
   },
   "outputs": [],
   "source": [
    "SELECT txn_type, COUNT(isFraud), SUM(isFraud) fraud_txns\n",
    "FROM transaction_dataV \n",
    "\n",
    "GROUP BY 1;"
   ]
  },
  {
   "cell_type": "code",
   "execution_count": null,
   "id": "covered-violation",
   "metadata": {
    "tags": []
   },
   "outputs": [],
   "source": [
    "%chart x=txn_type, y=fraud_txns, title=\"Count of Fraudulent Transactions\""
   ]
  },
  {
   "cell_type": "code",
   "execution_count": null,
   "id": "intensive-requirement",
   "metadata": {
    "tags": []
   },
   "outputs": [],
   "source": [
    "%disconnect ${pname}_private"
   ]
  },
  {
   "cell_type": "markdown",
   "id": "global-listing",
   "metadata": {},
   "source": [
    "<hr>\n",
    "<p style = 'font-size:20px;font-family:Arial;color:#00233C'><b>Step 5 - Shut down the engines</b></p>\n",
    "\n",
    "<p style = 'font-size:16px;font-family:Arial;color:#00233C'>It is <b>Critical</b> to shut down the analytics engines when the user or application has completed their workflow.</p>\n",
    "\n",
    "<p style = 'font-size:16px;font-family:Arial;color:#00233C'>Backup is automatic when the project is suspended, the command is provided here for informational purposes.</p>"
   ]
  },
  {
   "cell_type": "code",
   "execution_count": null,
   "id": "occupational-ordering",
   "metadata": {
    "tags": []
   },
   "outputs": [],
   "source": [
    "%project_backup project=${pname}"
   ]
  },
  {
   "cell_type": "code",
   "execution_count": null,
   "id": "flexible-disclosure",
   "metadata": {
    "tags": []
   },
   "outputs": [],
   "source": [
    "%project_engine_suspend project=${pname}"
   ]
  },
  {
   "cell_type": "code",
   "execution_count": null,
   "id": "nervous-westminster",
   "metadata": {},
   "outputs": [],
   "source": [
    "%help project_delete "
   ]
  },
  {
   "cell_type": "code",
   "execution_count": null,
   "id": "induced-sunrise",
   "metadata": {},
   "outputs": [],
   "source": []
  }
 ],
 "metadata": {
  "kernelspec": {
   "display_name": "Teradata SQL",
   "language": "Teradata SQL",
   "name": "teradatasql"
  },
  "language_info": {
   "codemirror_mode": "Teradata SQL",
   "file_extension": ".tdrs",
   "mimetype": "application/vnd.teradata.resultset",
   "name": "Teradata SQL",
   "nbconvert_exporter": "",
   "pygments_lexer": "",
   "version": "16.20"
  }
 },
 "nbformat": 4,
 "nbformat_minor": 5
}
